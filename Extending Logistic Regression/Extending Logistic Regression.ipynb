{
 "cells": [
  {
   "cell_type": "markdown",
   "id": "997f1d9d",
   "metadata": {},
   "source": [
    "# Lab: Extending Logistic Regression"
   ]
  },
  {
   "cell_type": "markdown",
   "id": "e3851f83",
   "metadata": {},
   "source": [
    "## 1. Preparation and overview:"
   ]
  },
  {
   "cell_type": "markdown",
   "id": "e5d34d4c",
   "metadata": {},
   "source": [
    "### 1.1 Business understanding:"
   ]
  },
  {
   "cell_type": "markdown",
   "id": "93404b53",
   "metadata": {},
   "source": [
    "&emsp; The data was integrated into a dataset and published on Kaggle https://www.kaggle.com/datasets/nancyalaswad90/diamonds-prices by Ms. Nancy Al Aswad. She hoped that the dataset she released could be a good resource of data to practice for those who need it. The original data of diamonds was collected by Baunat https://www.baunat.com/en/diamond-price which helps us understand the relationship between the price of diamonds and various attributes of diamonds. \n",
    "\n",
    "**User cases:**\n",
    "\n",
    "&emsp; Our research on diamonds dataset could satisfy the user in need:\n",
    "1. Whether the price given by the merchant is reasonable according to the various attributes of the diamond the customer wants.\n",
    "2. What kind of diamond is affordable according to the personal budget of customer.\n",
    "3. What kind of diamond is most profitable for diamonds merchant.\n",
    "4. What kind of diamond is most suitable for merchant to recommand base on the average budget of all consumers.\n",
    "\n",
    "&emsp; Our task is to classify all the diamonds in dataset into several levels according to the price per unit carat. Actually, we failed to find a reasonable classification rule based on the price per unit carat. We planned to classify all the diamonds in dataset into four level, using the minimum price per unit, the mean value of minimum and mean of all unit price, the mean value of all price per unit carat,the mean value of mean of all unit price and maximum, the maximum price per unit as boundaries. The classification result showed that there are 15391 instances in the first class, 14756 instances in the second class, 12945 instances in the third class and 7460 instances in the fourth class. We believe that the reason for this situation is that the data is densely distributed before the unit price exceeds a certain value, while after the unit price exceeds a certain value, the data is sparsely distributed. In order to maintain the stability of data distribution in all levels and improve the accuracy, we decided to combine the third and fourth class. It means that we decided to classify all the diamonds in dataset into three level, using the minimum price per unit, the mean value of minimum and mean of all unit price, the mean value of all price per unit carat, the maximum price per unit as boundaries. The accuracy is acceptable between 77 and 83 because various attributes of diamonds will affect the price per unit carat.\n",
    "\n",
    "&emsp; In some circumstances, our model will be deployed for online analysis in the sales process. Some webshops, such as Baunat, could deploy our model to their website. Our model can offer consumers most suitable and affordable diamonds by asking requirements for diamond and their personal budget. In other circumstances, our model also could be used for offline analysis before the diamond processing. After receiving the diamond just unearthed, the diamond processing company can use our model to make a preliminary price estimate for the diamond, then process the diamond with this estimated price as the target value."
   ]
  },
  {
   "cell_type": "markdown",
   "id": "c008c424",
   "metadata": {},
   "source": [
    "### 1.2 Define and prepare the class variables:\n",
    "&emsp; First of all, we should load the same dataset from lab1."
   ]
  },
  {
   "cell_type": "code",
   "execution_count": 1,
   "id": "6c513ea2",
   "metadata": {},
   "outputs": [
    {
     "data": {
      "text/html": [
       "<div>\n",
       "<style scoped>\n",
       "    .dataframe tbody tr th:only-of-type {\n",
       "        vertical-align: middle;\n",
       "    }\n",
       "\n",
       "    .dataframe tbody tr th {\n",
       "        vertical-align: top;\n",
       "    }\n",
       "\n",
       "    .dataframe thead th {\n",
       "        text-align: right;\n",
       "    }\n",
       "</style>\n",
       "<table border=\"1\" class=\"dataframe\">\n",
       "  <thead>\n",
       "    <tr style=\"text-align: right;\">\n",
       "      <th></th>\n",
       "      <th>Unnamed: 0</th>\n",
       "      <th>carat</th>\n",
       "      <th>cut</th>\n",
       "      <th>color</th>\n",
       "      <th>clarity</th>\n",
       "      <th>depth</th>\n",
       "      <th>table</th>\n",
       "      <th>price</th>\n",
       "      <th>x</th>\n",
       "      <th>y</th>\n",
       "      <th>z</th>\n",
       "    </tr>\n",
       "  </thead>\n",
       "  <tbody>\n",
       "    <tr>\n",
       "      <th>0</th>\n",
       "      <td>1</td>\n",
       "      <td>0.23</td>\n",
       "      <td>Ideal</td>\n",
       "      <td>E</td>\n",
       "      <td>SI2</td>\n",
       "      <td>61.5</td>\n",
       "      <td>55.0</td>\n",
       "      <td>326</td>\n",
       "      <td>3.95</td>\n",
       "      <td>3.98</td>\n",
       "      <td>2.43</td>\n",
       "    </tr>\n",
       "    <tr>\n",
       "      <th>1</th>\n",
       "      <td>2</td>\n",
       "      <td>0.21</td>\n",
       "      <td>Premium</td>\n",
       "      <td>E</td>\n",
       "      <td>SI1</td>\n",
       "      <td>59.8</td>\n",
       "      <td>61.0</td>\n",
       "      <td>326</td>\n",
       "      <td>3.89</td>\n",
       "      <td>3.84</td>\n",
       "      <td>2.31</td>\n",
       "    </tr>\n",
       "    <tr>\n",
       "      <th>2</th>\n",
       "      <td>3</td>\n",
       "      <td>0.23</td>\n",
       "      <td>Good</td>\n",
       "      <td>E</td>\n",
       "      <td>VS1</td>\n",
       "      <td>56.9</td>\n",
       "      <td>65.0</td>\n",
       "      <td>327</td>\n",
       "      <td>4.05</td>\n",
       "      <td>4.07</td>\n",
       "      <td>2.31</td>\n",
       "    </tr>\n",
       "    <tr>\n",
       "      <th>3</th>\n",
       "      <td>4</td>\n",
       "      <td>0.29</td>\n",
       "      <td>Premium</td>\n",
       "      <td>I</td>\n",
       "      <td>VS2</td>\n",
       "      <td>62.4</td>\n",
       "      <td>58.0</td>\n",
       "      <td>334</td>\n",
       "      <td>4.20</td>\n",
       "      <td>4.23</td>\n",
       "      <td>2.63</td>\n",
       "    </tr>\n",
       "    <tr>\n",
       "      <th>4</th>\n",
       "      <td>5</td>\n",
       "      <td>0.31</td>\n",
       "      <td>Good</td>\n",
       "      <td>J</td>\n",
       "      <td>SI2</td>\n",
       "      <td>63.3</td>\n",
       "      <td>58.0</td>\n",
       "      <td>335</td>\n",
       "      <td>4.34</td>\n",
       "      <td>4.35</td>\n",
       "      <td>2.75</td>\n",
       "    </tr>\n",
       "    <tr>\n",
       "      <th>...</th>\n",
       "      <td>...</td>\n",
       "      <td>...</td>\n",
       "      <td>...</td>\n",
       "      <td>...</td>\n",
       "      <td>...</td>\n",
       "      <td>...</td>\n",
       "      <td>...</td>\n",
       "      <td>...</td>\n",
       "      <td>...</td>\n",
       "      <td>...</td>\n",
       "      <td>...</td>\n",
       "    </tr>\n",
       "    <tr>\n",
       "      <th>53938</th>\n",
       "      <td>53939</td>\n",
       "      <td>0.86</td>\n",
       "      <td>Premium</td>\n",
       "      <td>H</td>\n",
       "      <td>SI2</td>\n",
       "      <td>61.0</td>\n",
       "      <td>58.0</td>\n",
       "      <td>2757</td>\n",
       "      <td>6.15</td>\n",
       "      <td>6.12</td>\n",
       "      <td>3.74</td>\n",
       "    </tr>\n",
       "    <tr>\n",
       "      <th>53939</th>\n",
       "      <td>53940</td>\n",
       "      <td>0.75</td>\n",
       "      <td>Ideal</td>\n",
       "      <td>D</td>\n",
       "      <td>SI2</td>\n",
       "      <td>62.2</td>\n",
       "      <td>55.0</td>\n",
       "      <td>2757</td>\n",
       "      <td>5.83</td>\n",
       "      <td>5.87</td>\n",
       "      <td>3.64</td>\n",
       "    </tr>\n",
       "    <tr>\n",
       "      <th>53940</th>\n",
       "      <td>53941</td>\n",
       "      <td>0.71</td>\n",
       "      <td>Premium</td>\n",
       "      <td>E</td>\n",
       "      <td>SI1</td>\n",
       "      <td>60.5</td>\n",
       "      <td>55.0</td>\n",
       "      <td>2756</td>\n",
       "      <td>5.79</td>\n",
       "      <td>5.74</td>\n",
       "      <td>3.49</td>\n",
       "    </tr>\n",
       "    <tr>\n",
       "      <th>53941</th>\n",
       "      <td>53942</td>\n",
       "      <td>0.71</td>\n",
       "      <td>Premium</td>\n",
       "      <td>F</td>\n",
       "      <td>SI1</td>\n",
       "      <td>59.8</td>\n",
       "      <td>62.0</td>\n",
       "      <td>2756</td>\n",
       "      <td>5.74</td>\n",
       "      <td>5.73</td>\n",
       "      <td>3.43</td>\n",
       "    </tr>\n",
       "    <tr>\n",
       "      <th>53942</th>\n",
       "      <td>53943</td>\n",
       "      <td>0.70</td>\n",
       "      <td>Very Good</td>\n",
       "      <td>E</td>\n",
       "      <td>VS2</td>\n",
       "      <td>60.5</td>\n",
       "      <td>59.0</td>\n",
       "      <td>2757</td>\n",
       "      <td>5.71</td>\n",
       "      <td>5.76</td>\n",
       "      <td>3.47</td>\n",
       "    </tr>\n",
       "  </tbody>\n",
       "</table>\n",
       "<p>53943 rows × 11 columns</p>\n",
       "</div>"
      ],
      "text/plain": [
       "       Unnamed: 0  carat        cut color clarity  depth  table  price     x  \\\n",
       "0               1   0.23      Ideal     E     SI2   61.5   55.0    326  3.95   \n",
       "1               2   0.21    Premium     E     SI1   59.8   61.0    326  3.89   \n",
       "2               3   0.23       Good     E     VS1   56.9   65.0    327  4.05   \n",
       "3               4   0.29    Premium     I     VS2   62.4   58.0    334  4.20   \n",
       "4               5   0.31       Good     J     SI2   63.3   58.0    335  4.34   \n",
       "...           ...    ...        ...   ...     ...    ...    ...    ...   ...   \n",
       "53938       53939   0.86    Premium     H     SI2   61.0   58.0   2757  6.15   \n",
       "53939       53940   0.75      Ideal     D     SI2   62.2   55.0   2757  5.83   \n",
       "53940       53941   0.71    Premium     E     SI1   60.5   55.0   2756  5.79   \n",
       "53941       53942   0.71    Premium     F     SI1   59.8   62.0   2756  5.74   \n",
       "53942       53943   0.70  Very Good     E     VS2   60.5   59.0   2757  5.71   \n",
       "\n",
       "          y     z  \n",
       "0      3.98  2.43  \n",
       "1      3.84  2.31  \n",
       "2      4.07  2.31  \n",
       "3      4.23  2.63  \n",
       "4      4.35  2.75  \n",
       "...     ...   ...  \n",
       "53938  6.12  3.74  \n",
       "53939  5.87  3.64  \n",
       "53940  5.74  3.49  \n",
       "53941  5.73  3.43  \n",
       "53942  5.76  3.47  \n",
       "\n",
       "[53943 rows x 11 columns]"
      ]
     },
     "execution_count": 1,
     "metadata": {},
     "output_type": "execute_result"
    }
   ],
   "source": [
    "import numpy as np\n",
    "import pandas as pd\n",
    "import warnings\n",
    "warnings.filterwarnings('ignore')\n",
    "\n",
    "df = pd.read_csv('Diamonds Prices2022.csv')\n",
    "df"
   ]
  },
  {
   "cell_type": "markdown",
   "id": "8e0a0fae",
   "metadata": {},
   "source": [
    "&emsp; Because the index is a useless column, it can be dropped. And price is output, so it should be placed to the last column."
   ]
  },
  {
   "cell_type": "code",
   "execution_count": 2,
   "id": "4401c127",
   "metadata": {},
   "outputs": [
    {
     "name": "stdout",
     "output_type": "stream",
     "text": [
      "<class 'pandas.core.frame.DataFrame'>\n",
      "RangeIndex: 53943 entries, 0 to 53942\n",
      "Data columns (total 10 columns):\n",
      " #   Column   Non-Null Count  Dtype  \n",
      "---  ------   --------------  -----  \n",
      " 0   carat    53943 non-null  float64\n",
      " 1   cut      53943 non-null  object \n",
      " 2   color    53943 non-null  object \n",
      " 3   clarity  53943 non-null  object \n",
      " 4   depth    53943 non-null  float64\n",
      " 5   table    53943 non-null  float64\n",
      " 6   x        53943 non-null  float64\n",
      " 7   y        53943 non-null  float64\n",
      " 8   z        53943 non-null  float64\n",
      " 9   price    53943 non-null  int64  \n",
      "dtypes: float64(6), int64(1), object(3)\n",
      "memory usage: 4.1+ MB\n"
     ]
    }
   ],
   "source": [
    "df = df.drop(['Unnamed: 0'], axis=1)\n",
    "df = df[['carat', 'cut', 'color', 'clarity',\n",
    "         'depth', 'table', 'x', 'y', 'z', 'price']]\n",
    "df.info()"
   ]
  },
  {
   "cell_type": "markdown",
   "id": "279ae447",
   "metadata": {},
   "source": [
    "&emsp; The invalid value could exist even if there is no missing. As a common understanding, length, width and height of a diamonds can not be zero. So we should drop all incorrect data row where x=0, y=0 or z=0. Besides, there are some duplicate items. We need to drop them all. Finally, According to the dataset, the weight of most diamonds in this database is less than 1.5 carats. And the main buyers of diamonds are the working class. They are more likely to accept the price of diamonds under 1.5 carats. So we decide to keep only the information of diamonds less than or equal to 1.5 carats."
   ]
  },
  {
   "cell_type": "code",
   "execution_count": 3,
   "id": "bb2c6953",
   "metadata": {},
   "outputs": [
    {
     "name": "stdout",
     "output_type": "stream",
     "text": [
      "<class 'pandas.core.frame.DataFrame'>\n",
      "Int64Index: 48364 entries, 0 to 53939\n",
      "Data columns (total 10 columns):\n",
      " #   Column   Non-Null Count  Dtype  \n",
      "---  ------   --------------  -----  \n",
      " 0   carat    48364 non-null  float64\n",
      " 1   cut      48364 non-null  object \n",
      " 2   color    48364 non-null  object \n",
      " 3   clarity  48364 non-null  object \n",
      " 4   depth    48364 non-null  float64\n",
      " 5   table    48364 non-null  float64\n",
      " 6   x        48364 non-null  float64\n",
      " 7   y        48364 non-null  float64\n",
      " 8   z        48364 non-null  float64\n",
      " 9   price    48364 non-null  int64  \n",
      "dtypes: float64(6), int64(1), object(3)\n",
      "memory usage: 4.1+ MB\n"
     ]
    }
   ],
   "source": [
    "df = df.loc[df['x'] != 0]\n",
    "df = df.loc[df['y'] != 0]\n",
    "df = df.loc[df['z'] != 0]\n",
    "\n",
    "deplicate_index_list = df.duplicated()\n",
    "df = df[~deplicate_index_list]\n",
    "deplicate_index_list = df.duplicated()\n",
    "\n",
    "df = df.loc[df['carat'] <= 1.5]\n",
    "\n",
    "df.info()"
   ]
  },
  {
   "cell_type": "markdown",
   "id": "b63e2c01",
   "metadata": {},
   "source": [
    "&emsp; We decide to add three attributes, carat_range, and price_per_unit_range, and drop price column. The weights of diamonds are various. The reason why we introduce 'carat_range' is that the weight difference of the samples taken during comparison will not be too large.<br>\n",
    "&emsp; We define the carat_range value as 0.2 if its carat value is in the range of [0.199, 0.29], as 0.3 if its carat value is in the range of [0.30, 0.39], as 0.4 if its carat value is in the range of [0.40, 0.49], as 0.5 if its carat value is in the range of [0.50, 0.59], as 0.6 if its carat value is in the range of [0.60, 0.69], as 0.7 if its carat value is in the range of [0.70, 0.79], as 0.8 if its carat value is in the range of [0.80, 0.89], as 0.9 if its carat value is in the range of [0.90, 0.99], as 1.0 if its carat value is in the range of [1.0, 1.09], as 1.1 if its carat value is in the range of [1.10, 1.19], as 1.2 if its carat value is in the range of [1.20, 1.29], as 1.3 if its carat value is in the range of [1.30, 1.39], as 1.4 if its carat value is in the range of [1.40, 1.49] and as 1.5 if its carat value is in the range of [1.5, 1.59].<br>\n",
    "&emsp; 'price_per_unit_range' only gets 0, 1 and 2 value. 0 value represents ... . 1 value represents ... . 2 value represents ... ."
   ]
  },
  {
   "cell_type": "code",
   "execution_count": 4,
   "id": "4ed9192f",
   "metadata": {},
   "outputs": [
    {
     "name": "stdout",
     "output_type": "stream",
     "text": [
      "<class 'pandas.core.frame.DataFrame'>\n",
      "Int64Index: 48364 entries, 0 to 53939\n",
      "Data columns (total 10 columns):\n",
      " #   Column                Non-Null Count  Dtype   \n",
      "---  ------                --------------  -----   \n",
      " 0   carat_range           48364 non-null  category\n",
      " 1   cut_value             48364 non-null  object  \n",
      " 2   color                 48364 non-null  object  \n",
      " 3   clarity               48364 non-null  object  \n",
      " 4   depth                 48364 non-null  float64 \n",
      " 5   table                 48364 non-null  float64 \n",
      " 6   x                     48364 non-null  float64 \n",
      " 7   y                     48364 non-null  float64 \n",
      " 8   z                     48364 non-null  float64 \n",
      " 9   price_per_unit_range  48364 non-null  category\n",
      "dtypes: category(2), float64(5), object(3)\n",
      "memory usage: 3.4+ MB\n"
     ]
    }
   ],
   "source": [
    "df['carat_range'] = pd.cut(df['carat'],\n",
    "                           [0.199, 0.3, 0.4, 0.5, 0.6, 0.7,\n",
    "                            0.8, 0.9, 1.0, 1.1, 1.2,\n",
    "                            1.3, 1.4, 1.5],\n",
    "                           labels=[0.2, 0.3, 0.4, 0.5, 0.6, 0.7, 0.8,\\\n",
    "                                   0.9, 1.0, 1.1, 1.2, 1.3, 1.4])\n",
    "df['price_per_unit'] = df['price'] / df['carat']\n",
    "\n",
    "df_sub = df.loc[df['price_per_unit'] <= df.price_per_unit.mean()]\n",
    "df['price_per_unit_range'] = pd.cut(df['price_per_unit'],\n",
    "                                    [0, df_sub.price_per_unit.mean(),\n",
    "                                     df.price_per_unit.mean(),\n",
    "                                     float(\"inf\")],labels=[0, 1, 2])\n",
    "\n",
    "df = df.drop([\"carat\"], axis=1)\n",
    "df = df.drop(['price'], axis=1)\n",
    "df = df.drop([\"price_per_unit\"], axis=1)\n",
    "\n",
    "df.columns = ['cut_value', 'color', 'clarity', 'depth', 'table', 'x', 'y',\n",
    "              'z', 'carat_range', 'price_per_unit_range']\n",
    "df = df[['carat_range', 'cut_value', 'color', 'clarity', 'depth', 'table',\n",
    "         'x', 'y', 'z', 'price_per_unit_range']]\n",
    "df.info()"
   ]
  },
  {
   "cell_type": "markdown",
   "id": "cb1261e2",
   "metadata": {},
   "source": [
    "&emsp; We decide to use 4 to represent Ideal, 3 to represent Premium, 2 to represent Very Good, 1 to reprecent Good and 0 to represent Fair. The higher the value, the higher the cut level.<br>\n",
    "&emsp; We decide to use 6 to represent D, 5 to represent E, 4 to represent F, 3 to reprecent G, 2 to reprecent H, 1 to reprecent I and 0 to represent J. The higher the value, the higher the color level.<br>\n",
    "&emsp; We decide to use 7 to represent IF, 6 to represent VVS1, 5 to represent VVS2, 4 to reprecent VS1, 3 to reprecent VS2, 2 to reprecent SI1, 1 to represent SI2 and 0 to represent I1. The higher the value, the higher the clarity level.<br>\n",
    "&emsp; We know the maximum value of depth is 79 percent and the minimum value is 43 percent. Because the ideal diamond depth is between 58 and 63 percent. We will define the depth level as 3 if this depth value is in the range of [58, 63], as 2 if this depth value is in the range of [53, 57] or [64, 68], as 1 if this depth value is in the range of [47, 52] or [69, 73], as 0 if this depth value is in the range of [41, 46] or [74, 79].<br>\n",
    "&emsp; As we can see, the maximum value of table is 95 percent and the minimum value is 43 percent.Because the ideal table takes up 60 to 69 percent of the width of the diamond. We will define the table level as 3 when this table value laid in the range of [60, 69], as 2 when this table value laid in the range of [50, 59] or [70, 79], as 1 when this table value laid in the range of [40, 49] or [80, 89], as 0 when this table value laid in the range of [30, 39] or [90, 100]."
   ]
  },
  {
   "cell_type": "code",
   "execution_count": 5,
   "id": "64875144",
   "metadata": {},
   "outputs": [
    {
     "data": {
      "text/html": [
       "<div>\n",
       "<style scoped>\n",
       "    .dataframe tbody tr th:only-of-type {\n",
       "        vertical-align: middle;\n",
       "    }\n",
       "\n",
       "    .dataframe tbody tr th {\n",
       "        vertical-align: top;\n",
       "    }\n",
       "\n",
       "    .dataframe thead th {\n",
       "        text-align: right;\n",
       "    }\n",
       "</style>\n",
       "<table border=\"1\" class=\"dataframe\">\n",
       "  <thead>\n",
       "    <tr style=\"text-align: right;\">\n",
       "      <th></th>\n",
       "      <th>carat_range</th>\n",
       "      <th>cut_value</th>\n",
       "      <th>color</th>\n",
       "      <th>clarity</th>\n",
       "      <th>depth</th>\n",
       "      <th>table</th>\n",
       "      <th>x</th>\n",
       "      <th>y</th>\n",
       "      <th>z</th>\n",
       "      <th>price_per_unit_range</th>\n",
       "    </tr>\n",
       "  </thead>\n",
       "  <tbody>\n",
       "    <tr>\n",
       "      <th>0</th>\n",
       "      <td>0.2</td>\n",
       "      <td>4</td>\n",
       "      <td>5</td>\n",
       "      <td>1</td>\n",
       "      <td>3</td>\n",
       "      <td>2</td>\n",
       "      <td>3.95</td>\n",
       "      <td>3.98</td>\n",
       "      <td>2.43</td>\n",
       "      <td>0</td>\n",
       "    </tr>\n",
       "    <tr>\n",
       "      <th>1</th>\n",
       "      <td>0.2</td>\n",
       "      <td>3</td>\n",
       "      <td>5</td>\n",
       "      <td>2</td>\n",
       "      <td>3</td>\n",
       "      <td>3</td>\n",
       "      <td>3.89</td>\n",
       "      <td>3.84</td>\n",
       "      <td>2.31</td>\n",
       "      <td>0</td>\n",
       "    </tr>\n",
       "    <tr>\n",
       "      <th>2</th>\n",
       "      <td>0.2</td>\n",
       "      <td>1</td>\n",
       "      <td>5</td>\n",
       "      <td>4</td>\n",
       "      <td>2</td>\n",
       "      <td>3</td>\n",
       "      <td>4.05</td>\n",
       "      <td>4.07</td>\n",
       "      <td>2.31</td>\n",
       "      <td>0</td>\n",
       "    </tr>\n",
       "    <tr>\n",
       "      <th>3</th>\n",
       "      <td>0.2</td>\n",
       "      <td>3</td>\n",
       "      <td>1</td>\n",
       "      <td>3</td>\n",
       "      <td>3</td>\n",
       "      <td>2</td>\n",
       "      <td>4.20</td>\n",
       "      <td>4.23</td>\n",
       "      <td>2.63</td>\n",
       "      <td>0</td>\n",
       "    </tr>\n",
       "    <tr>\n",
       "      <th>4</th>\n",
       "      <td>0.3</td>\n",
       "      <td>1</td>\n",
       "      <td>0</td>\n",
       "      <td>1</td>\n",
       "      <td>3</td>\n",
       "      <td>2</td>\n",
       "      <td>4.34</td>\n",
       "      <td>4.35</td>\n",
       "      <td>2.75</td>\n",
       "      <td>0</td>\n",
       "    </tr>\n",
       "  </tbody>\n",
       "</table>\n",
       "</div>"
      ],
      "text/plain": [
       "  carat_range  cut_value  color  clarity depth table     x     y     z  \\\n",
       "0         0.2          4      5        1     3     2  3.95  3.98  2.43   \n",
       "1         0.2          3      5        2     3     3  3.89  3.84  2.31   \n",
       "2         0.2          1      5        4     2     3  4.05  4.07  2.31   \n",
       "3         0.2          3      1        3     3     2  4.20  4.23  2.63   \n",
       "4         0.3          1      0        1     3     2  4.34  4.35  2.75   \n",
       "\n",
       "  price_per_unit_range  \n",
       "0                    0  \n",
       "1                    0  \n",
       "2                    0  \n",
       "3                    0  \n",
       "4                    0  "
      ]
     },
     "execution_count": 5,
     "metadata": {},
     "output_type": "execute_result"
    }
   ],
   "source": [
    "dic_cut = {'Fair':0, 'Good':1, 'Very Good':2, 'Premium':3, 'Ideal':4}\n",
    "df['cut_value'] = df.cut_value.map(dic_cut)\n",
    "\n",
    "dic_color = {'J':0, 'I':1, 'H':2, 'G':3, 'F':4, 'E':5, 'D':6}\n",
    "df['color'] = df.color.map(dic_color)\n",
    "\n",
    "dic_clarity = {'I1':0, 'SI2':1, 'SI1':2, 'VS2':3, 'VS1':4, 'VVS2':5, 'VVS1':6, 'IF':7}\n",
    "df['clarity'] = df.clarity.map(dic_clarity)\n",
    "\n",
    "df['depth'] = pd.cut(df['depth'],[41.0, 47.0, 53.0, 58.0, 64.0, 69.0, 74.0, 79.0],\n",
    "                     labels=[0, 1, 2, 3, 2, 1, 0],\n",
    "                     ordered=False)\n",
    "\n",
    "df['table'] = pd.cut(df['table'],[30.0, 40.0, 50.0, 60.0, 70.0, 80.0, 90.0, 100.0],\n",
    "                     labels=[0, 1, 2, 3, 2, 1, 0],\n",
    "                     ordered=False)\n",
    "\n",
    "df.head()"
   ]
  },
  {
   "cell_type": "markdown",
   "id": "94794b67",
   "metadata": {},
   "source": [
    "&emsp; Becauce x, y and z are included in depth and table, they can be dropped."
   ]
  },
  {
   "cell_type": "code",
   "execution_count": 6,
   "id": "8086b44d",
   "metadata": {},
   "outputs": [
    {
     "name": "stdout",
     "output_type": "stream",
     "text": [
      "<class 'pandas.core.frame.DataFrame'>\n",
      "Int64Index: 48364 entries, 0 to 53939\n",
      "Data columns (total 7 columns):\n",
      " #   Column                Non-Null Count  Dtype   \n",
      "---  ------                --------------  -----   \n",
      " 0   carat_range           48364 non-null  category\n",
      " 1   cut_value             48364 non-null  int64   \n",
      " 2   color                 48364 non-null  int64   \n",
      " 3   clarity               48364 non-null  int64   \n",
      " 4   depth                 48364 non-null  category\n",
      " 5   table                 48364 non-null  category\n",
      " 6   price_per_unit_range  48364 non-null  category\n",
      "dtypes: category(4), int64(3)\n",
      "memory usage: 1.7 MB\n"
     ]
    }
   ],
   "source": [
    "df = df.drop([\"x\"], axis=1)\n",
    "df = df.drop([\"y\"], axis=1)\n",
    "df = df.drop([\"z\"], axis=1)\n",
    "\n",
    "df.info()"
   ]
  },
  {
   "cell_type": "markdown",
   "id": "a760ec11",
   "metadata": {},
   "source": [
    "&emsp; Convert type category to type int."
   ]
  },
  {
   "cell_type": "code",
   "execution_count": 7,
   "id": "98ab131b",
   "metadata": {},
   "outputs": [
    {
     "name": "stdout",
     "output_type": "stream",
     "text": [
      "<class 'pandas.core.frame.DataFrame'>\n",
      "Int64Index: 48364 entries, 0 to 53939\n",
      "Data columns (total 7 columns):\n",
      " #   Column                Non-Null Count  Dtype  \n",
      "---  ------                --------------  -----  \n",
      " 0   carat_range           48364 non-null  float64\n",
      " 1   cut_value             48364 non-null  int64  \n",
      " 2   color                 48364 non-null  int64  \n",
      " 3   clarity               48364 non-null  int64  \n",
      " 4   depth                 48364 non-null  int32  \n",
      " 5   table                 48364 non-null  int32  \n",
      " 6   price_per_unit_range  48364 non-null  int32  \n",
      "dtypes: float64(1), int32(3), int64(3)\n",
      "memory usage: 2.4 MB\n"
     ]
    }
   ],
   "source": [
    "df.carat_range = df.carat_range.astype(np.float)\n",
    "df.depth = df.depth.astype(np.int)\n",
    "df.table = df.table.astype(np.int)\n",
    "df.price_per_unit_range = df.price_per_unit_range.astype(np.int)\n",
    "\n",
    "df.info()"
   ]
  },
  {
   "cell_type": "markdown",
   "id": "4a1b9610",
   "metadata": {},
   "source": [
    "&emsp; Carat represents the weight of a diamond.<br> \n",
    "&emsp; Cut represents the balance of proportion, symmetry and polishing of the finished diamond after the diamond cutter finishes cutting the diamond.<br>\n",
    "&emsp; Color represents the natural color of a diamond.<br>\n",
    "&emsp; Clarity reprensents the purity level of a diamond, or the amount of impurities in a diamond.<br>\n",
    "&emsp; Depth represents the percentage of diamond height divided by average waist diameter of diamond <br>\n",
    "&emsp; Table represents the proportion of diamond top plane area to diamond overall plane area<br>\n",
    "&emsp; Price per unit range represents the value of a diamond."
   ]
  },
  {
   "cell_type": "code",
   "execution_count": 8,
   "id": "a173162b",
   "metadata": {},
   "outputs": [
    {
     "data": {
      "text/html": [
       "<div>\n",
       "<style scoped>\n",
       "    .dataframe tbody tr th:only-of-type {\n",
       "        vertical-align: middle;\n",
       "    }\n",
       "\n",
       "    .dataframe tbody tr th {\n",
       "        vertical-align: top;\n",
       "    }\n",
       "\n",
       "    .dataframe thead th {\n",
       "        text-align: right;\n",
       "    }\n",
       "</style>\n",
       "<table border=\"1\" class=\"dataframe\">\n",
       "  <thead>\n",
       "    <tr style=\"text-align: right;\">\n",
       "      <th></th>\n",
       "      <th>Features</th>\n",
       "      <th>Description</th>\n",
       "      <th>Scales</th>\n",
       "      <th>Discrete/Continues</th>\n",
       "      <th>Range</th>\n",
       "    </tr>\n",
       "  </thead>\n",
       "  <tbody>\n",
       "    <tr>\n",
       "      <th>0</th>\n",
       "      <td>carat_range</td>\n",
       "      <td>Weight range</td>\n",
       "      <td>ordinal</td>\n",
       "      <td>discrete</td>\n",
       "      <td>0.2, 0.3, 0.4, 0.5, 0.6, 0.7, 0.8, 0.9, 1.0, 1...</td>\n",
       "    </tr>\n",
       "    <tr>\n",
       "      <th>1</th>\n",
       "      <td>cut_value</td>\n",
       "      <td>Diamonds cut quality</td>\n",
       "      <td>ordinal</td>\n",
       "      <td>discrete</td>\n",
       "      <td>0:Fair, 1:Good, 2:Very Good, 3:Premium, 4:Ideal</td>\n",
       "    </tr>\n",
       "    <tr>\n",
       "      <th>2</th>\n",
       "      <td>color</td>\n",
       "      <td>Diamonds color</td>\n",
       "      <td>ordinal</td>\n",
       "      <td>discrete</td>\n",
       "      <td>0:J, 1:I, 2:H, 3:G, 4:F, 5:E, 6:D</td>\n",
       "    </tr>\n",
       "    <tr>\n",
       "      <th>3</th>\n",
       "      <td>clarity</td>\n",
       "      <td>Clarity of diamonds</td>\n",
       "      <td>ordinal</td>\n",
       "      <td>discrete</td>\n",
       "      <td>0:I1, 1:SI2, 2:SI1, 3: VS2, 4:VS1, 5:VVS2, 6:V...</td>\n",
       "    </tr>\n",
       "    <tr>\n",
       "      <th>4</th>\n",
       "      <td>depth</td>\n",
       "      <td>Depth(z)/Length(x) of diamonds</td>\n",
       "      <td>nominal</td>\n",
       "      <td>discrete</td>\n",
       "      <td>0:41-46 or 74-79, 1:47-52 or 69-73, 2:53-57 or...</td>\n",
       "    </tr>\n",
       "    <tr>\n",
       "      <th>5</th>\n",
       "      <td>table</td>\n",
       "      <td>The width of the table as a percentage of the ...</td>\n",
       "      <td>nominal</td>\n",
       "      <td>discrete</td>\n",
       "      <td>0:30-39 or 90-99, 1:40-49 or 80-89, 2:50-59 or...</td>\n",
       "    </tr>\n",
       "    <tr>\n",
       "      <th>6</th>\n",
       "      <td>price_per_unit_range</td>\n",
       "      <td>diamonds price per unit range</td>\n",
       "      <td>ordinal</td>\n",
       "      <td>discrete</td>\n",
       "      <td>0:Small values, 1:Medium values, 2:Large value...</td>\n",
       "    </tr>\n",
       "  </tbody>\n",
       "</table>\n",
       "</div>"
      ],
      "text/plain": [
       "               Features                                        Description  \\\n",
       "0           carat_range                                       Weight range   \n",
       "1             cut_value                               Diamonds cut quality   \n",
       "2                 color                                     Diamonds color   \n",
       "3               clarity                                Clarity of diamonds   \n",
       "4                 depth                     Depth(z)/Length(x) of diamonds   \n",
       "5                 table  The width of the table as a percentage of the ...   \n",
       "6  price_per_unit_range                      diamonds price per unit range   \n",
       "\n",
       "    Scales Discrete/Continues  \\\n",
       "0  ordinal           discrete   \n",
       "1  ordinal           discrete   \n",
       "2  ordinal           discrete   \n",
       "3  ordinal           discrete   \n",
       "4  nominal           discrete   \n",
       "5  nominal           discrete   \n",
       "6  ordinal           discrete   \n",
       "\n",
       "                                               Range  \n",
       "0  0.2, 0.3, 0.4, 0.5, 0.6, 0.7, 0.8, 0.9, 1.0, 1...  \n",
       "1    0:Fair, 1:Good, 2:Very Good, 3:Premium, 4:Ideal  \n",
       "2                  0:J, 1:I, 2:H, 3:G, 4:F, 5:E, 6:D  \n",
       "3  0:I1, 1:SI2, 2:SI1, 3: VS2, 4:VS1, 5:VVS2, 6:V...  \n",
       "4  0:41-46 or 74-79, 1:47-52 or 69-73, 2:53-57 or...  \n",
       "5  0:30-39 or 90-99, 1:40-49 or 80-89, 2:50-59 or...  \n",
       "6  0:Small values, 1:Medium values, 2:Large value...  "
      ]
     },
     "execution_count": 8,
     "metadata": {},
     "output_type": "execute_result"
    }
   ],
   "source": [
    "data_description = pd.DataFrame()\n",
    "data_description['Features'] = df.columns\n",
    "data_description['Description'] = ['Weight range', 'Diamonds cut quality', 'Diamonds color', \n",
    "                                   'Clarity of diamonds', 'Depth(z)/Length(x) of diamonds',\n",
    "                                   'The width of the table as a percentage of the total \\\n",
    "                                    midth of the diamonds', 'diamonds price per unit range']\n",
    "data_description['Scales'] = ['ordinal', 'ordinal', 'ordinal',\n",
    "                              'ordinal', 'nominal', 'nominal', 'ordinal']\n",
    "data_description['Discrete/Continues'] = ['discrete', 'discrete', 'discrete',\n",
    "                                          'discrete', 'discrete','discrete','discrete']\n",
    "data_description['Range'] = ['0.2, 0.3, 0.4, 0.5, 0.6, 0.7, 0.8, 0.9, 1.0, 1.1, 1.2, 1.3, 1.4, 1.5',\n",
    "                             '0:Fair, 1:Good, 2:Very Good, 3:Premium, 4:Ideal',\n",
    "                             '0:J, 1:I, 2:H, 3:G, 4:F, 5:E, 6:D',\n",
    "                             '0:I1, 1:SI2, 2:SI1, 3: VS2, 4:VS1, 5:VVS2, 6:VVS1, 7:IF',\n",
    "                             '0:41-46 or 74-79, 1:47-52 or 69-73, 2:53-57 or 64-68, 3:58-63',\n",
    "                             '0:30-39 or 90-99, 1:40-49 or 80-89, 2:50-59 or 70-79, 3:60-69',\n",
    "                             '0:Small values, 1:Medium values, 2:Large values, 3:Extra large values']\n",
    "\n",
    "data_description"
   ]
  },
  {
   "cell_type": "code",
   "execution_count": 9,
   "id": "abff7f29",
   "metadata": {},
   "outputs": [
    {
     "data": {
      "text/html": [
       "\n",
       "    <style>\n",
       "    table.eli5-weights tr:hover {\n",
       "        filter: brightness(85%);\n",
       "    }\n",
       "</style>\n",
       "\n",
       "\n",
       "\n",
       "    \n",
       "\n",
       "    \n",
       "\n",
       "    \n",
       "\n",
       "    \n",
       "\n",
       "    \n",
       "\n",
       "    \n",
       "\n",
       "\n",
       "    \n",
       "\n",
       "    \n",
       "\n",
       "    \n",
       "\n",
       "    \n",
       "\n",
       "    \n",
       "\n",
       "    \n",
       "\n",
       "\n",
       "    \n",
       "\n",
       "    \n",
       "\n",
       "    \n",
       "\n",
       "    \n",
       "\n",
       "    \n",
       "        <table class=\"eli5-weights eli5-feature-importances\" style=\"border-collapse: collapse; border: none; margin-top: 0em; table-layout: auto;\">\n",
       "    <thead>\n",
       "    <tr style=\"border: none;\">\n",
       "        <th style=\"padding: 0 1em 0 0.5em; text-align: right; border: none;\">Weight</th>\n",
       "        <th style=\"padding: 0 0.5em 0 0.5em; text-align: left; border: none;\">Feature</th>\n",
       "    </tr>\n",
       "    </thead>\n",
       "    <tbody>\n",
       "    \n",
       "        <tr style=\"background-color: hsl(120, 100.00%, 80.00%); border: none;\">\n",
       "            <td style=\"padding: 0 1em 0 0.5em; text-align: right; border: none;\">\n",
       "                1.8480\n",
       "                \n",
       "                    &plusmn; 0.0096\n",
       "                \n",
       "            </td>\n",
       "            <td style=\"padding: 0 0.5em 0 0.5em; text-align: left; border: none;\">\n",
       "                carat_range\n",
       "            </td>\n",
       "        </tr>\n",
       "    \n",
       "        <tr style=\"background-color: hsl(120, 100.00%, 93.95%); border: none;\">\n",
       "            <td style=\"padding: 0 1em 0 0.5em; text-align: right; border: none;\">\n",
       "                0.3351\n",
       "                \n",
       "                    &plusmn; 0.0027\n",
       "                \n",
       "            </td>\n",
       "            <td style=\"padding: 0 0.5em 0 0.5em; text-align: left; border: none;\">\n",
       "                clarity\n",
       "            </td>\n",
       "        </tr>\n",
       "    \n",
       "        <tr style=\"background-color: hsl(120, 100.00%, 96.03%); border: none;\">\n",
       "            <td style=\"padding: 0 1em 0 0.5em; text-align: right; border: none;\">\n",
       "                0.1838\n",
       "                \n",
       "                    &plusmn; 0.0056\n",
       "                \n",
       "            </td>\n",
       "            <td style=\"padding: 0 0.5em 0 0.5em; text-align: left; border: none;\">\n",
       "                color\n",
       "            </td>\n",
       "        </tr>\n",
       "    \n",
       "        <tr style=\"background-color: hsl(120, 100.00%, 98.31%); border: none;\">\n",
       "            <td style=\"padding: 0 1em 0 0.5em; text-align: right; border: none;\">\n",
       "                0.0544\n",
       "                \n",
       "                    &plusmn; 0.0010\n",
       "                \n",
       "            </td>\n",
       "            <td style=\"padding: 0 0.5em 0 0.5em; text-align: left; border: none;\">\n",
       "                cut_value\n",
       "            </td>\n",
       "        </tr>\n",
       "    \n",
       "        <tr style=\"background-color: hsl(120, 100.00%, 99.53%); border: none;\">\n",
       "            <td style=\"padding: 0 1em 0 0.5em; text-align: right; border: none;\">\n",
       "                0.0088\n",
       "                \n",
       "                    &plusmn; 0.0004\n",
       "                \n",
       "            </td>\n",
       "            <td style=\"padding: 0 0.5em 0 0.5em; text-align: left; border: none;\">\n",
       "                table\n",
       "            </td>\n",
       "        </tr>\n",
       "    \n",
       "        <tr style=\"background-color: hsl(120, 100.00%, 99.66%); border: none;\">\n",
       "            <td style=\"padding: 0 1em 0 0.5em; text-align: right; border: none;\">\n",
       "                0.0054\n",
       "                \n",
       "                    &plusmn; 0.0001\n",
       "                \n",
       "            </td>\n",
       "            <td style=\"padding: 0 0.5em 0 0.5em; text-align: left; border: none;\">\n",
       "                depth\n",
       "            </td>\n",
       "        </tr>\n",
       "    \n",
       "    \n",
       "    </tbody>\n",
       "</table>\n",
       "    \n",
       "\n",
       "    \n",
       "\n",
       "\n",
       "    \n",
       "\n",
       "    \n",
       "\n",
       "    \n",
       "\n",
       "    \n",
       "\n",
       "    \n",
       "\n",
       "    \n",
       "\n",
       "\n",
       "\n"
      ],
      "text/plain": [
       "<IPython.core.display.HTML object>"
      ]
     },
     "execution_count": 9,
     "metadata": {},
     "output_type": "execute_result"
    }
   ],
   "source": [
    "import sklearn\n",
    "import eli5\n",
    "\n",
    "x = df.iloc[:,:-1]\n",
    "y = df.iloc[:,-1]\n",
    "model = sklearn.ensemble.RandomForestRegressor().fit(x,y)\n",
    "perm = eli5.sklearn.PermutationImportance(model).fit(x, y)\n",
    "eli5.show_weights(perm, feature_names = x.columns.tolist())"
   ]
  },
  {
   "cell_type": "markdown",
   "id": "9fc97a49",
   "metadata": {},
   "source": [
    "&emsp; We can find some features is unnecessary from the above graph, so we will choose the important features as the new dataset."
   ]
  },
  {
   "cell_type": "code",
   "execution_count": 10,
   "id": "43ca80c3",
   "metadata": {},
   "outputs": [
    {
     "data": {
      "text/html": [
       "<div>\n",
       "<style scoped>\n",
       "    .dataframe tbody tr th:only-of-type {\n",
       "        vertical-align: middle;\n",
       "    }\n",
       "\n",
       "    .dataframe tbody tr th {\n",
       "        vertical-align: top;\n",
       "    }\n",
       "\n",
       "    .dataframe thead th {\n",
       "        text-align: right;\n",
       "    }\n",
       "</style>\n",
       "<table border=\"1\" class=\"dataframe\">\n",
       "  <thead>\n",
       "    <tr style=\"text-align: right;\">\n",
       "      <th></th>\n",
       "      <th>carat_range</th>\n",
       "      <th>clarity</th>\n",
       "      <th>color</th>\n",
       "      <th>price_per_unit_range</th>\n",
       "    </tr>\n",
       "  </thead>\n",
       "  <tbody>\n",
       "    <tr>\n",
       "      <th>0</th>\n",
       "      <td>0.2</td>\n",
       "      <td>1</td>\n",
       "      <td>5</td>\n",
       "      <td>0</td>\n",
       "    </tr>\n",
       "    <tr>\n",
       "      <th>1</th>\n",
       "      <td>0.2</td>\n",
       "      <td>2</td>\n",
       "      <td>5</td>\n",
       "      <td>0</td>\n",
       "    </tr>\n",
       "    <tr>\n",
       "      <th>2</th>\n",
       "      <td>0.2</td>\n",
       "      <td>4</td>\n",
       "      <td>5</td>\n",
       "      <td>0</td>\n",
       "    </tr>\n",
       "    <tr>\n",
       "      <th>3</th>\n",
       "      <td>0.2</td>\n",
       "      <td>3</td>\n",
       "      <td>1</td>\n",
       "      <td>0</td>\n",
       "    </tr>\n",
       "    <tr>\n",
       "      <th>4</th>\n",
       "      <td>0.3</td>\n",
       "      <td>1</td>\n",
       "      <td>0</td>\n",
       "      <td>0</td>\n",
       "    </tr>\n",
       "  </tbody>\n",
       "</table>\n",
       "</div>"
      ],
      "text/plain": [
       "   carat_range  clarity  color  price_per_unit_range\n",
       "0          0.2        1      5                     0\n",
       "1          0.2        2      5                     0\n",
       "2          0.2        4      5                     0\n",
       "3          0.2        3      1                     0\n",
       "4          0.3        1      0                     0"
      ]
     },
     "execution_count": 10,
     "metadata": {},
     "output_type": "execute_result"
    }
   ],
   "source": [
    "df = df[['carat_range', 'clarity', 'color', 'price_per_unit_range']]\n",
    "\n",
    "df.head()"
   ]
  },
  {
   "cell_type": "markdown",
   "id": "33072bef",
   "metadata": {},
   "source": [
    "### 1.3 Divide the data:"
   ]
  },
  {
   "cell_type": "markdown",
   "id": "57b1a1b4",
   "metadata": {},
   "source": [
    "&emsp; Split dataset into training set and test set."
   ]
  },
  {
   "cell_type": "code",
   "execution_count": 11,
   "id": "a02a05a8",
   "metadata": {},
   "outputs": [
    {
     "data": {
      "text/plain": [
       "((38691, 3), (9673, 3), (38691,), (9673,))"
      ]
     },
     "execution_count": 11,
     "metadata": {},
     "output_type": "execute_result"
    }
   ],
   "source": [
    "from sklearn.model_selection import train_test_split\n",
    "\n",
    "x = df.iloc[:,:-1].values\n",
    "y = df.iloc[:,-1].values\n",
    "x_train, x_test, y_train, y_test = train_test_split(x, y, test_size = 0.2)\n",
    "\n",
    "x_train.shape, x_test.shape, y_train.shape, y_test.shape"
   ]
  },
  {
   "cell_type": "code",
   "execution_count": 12,
   "id": "b458734d",
   "metadata": {},
   "outputs": [
    {
     "data": {
      "text/plain": [
       "2    19637\n",
       "1    14421\n",
       "0    14306\n",
       "Name: price_per_unit_range, dtype: int64"
      ]
     },
     "execution_count": 12,
     "metadata": {},
     "output_type": "execute_result"
    }
   ],
   "source": [
    "df['price_per_unit_range'].value_counts()"
   ]
  },
  {
   "cell_type": "code",
   "execution_count": 13,
   "id": "fd704f67",
   "metadata": {},
   "outputs": [
    {
     "name": "stdout",
     "output_type": "stream",
     "text": [
      "The accuracy is: 0.8128812157551949\n"
     ]
    }
   ],
   "source": [
    "from sklearn.metrics import accuracy_score\n",
    "from sklearn.linear_model import LogisticRegression as SKLogisticRegression\n",
    "sk_lr_model = SKLogisticRegression()\n",
    "sk_lr_model.fit(x_train,y_train)\n",
    "yhat = sk_lr_model.predict(x_test)\n",
    "print(f'The accuracy is: {accuracy_score(y_test,yhat)}')"
   ]
  },
  {
   "cell_type": "markdown",
   "id": "2b472785",
   "metadata": {},
   "source": [
    "&emsp; According to the above information, the data distribution is relatively stable in attribute 'price_per_unit_range' and the predict accuracy is higher than eighty percent, which is a sufficient result, even though the total sample numbers is large. Therefore, we can conduct that the ratio of 80 to 20 is a proper split."
   ]
  },
  {
   "cell_type": "markdown",
   "id": "0a20c5af",
   "metadata": {},
   "source": [
    "&emsp; The Interaction of cross validation:"
   ]
  },
  {
   "cell_type": "code",
   "execution_count": 14,
   "id": "24ba66af",
   "metadata": {},
   "outputs": [
    {
     "name": "stdout",
     "output_type": "stream",
     "text": [
      "ShuffleSplit(n_splits=20, random_state=None, test_size=0.2, train_size=None)\n"
     ]
    }
   ],
   "source": [
    "from sklearn.model_selection import ShuffleSplit\n",
    "\n",
    "if 'price_per_unit_range' in df:\n",
    "    y = df['price_per_unit_range'].values\n",
    "    del df['price_per_unit_range']\n",
    "    norm_features = ['carat_range', 'clarity', 'color']\n",
    "    df[norm_features] = (df[norm_features] - df[norm_features].mean()) / df[norm_features].std()\n",
    "    x = df.to_numpy()\n",
    "\n",
    "num_cv_iterations = 20\n",
    "num_instances = len(y)\n",
    "cv_object = ShuffleSplit(n_splits = num_cv_iterations, test_size = 0.2)\n",
    "                         \n",
    "print(cv_object)"
   ]
  },
  {
   "cell_type": "code",
   "execution_count": 15,
   "id": "395b8106",
   "metadata": {},
   "outputs": [
    {
     "name": "stdout",
     "output_type": "stream",
     "text": [
      "====Iteration 0====\n",
      "accuracy: 0.810400082704435\n",
      "confusion matrix:\n",
      " [[2380  478   13]\n",
      " [ 539 1961  357]\n",
      " [   6  441 3498]]\n",
      "\n",
      "====Iteration 1====\n",
      "accuracy: 0.8158792515248631\n",
      "confusion matrix:\n",
      " [[2397  459    9]\n",
      " [ 534 1953  367]\n",
      " [   5  407 3542]]\n",
      "\n",
      "====Iteration 2====\n",
      "accuracy: 0.8140184017367932\n",
      "confusion matrix:\n",
      " [[2355  459   15]\n",
      " [ 531 1984  361]\n",
      " [   9  424 3535]]\n",
      "\n",
      "====Iteration 3====\n",
      "accuracy: 0.8078155691098935\n",
      "confusion matrix:\n",
      " [[2336  499   17]\n",
      " [ 547 1981  354]\n",
      " [   7  435 3497]]\n",
      "\n",
      "====Iteration 4====\n",
      "accuracy: 0.8137082601054482\n",
      "confusion matrix:\n",
      " [[2406  475    9]\n",
      " [ 536 1987  314]\n",
      " [   7  461 3478]]\n",
      "\n",
      "====Iteration 5====\n",
      "accuracy: 0.8223922257831077\n",
      "confusion matrix:\n",
      " [[2357  446    7]\n",
      " [ 494 2090  327]\n",
      " [   5  439 3508]]\n",
      "\n",
      "====Iteration 6====\n",
      "accuracy: 0.8135014990178848\n",
      "confusion matrix:\n",
      " [[2349  499   12]\n",
      " [ 522 2007  338]\n",
      " [   4  429 3513]]\n",
      "\n",
      "====Iteration 7====\n",
      "accuracy: 0.8159826320686446\n",
      "confusion matrix:\n",
      " [[2333  484   12]\n",
      " [ 516 2030  342]\n",
      " [   5  421 3530]]\n",
      "\n",
      "====Iteration 8====\n",
      "accuracy: 0.8106068437919983\n",
      "confusion matrix:\n",
      " [[2345  465    7]\n",
      " [ 597 2009  308]\n",
      " [   4  451 3487]]\n",
      "\n",
      "====Iteration 9====\n",
      "accuracy: 0.8136048795616665\n",
      "confusion matrix:\n",
      " [[2350  483   11]\n",
      " [ 522 1972  356]\n",
      " [   3  428 3548]]\n",
      "\n",
      "====Iteration 10====\n",
      "accuracy: 0.8143285433681381\n",
      "confusion matrix:\n",
      " [[2332  455   15]\n",
      " [ 532 2026  338]\n",
      " [   5  451 3519]]\n",
      "\n",
      "====Iteration 11====\n",
      "accuracy: 0.81195079086116\n",
      "confusion matrix:\n",
      " [[2355  435   11]\n",
      " [ 587 2009  363]\n",
      " [   7  416 3490]]\n",
      "\n",
      "====Iteration 12====\n",
      "accuracy: 0.8120541714049416\n",
      "confusion matrix:\n",
      " [[2327  502    6]\n",
      " [ 537 1970  358]\n",
      " [   5  410 3558]]\n",
      "\n",
      "====Iteration 13====\n",
      "accuracy: 0.8133981184741031\n",
      "confusion matrix:\n",
      " [[2411  438   14]\n",
      " [ 594 2007  346]\n",
      " [   6  407 3450]]\n",
      "\n",
      "====Iteration 14====\n",
      "accuracy: 0.8159826320686446\n",
      "confusion matrix:\n",
      " [[2411  471   10]\n",
      " [ 538 1977  318]\n",
      " [   3  440 3505]]\n",
      "\n",
      "====Iteration 15====\n",
      "accuracy: 0.8127778352114132\n",
      "confusion matrix:\n",
      " [[2387  503   11]\n",
      " [ 557 1976  318]\n",
      " [   6  416 3499]]\n",
      "\n",
      "====Iteration 16====\n",
      "accuracy: 0.816189393156208\n",
      "confusion matrix:\n",
      " [[2375  492   10]\n",
      " [ 520 2004  317]\n",
      " [   3  436 3516]]\n",
      "\n",
      "====Iteration 17====\n",
      "accuracy: 0.8117440297735966\n",
      "confusion matrix:\n",
      " [[2372  475    9]\n",
      " [ 567 1959  350]\n",
      " [   3  417 3521]]\n",
      "\n",
      "====Iteration 18====\n",
      "accuracy: 0.8127778352114132\n",
      "confusion matrix:\n",
      " [[2376  440    8]\n",
      " [ 590 2039  347]\n",
      " [   4  422 3447]]\n",
      "\n",
      "====Iteration 19====\n",
      "accuracy: 0.81195079086116\n",
      "confusion matrix:\n",
      " [[2379  468   10]\n",
      " [ 515 2003  359]\n",
      " [   4  463 3472]]\n",
      "\n",
      "the variance is: 8.32826307679719e-06\n",
      "the standard deviations is: 0.00288587301813458\n"
     ]
    }
   ],
   "source": [
    "from sklearn import metrics as mt\n",
    "\n",
    "lr_clf = SKLogisticRegression()\n",
    "iter_num = 0\n",
    "validation = []\n",
    "\n",
    "\n",
    "for train_indices, test_indices in cv_object.split(x,y): \n",
    "    x_train = x[train_indices]\n",
    "    y_train = y[train_indices]\n",
    "    \n",
    "    x_test = x[test_indices]\n",
    "    y_test = y[test_indices]\n",
    "    \n",
    "    lr_clf.fit(x_train,y_train)\n",
    "    y_hat = lr_clf.predict(x_test)\n",
    "\n",
    "    acc = mt.accuracy_score(y_test,y_hat)\n",
    "    conf = mt.confusion_matrix(y_test,y_hat)\n",
    "    print(f\"====Iteration {iter_num}====\")\n",
    "    print(f\"accuracy: {acc}\")\n",
    "    validation.append(acc)\n",
    "    print(f\"confusion matrix:\\n {conf}\\n\")\n",
    "    iter_num+=1\n",
    "\n",
    "print(f'the variance is: {np.var(validation)}')\n",
    "print(f'the standard deviations is: {np.std(validation)}')"
   ]
  },
  {
   "cell_type": "markdown",
   "id": "33c6811c",
   "metadata": {},
   "source": [
    "&emsp; We repeated the cross validation 20 times above. As we can see, the accuracy of every iteration is quite similar. And the accuracy of all 20 iterations is greater than eighty percent. What's more, the variance and standard deviations of 20 iterations is extremely small. These evidences could make our conclusion, which is the ratio of 80 to 20 is a proper split, more believable."
   ]
  },
  {
   "cell_type": "markdown",
   "id": "85dac4f6",
   "metadata": {},
   "source": [
    "# 2. Modeling:"
   ]
  },
  {
   "cell_type": "markdown",
   "id": "26f02e17",
   "metadata": {},
   "source": [
    "## 2.1 Creating the logistic regression classifier:"
   ]
  },
  {
   "cell_type": "markdown",
   "id": "a5a3f821",
   "metadata": {},
   "source": [
    "&emsp; In this part, we have implemented our one-versus-all classifier using LineSeach, Stochastic, Hessian and BFGS methods base on code provided on class."
   ]
  },
  {
   "cell_type": "markdown",
   "id": "27eeb4e3",
   "metadata": {},
   "source": [
    "### 2.1.1 Binary logistic regression:"
   ]
  },
  {
   "cell_type": "code",
   "execution_count": 16,
   "id": "dc237a74",
   "metadata": {},
   "outputs": [],
   "source": [
    "from scipy.special import expit\n",
    "\n",
    "class BinaryLogisticRegression:\n",
    "    def __init__(self, eta, iterations=20, C=0.001, regularization=None):\n",
    "        self.eta = eta\n",
    "        self.iters = iterations\n",
    "        self.C = C\n",
    "        self.regularization = regularization\n",
    "        # internally we will store the weights as self.w_ to keep with sklearn conventions\n",
    "    \n",
    "    def __str__(self):\n",
    "        if(hasattr(self,'w_')):\n",
    "            return 'Binary Logistic Regression Object with coefficients:\\n'+ str(self.w_) # is we have trained the object\n",
    "        else:\n",
    "            return 'Untrained Binary Logistic Regression Object'\n",
    "    \n",
    "    # convenience, private:\n",
    "    @staticmethod\n",
    "    def _add_bias(X):\n",
    "        return np.hstack((np.ones((X.shape[0],1)),X)) # add bias term\n",
    "    \n",
    "    @staticmethod\n",
    "    def _sigmoid(theta):\n",
    "        # increase stability, redefine sigmoid operation\n",
    "        return expit(theta) #1/(1+np.exp(-theta))\n",
    "    \n",
    "    # vectorized gradient calculation with regularization using L2 Norm\n",
    "    def _get_gradient(self,X,y):\n",
    "        ydiff = y-self.predict_proba(X,add_bias=False).ravel() # get y difference\n",
    "        gradient = np.mean(X * ydiff[:,np.newaxis], axis=0) # make ydiff a column vector and multiply through\n",
    "        \n",
    "        gradient = gradient.reshape(self.w_.shape)\n",
    "        \n",
    "        if self.regularization == 'L1':\n",
    "            gradient[1:] += -self.C\n",
    "        elif self.regularization == 'L2':\n",
    "            gradient[1:] += -2 * self.w_[1:] * self.C\n",
    "        elif self.regularization == 'L1&L2':\n",
    "            gradient[1:] += -self.C -2 * self.w_[1:] * self.C\n",
    "        \n",
    "        return gradient\n",
    "    \n",
    "    # public:\n",
    "    def predict_proba(self,X,add_bias=True):\n",
    "        # add bias term if requested\n",
    "        Xb = self._add_bias(X) if add_bias else X\n",
    "        return self._sigmoid(Xb @ self.w_) # return the probability y=1\n",
    "    \n",
    "    def predict(self,X):\n",
    "        return (self.predict_proba(X)>0.5) #return the actual prediction\n",
    "    \n",
    "    \n",
    "    def fit(self, X, y):\n",
    "        Xb = self._add_bias(X) # add bias term\n",
    "        num_samples, num_features = Xb.shape\n",
    "        \n",
    "        self.w_ = np.zeros((num_features,1)) # init weight vector to zeros\n",
    "        \n",
    "        # for as many as the max iterations\n",
    "        for _ in range(self.iters):\n",
    "            gradient = self._get_gradient(Xb,y)\n",
    "            self.w_ += gradient*self.eta # multiply by learning rate \n",
    "            # add bacause maximizing"
   ]
  },
  {
   "cell_type": "markdown",
   "id": "e0d8865a",
   "metadata": {},
   "source": [
    "### 2.1.2 Steepest ascent logistic regression:"
   ]
  },
  {
   "cell_type": "code",
   "execution_count": 17,
   "id": "e715a0e8",
   "metadata": {},
   "outputs": [],
   "source": [
    "from scipy.optimize import minimize_scalar\n",
    "import copy\n",
    "from numpy import ma # (masked array) this has most numpy functions that work with NaN data.\n",
    "class LineSearchLogisticRegression(BinaryLogisticRegression):\n",
    "    # define custom line search for problem\n",
    "    def __init__(self, line_iters=0.0, **kwds):        \n",
    "        self.line_iters = line_iters\n",
    "        # but keep other keywords\n",
    "        super().__init__(**kwds) # call parent initializer\n",
    "    \n",
    "    # this defines the function with the first input to be optimized\n",
    "    # therefore eta will be optimized, with all inputs constant\n",
    "    @staticmethod\n",
    "    def objective_function(eta, X, y, w, grad, C, regularization=None):\n",
    "        wnew = w - grad*eta\n",
    "        g = expit(X @ wnew)\n",
    "        \n",
    "        if regularization == 'L1':\n",
    "            return -np.sum(ma.log(g[y==1]))-ma.sum(np.log(1-g[y==0])) + C*sum(abs(wnew))\n",
    "        elif regularization == 'L2':\n",
    "            return -np.sum(ma.log(g[y==1]))-ma.sum(np.log(1-g[y==0])) + C*sum(wnew**2)\n",
    "        elif regularization == 'L1&L2':\n",
    "            return -np.sum(ma.log(g[y==1]))-ma.sum(np.log(1-g[y==0])) + C*sum(abs(wnew)) + C*sum(wnew**2)\n",
    "        else:\n",
    "            return -np.sum(ma.log(g[y==1]))-ma.sum(np.log(1-g[y==0]))\n",
    "        \n",
    "    def fit(self, X, y):\n",
    "        Xb = self._add_bias(X) # add bias term\n",
    "        num_samples, num_features = Xb.shape\n",
    "        \n",
    "        self.w_ = np.zeros((num_features,1)) # init weight vector to zeros\n",
    "        \n",
    "        # for as many as the max iterations\n",
    "        for _ in range(self.iters):\n",
    "            gradient = -self._get_gradient(Xb,y)\n",
    "            # minimization inopposite direction\n",
    "            \n",
    "            # do line search in gradient direction, using scipy function\n",
    "            opts = {'maxiter':self.line_iters} # unclear exactly what this should be\n",
    "            res = minimize_scalar(self.objective_function, # objective function to optimize\n",
    "                                  bounds=(0,self.eta*10), #bounds to optimize\n",
    "                                  args=(Xb,y,self.w_,gradient,self.C), # additional argument for objective function\n",
    "                                  method='bounded', # bounded optimization for speed\n",
    "                                  options=opts) # set max iterations\n",
    "            \n",
    "            eta = res.x # get optimal learning rate\n",
    "            self.w_ -= gradient*eta # set new function values\n",
    "            # subtract to minimize"
   ]
  },
  {
   "cell_type": "markdown",
   "id": "6f12ddb1",
   "metadata": {},
   "source": [
    "### 2.1.3 Stochastic gradient ascent logistic regression:¶"
   ]
  },
  {
   "cell_type": "code",
   "execution_count": 18,
   "id": "5132ee24",
   "metadata": {},
   "outputs": [],
   "source": [
    "class StochasticLogisticRegression(BinaryLogisticRegression):\n",
    "    # stochastic gradient calculation \n",
    "    def _get_gradient(self,X,y):\n",
    "        idx = int(np.random.rand()*len(y)) # grab random instance\n",
    "        ydiff = y[idx]-self.predict_proba(X[idx],add_bias=False) # get y difference (now scalar)\n",
    "        gradient = X[idx] * ydiff[:,np.newaxis] # make ydiff a column vector and multiply through\n",
    "        \n",
    "        gradient = gradient.reshape(self.w_.shape)\n",
    "        \n",
    "        if self.regularization == 'L1':\n",
    "            gradient[1:] += -self.C\n",
    "        elif self.regularization == 'L2':\n",
    "            gradient[1:] += -2 * self.w_[1:] * self.C\n",
    "        elif self.regularization == 'L1&L2':\n",
    "            gradient[1:] += -self.C -2 * self.w_[1:] * self.C\n",
    "        \n",
    "        return gradient"
   ]
  },
  {
   "cell_type": "markdown",
   "id": "9e5cd234",
   "metadata": {},
   "source": [
    "### 2.1.4 Newton's method:"
   ]
  },
  {
   "cell_type": "code",
   "execution_count": 19,
   "id": "52ad8269",
   "metadata": {},
   "outputs": [],
   "source": [
    "from numpy.linalg import pinv\n",
    "class HessianBinaryLogisticRegression(BinaryLogisticRegression):\n",
    "    # just overwrite gradient function\n",
    "    def _get_gradient(self,X,y):\n",
    "        g = self.predict_proba(X,add_bias=False).ravel() # get sigmoid value for all classes\n",
    "        hessian = X.T @ np.diag(g*(1-g)) @ X\n",
    "        \n",
    "        ydiff = y-g # get y difference\n",
    "        gradient = np.sum(X * ydiff[:,np.newaxis], axis=0) # make ydiff a column vector and multiply through\n",
    "        gradient = gradient.reshape(self.w_.shape)\n",
    "\n",
    "        if self.regularization == 'L1':\n",
    "            hessian = X.T @ np.diag(g*(1-g)) @ X\n",
    "            gradient[1:] += -self.C\n",
    "        elif self.regularization == 'L2':\n",
    "            hessian = X.T @ np.diag(g*(1-g)) @ X - 2 * self.C # calculate the hessian\n",
    "            gradient[1:] += -2 * self.w_[1:] * self.C\n",
    "        elif self.regularization == 'L1&L2':\n",
    "            hessian = X.T @ np.diag(g*(1-g)) @ X - self.C\n",
    "            gradient[1:] += -self.C -2 * self.w_[1:] * self.C\n",
    "        \n",
    "        return pinv(hessian) @ gradient"
   ]
  },
  {
   "cell_type": "markdown",
   "id": "3f4a5f02",
   "metadata": {},
   "source": [
    "### 2.1.5 Quasi-Newton Methods:"
   ]
  },
  {
   "cell_type": "code",
   "execution_count": 20,
   "id": "17073495",
   "metadata": {},
   "outputs": [],
   "source": [
    "from scipy.optimize import fmin_bfgs # maybe the most common bfgs algorithm in the world\n",
    "from numpy import ma\n",
    "class BFGSBinaryLogisticRegression(BinaryLogisticRegression):\n",
    "    \n",
    "    @staticmethod\n",
    "    def objective_function(w, X, y, C, regularization=None):\n",
    "        g = expit(X @ w)\n",
    "        # invert this because scipy minimizes, but we derived all formulas for maximzing\n",
    "        \n",
    "        if regularization == 'L1':\n",
    "            return -np.sum(ma.log(g[y==1]))-ma.sum(np.log(1-g[y==0])) + C*sum(abs(wnew))\n",
    "        elif regularization == 'L2':\n",
    "            return -np.sum(ma.log(g[y==1]))-ma.sum(np.log(1-g[y==0])) + C*sum(wnew**2)\n",
    "        elif regularization == 'L1&L2':\n",
    "            return -np.sum(ma.log(g[y==1]))-ma.sum(np.log(1-g[y==0])) + C*sum(abs(wnew)) + C*sum(wnew**2)\n",
    "        else:\n",
    "            return -np.sum(ma.log(g[y==1]))-ma.sum(np.log(1-g[y==0]))\n",
    "\n",
    "    @staticmethod\n",
    "    def objective_gradient(w, X, y, C, regularization=None):\n",
    "        g = expit(X @ w)\n",
    "        ydiff = y-g # get y difference\n",
    "        gradient = np.mean(X * ydiff[:,np.newaxis], axis=0)\n",
    "        gradient = gradient.reshape(w.shape)\n",
    "        \n",
    "        if regularization == 'L1':\n",
    "            gradient[1:] += -self.C\n",
    "        elif regularization == 'L2':\n",
    "            gradient[1:] += -2 * self.w_[1:] * self.C\n",
    "        elif regularization == 'L1&L2':\n",
    "            gradient[1:] += -self.C -2 * self.w_[1:] * self.C\n",
    "        \n",
    "        return -gradient\n",
    "    \n",
    "    # just overwrite fit function\n",
    "    def fit(self, X, y):\n",
    "        Xb = self._add_bias(X) # add bias term\n",
    "        num_samples, num_features = Xb.shape\n",
    "        \n",
    "        self.w_ = fmin_bfgs(self.objective_function, # what to optimize\n",
    "                            np.zeros((num_features,1)), # starting point\n",
    "                            fprime=self.objective_gradient, # gradient function\n",
    "                            args=(Xb,y,self.C), # extra args for gradient and objective function\n",
    "                            gtol=1e-03, # stopping criteria for gradient, |v_k|\n",
    "                            maxiter=self.iters, # stopping criteria iterations\n",
    "                            disp=False)\n",
    "        \n",
    "        self.w_ = self.w_.reshape((num_features,1))"
   ]
  },
  {
   "cell_type": "markdown",
   "id": "72e59f85",
   "metadata": {},
   "source": [
    "### 2.1.6 BFGS and Newton's Method for Multiclass Logistic Regression:"
   ]
  },
  {
   "cell_type": "code",
   "execution_count": 21,
   "id": "41e6ccb3",
   "metadata": {},
   "outputs": [],
   "source": [
    "# allow for the user to specify the algorithm they want to sovle the binary case\n",
    "class MultiClassLogisticRegression:\n",
    "    def __init__(self, eta, iterations=20, \n",
    "                 C=0.0001, \n",
    "                 solver=None,\n",
    "                 regularization=None,\n",
    "                 line_iters=0.0):\n",
    "        self.eta = eta\n",
    "        self.iters = iterations\n",
    "        self.C = C\n",
    "        self.solver = solver\n",
    "        self.classifiers_ = []\n",
    "        self.regularization = regularization\n",
    "        self.line_iters = line_iters\n",
    "        # internally we will store the weights as self.w_ to keep with sklearn conventions\n",
    "    \n",
    "    def __str__(self):\n",
    "        if(hasattr(self,'w_')):\n",
    "            return 'MultiClass Logistic Regression Object with coefficients:\\n'+ str(self.w_) # is we have trained the object\n",
    "        else:\n",
    "            return 'Untrained MultiClass Logistic Regression Object'\n",
    "        \n",
    "    def fit(self,X,y):\n",
    "        num_samples, num_features = X.shape\n",
    "        self.unique_ = np.sort(np.unique(y)) # get each unique class value\n",
    "        num_unique_classes = len(self.unique_)\n",
    "        self.classifiers_ = []\n",
    "        for i,yval in enumerate(self.unique_): # for each unique value\n",
    "            y_binary = np.array(y==yval).astype(int) # create a binary problem\n",
    "            # train the binary classifier for this class\n",
    "            \n",
    "            if self.solver == LineSearchLogisticRegression:\n",
    "                hblr = self.solver(eta=self.eta,\n",
    "                                   iterations=self.iters,\n",
    "                                   C=self.C,\n",
    "                                   regularization = self.regularization,\n",
    "                                   line_iters = self.line_iters)\n",
    "            elif self.solver == StochasticLogisticRegression:\n",
    "                hblr = self.solver(eta=self.eta,\n",
    "                                   iterations=self.iters,\n",
    "                                   C=self.C,\n",
    "                                   regularization = self.regularization)\n",
    "            elif self.solver == HessianBinaryLogisticRegression:\n",
    "                hblr = self.solver(eta=self.eta,\n",
    "                                   iterations=self.iters,\n",
    "                                   C=self.C,\n",
    "                                   regularization = self.regularization)\n",
    "            elif self.solver == BFGSBinaryLogisticRegression:\n",
    "                hblr = self.solver(eta=self.eta,\n",
    "                                   iterations=self.iters,\n",
    "                                   C=self.C,\n",
    "                                   regularization = self.regularization)\n",
    "            \n",
    "            hblr.fit(X,y_binary)\n",
    "\n",
    "            # add the trained classifier to the list\n",
    "            self.classifiers_.append(hblr)\n",
    "            \n",
    "        # save all the weights into one matrix, separate column for each class\n",
    "        self.w_ = np.hstack([x.w_ for x in self.classifiers_]).T\n",
    "        \n",
    "    def predict_proba(self,X):\n",
    "        probs = []\n",
    "        for hblr in self.classifiers_:\n",
    "            probs.append(hblr.predict_proba(X).reshape((len(X),1))) # get probability for each classifier\n",
    "        \n",
    "        return np.hstack(probs) # make into single matrix\n",
    "    \n",
    "    def predict(self,X):\n",
    "        return np.argmax(self.predict_proba(X),axis=1) # take argmax along row"
   ]
  },
  {
   "cell_type": "markdown",
   "id": "0b5505b9",
   "metadata": {},
   "source": [
    "## 2.2 Training classifier:"
   ]
  },
  {
   "cell_type": "markdown",
   "id": "a3a698aa",
   "metadata": {},
   "source": [
    "&emsp; In this part, we decide to define the number of iterations as 10. Because we are implementing our model base on a dataset which has approximately 50 thousand instances. If we choose to train it for too many iterations, it would take too much time for Jupyter to process."
   ]
  },
  {
   "cell_type": "code",
   "execution_count": 22,
   "id": "9c14873e",
   "metadata": {},
   "outputs": [],
   "source": [
    "iterations_num = 10\n",
    "object_list = ShuffleSplit(n_splits=iterations_num, train_size=0.8, test_size=0.2)\n",
    "\n",
    "def trainingModel(eta, C, solver, regularization, line_iters=0.0):\n",
    "    lr_clf = MultiClassLogisticRegression(eta=eta, iterations=10, \n",
    "                                                     C=C, solver=solver,\n",
    "                                                     regularization=regularization,\n",
    "                                                     line_iters = line_iters) # get object\n",
    "    \n",
    "    accuracy = []\n",
    "    accuracy_mean = 0\n",
    "    i = 0\n",
    "    \n",
    "    for train_indices, test_indices in object_list.split(x,y):\n",
    "        lr_clf.fit(x[train_indices], y[train_indices])  # train object\n",
    "        y_hat = lr_clf.predict(x[test_indices]) # get test set predictions\n",
    "        accuracy.append(mt.accuracy_score(y[test_indices],y_hat))\n",
    "        if solver == HessianBinaryLogisticRegression:\n",
    "            if i == 0:\n",
    "                break\n",
    "    \n",
    "    accuracy_mean = np.mean(accuracy)\n",
    "    \n",
    "    return accuracy, accuracy_mean\n",
    "\n",
    "eta_list = np.logspace(-4,0,10)\n",
    "C_list = np.logspace(-4,0,10)\n",
    "regularization_list = [None, 'L1', 'L2', 'L1&L2']\n",
    "line_iters = 2"
   ]
  },
  {
   "cell_type": "markdown",
   "id": "87bfd074",
   "metadata": {},
   "source": [
    "### 2.2.1 Steepest ascent logistic regression model:"
   ]
  },
  {
   "cell_type": "markdown",
   "id": "287804d9",
   "metadata": {},
   "source": [
    "&emsp; The optimal parameters selection:"
   ]
  },
  {
   "cell_type": "code",
   "execution_count": 23,
   "id": "720a2376",
   "metadata": {},
   "outputs": [
    {
     "name": "stdout",
     "output_type": "stream",
     "text": [
      "best eta is: 1.0\n",
      "best C is: 0.005994842503189409\n",
      "best regularization is: None\n",
      "best accuracy max is: 0.7870050656466454\n"
     ]
    }
   ],
   "source": [
    "solver_name = LineSearchLogisticRegression\n",
    "\n",
    "accuracy_max = -1\n",
    "accuracy_list = []\n",
    "accuracy_mean_list = []\n",
    "result_eta_steepest = 0\n",
    "result_c_steepest = 0\n",
    "result_regularization_steepest = None\n",
    "\n",
    "for eta in eta_list:\n",
    "    for C in C_list:\n",
    "        for regularization in regularization_list:\n",
    "            accuracy, accuracy_mean = trainingModel(eta, C, solver_name, regularization)\n",
    "            accuracy_list.append(accuracy)\n",
    "            accuracy_mean_list.append(accuracy_mean)\n",
    "            if accuracy_max <= accuracy_mean:\n",
    "                accuracy_max = accuracy_mean\n",
    "                result_eta_steepest = eta\n",
    "                result_c_steepest = C\n",
    "                result_regularization_steepest = regularization\n",
    "\n",
    "print(f\"best eta is: {result_eta_steepest}\")\n",
    "print(f\"best C is: {result_c_steepest}\")\n",
    "print(f\"best regularization is: {result_regularization_steepest}\")\n",
    "print(f\"best accuracy max is: {accuracy_max}\")"
   ]
  },
  {
   "cell_type": "markdown",
   "id": "7aefe328",
   "metadata": {},
   "source": [
    "&emsp; Visualize the performance of the classifier with different C when eta and regularization are the best values:"
   ]
  },
  {
   "cell_type": "code",
   "execution_count": 24,
   "id": "fa35cb74",
   "metadata": {},
   "outputs": [
    {
     "data": {
      "image/png": "[encoded data removed]",
      "text/plain": [
       "<Figure size 432x288 with 1 Axes>"
      ]
     },
     "metadata": {
      "needs_background": "light"
     },
     "output_type": "display_data"
    }
   ],
   "source": [
    "import matplotlib.pyplot as plt\n",
    "\n",
    "accuracy_list = []\n",
    "accuracy_mean_list = []\n",
    "for C in C_list:\n",
    "        accuracy, accuracy_mean = trainingModel(result_eta_steepest, C, solver_name, result_regularization_steepest)\n",
    "        accuracy_list.append(accuracy)\n",
    "        accuracy_mean_list.append(np.mean(accuracy_mean))\n",
    "\n",
    "plt.boxplot(accuracy_list)\n",
    "plt.xticks(range(1,len(C_list)+1),['%.4f'%(c) for c in C_list],rotation='vertical')\n",
    "plt.plot(range(1,len(C_list)+1),accuracy_mean_list,c = 'red')\n",
    "plt.scatter(range(1,len(C_list)+1), accuracy_mean_list, marker='s',\n",
    "            s=30,edgecolor='yellow',facecolor='blue',zorder=3)\n",
    "\n",
    "plt.xlabel('C value')\n",
    "plt.ylabel('validation accuracy')\n",
    "plt.show()"
   ]
  },
  {
   "cell_type": "markdown",
   "id": "4e873444",
   "metadata": {},
   "source": [
    "&emsp; Visualize the performance of the classifier with different eta when C and regularization are the best values:"
   ]
  },
  {
   "cell_type": "code",
   "execution_count": 25,
   "id": "95dada8a",
   "metadata": {},
   "outputs": [
    {
     "data": {
      "image/png": "[encoded data removed]",
      "text/plain": [
       "<Figure size 432x288 with 1 Axes>"
      ]
     },
     "metadata": {
      "needs_background": "light"
     },
     "output_type": "display_data"
    }
   ],
   "source": [
    "accuracy_list = []\n",
    "accuracy_mean_list = []\n",
    "for eta in eta_list:\n",
    "        accuracy, accuracy_mean = trainingModel(eta, result_c_steepest, solver_name, result_regularization_steepest)\n",
    "        accuracy_list.append(accuracy)\n",
    "        accuracy_mean_list.append(np.mean(accuracy_mean))\n",
    "\n",
    "plt.boxplot(accuracy_list)\n",
    "plt.xticks(range(1,len(eta_list)+1),['%.4f'%(c) for c in eta_list],rotation='vertical')\n",
    "plt.plot(range(1,len(eta_list)+1),accuracy_mean_list,c = 'red')\n",
    "plt.scatter(range(1,len(eta_list)+1), accuracy_mean_list, marker='s',\n",
    "            s=30,edgecolor='yellow',facecolor='blue',zorder=3)\n",
    "\n",
    "plt.xlabel('eta value')\n",
    "plt.ylabel('validation accuracy')\n",
    "plt.show()"
   ]
  },
  {
   "cell_type": "markdown",
   "id": "8c5e1140",
   "metadata": {},
   "source": [
    "### 2.2.2 Stochastic gradient ascent logistic regression model:"
   ]
  },
  {
   "cell_type": "markdown",
   "id": "0f25228b",
   "metadata": {},
   "source": [
    "&emsp; The optimal parameters selection:"
   ]
  },
  {
   "cell_type": "code",
   "execution_count": 26,
   "id": "ab314cfa",
   "metadata": {},
   "outputs": [
    {
     "name": "stdout",
     "output_type": "stream",
     "text": [
      "best eta is: 0.005994842503189409\n",
      "best C is: 0.0002782559402207126\n",
      "best regularization is: L1\n",
      "best accuracy max is: 0.6452496640132327\n"
     ]
    }
   ],
   "source": [
    "solver_name = StochasticLogisticRegression\n",
    "\n",
    "accuracy_max = -1\n",
    "accuracy_list = []\n",
    "accuracy_mean_list = []\n",
    "result_eta_stochastic = 0\n",
    "result_c_stochastic = 0\n",
    "result_regularization_stochastic = None\n",
    "\n",
    "for eta in eta_list:\n",
    "    for C in C_list:\n",
    "        for regularization in regularization_list:\n",
    "            accuracy, accuracy_mean = trainingModel(eta, C, solver_name, regularization)\n",
    "            accuracy_list.append(accuracy)\n",
    "            accuracy_mean_list.append(accuracy_mean)\n",
    "            if accuracy_max <= accuracy_mean:\n",
    "                accuracy_max = accuracy_mean\n",
    "                result_eta_stochastic = eta\n",
    "                result_c_stochastic = C\n",
    "                result_regularization_stochastic = regularization\n",
    "\n",
    "print(f\"best eta is: {result_eta_stochastic}\")\n",
    "print(f\"best C is: {result_c_stochastic}\")\n",
    "print(f\"best regularization is: {result_regularization_stochastic}\")\n",
    "print(f\"best accuracy max is: {accuracy_max}\")"
   ]
  },
  {
   "cell_type": "markdown",
   "id": "eb3fd6aa",
   "metadata": {},
   "source": [
    "&emsp; Visualize the performance of the classifier with different C when eta and regularization are the best values:"
   ]
  },
  {
   "cell_type": "code",
   "execution_count": 27,
   "id": "c7380445",
   "metadata": {},
   "outputs": [
    {
     "data": {
      "image/png": "[encoded data removed]",
      "text/plain": [
       "<Figure size 432x288 with 1 Axes>"
      ]
     },
     "metadata": {
      "needs_background": "light"
     },
     "output_type": "display_data"
    }
   ],
   "source": [
    "accuracy_list = []\n",
    "accuracy_mean_list = []\n",
    "for C in C_list:\n",
    "        accuracy, accuracy_mean = trainingModel(result_eta_stochastic, C, solver_name, result_regularization_stochastic)\n",
    "        accuracy_list.append(accuracy)\n",
    "        accuracy_mean_list.append(np.mean(accuracy_mean))\n",
    "\n",
    "plt.boxplot(accuracy_list)\n",
    "plt.xticks(range(1,len(C_list)+1),['%.4f'%(c) for c in C_list],rotation='vertical')\n",
    "plt.plot(range(1,len(C_list)+1),accuracy_mean_list,c = 'red')\n",
    "plt.scatter(range(1,len(C_list)+1), accuracy_mean_list, marker='s',\n",
    "            s=30,edgecolor='yellow',facecolor='blue',zorder=3)\n",
    "\n",
    "plt.xlabel('C value')\n",
    "plt.ylabel('validation accuracy')\n",
    "plt.show()"
   ]
  },
  {
   "cell_type": "markdown",
   "id": "47295301",
   "metadata": {},
   "source": [
    "&emsp; Visualize the performance of the classifier with different eta when C and regularization are the best values:"
   ]
  },
  {
   "cell_type": "code",
   "execution_count": 28,
   "id": "e4ff2ffc",
   "metadata": {},
   "outputs": [
    {
     "data": {
      "image/png": "[encoded data removed]",
      "text/plain": [
       "<Figure size 432x288 with 1 Axes>"
      ]
     },
     "metadata": {
      "needs_background": "light"
     },
     "output_type": "display_data"
    }
   ],
   "source": [
    "accuracy_list = []\n",
    "accuracy_mean_list = []\n",
    "for eta in eta_list:\n",
    "        accuracy, accuracy_mean = trainingModel(eta, result_c_stochastic, solver_name, result_regularization_stochastic)\n",
    "        accuracy_list.append(accuracy)\n",
    "        accuracy_mean_list.append(np.mean(accuracy_mean))\n",
    "\n",
    "plt.boxplot(accuracy_list)\n",
    "plt.xticks(range(1,len(eta_list)+1),['%.4f'%(c) for c in eta_list],rotation='vertical')\n",
    "plt.plot(range(1,len(eta_list)+1),accuracy_mean_list,c = 'red')\n",
    "plt.scatter(range(1,len(eta_list)+1), accuracy_mean_list, marker='s',\n",
    "            s=30,edgecolor='yellow',facecolor='blue',zorder=3)\n",
    "\n",
    "plt.xlabel('eta value')\n",
    "plt.ylabel('validation accuracy')\n",
    "plt.show()"
   ]
  },
  {
   "cell_type": "markdown",
   "id": "5c78dea0",
   "metadata": {},
   "source": [
    "### 2.2.3 Newton's method model:"
   ]
  },
  {
   "cell_type": "markdown",
   "id": "7f252b31",
   "metadata": {},
   "source": [
    "&emsp; The optimal parameters selection:"
   ]
  },
  {
   "cell_type": "code",
   "execution_count": 29,
   "id": "c9406e9e",
   "metadata": {},
   "outputs": [
    {
     "name": "stdout",
     "output_type": "stream",
     "text": [
      "best eta is: 1.0\n",
      "best C is: 0.01778279410038923\n",
      "best regularization is: L2\n",
      "best accuracy max is: 0.8147420655432648\n"
     ]
    }
   ],
   "source": [
    "solver_name = HessianBinaryLogisticRegression\n",
    "\n",
    "accuracy_max = -1\n",
    "accuracy_list = []\n",
    "accuracy_mean_list = []\n",
    "result_eta_hessian = 0\n",
    "result_c_hessian = 0\n",
    "result_regularization_hessian = None\n",
    "\n",
    "eta_list = np.logspace(-2,0,5)\n",
    "C_list = np.logspace(-4,-1,5)\n",
    "regularization_list = [None, 'L1', 'L2', 'L1&L2']\n",
    "\n",
    "for eta in eta_list:\n",
    "    for C in C_list:\n",
    "        for regularization in regularization_list:\n",
    "            accuracy, accuracy_mean = trainingModel(eta, C, solver_name, regularization)\n",
    "            accuracy_list.append(accuracy)\n",
    "            accuracy_mean_list.append(accuracy_mean)\n",
    "            if accuracy_max <= accuracy_mean:\n",
    "                accuracy_max = accuracy_mean\n",
    "                result_eta_hessian = eta\n",
    "                result_c_hessian = C\n",
    "                result_regularization_hessian = regularization\n",
    "\n",
    "print(f\"best eta is: {result_eta_hessian}\")\n",
    "print(f\"best C is: {result_c_hessian}\")\n",
    "print(f\"best regularization is: {result_regularization_hessian}\")\n",
    "print(f\"best accuracy max is: {accuracy_max}\")"
   ]
  },
  {
   "cell_type": "markdown",
   "id": "07a1af7e",
   "metadata": {},
   "source": [
    "&emsp; Visualize the performance of the classifier with different C when eta and regularization are the best values:"
   ]
  },
  {
   "cell_type": "code",
   "execution_count": 30,
   "id": "d6d6858f",
   "metadata": {},
   "outputs": [
    {
     "data": {
      "image/png": "[encoded data removed]",
      "text/plain": [
       "<Figure size 432x288 with 1 Axes>"
      ]
     },
     "metadata": {
      "needs_background": "light"
     },
     "output_type": "display_data"
    }
   ],
   "source": [
    "accuracy_list = []\n",
    "accuracy_mean_list = []\n",
    "for C in C_list:\n",
    "        accuracy, accuracy_mean = trainingModel(result_eta_hessian, C, solver_name, result_regularization_hessian)\n",
    "        accuracy_list.append(accuracy)\n",
    "        accuracy_mean_list.append(np.mean(accuracy_mean))\n",
    "\n",
    "plt.boxplot(accuracy_list)\n",
    "plt.xticks(range(1,len(C_list)+1),['%.4f'%(c) for c in C_list],rotation='vertical')\n",
    "plt.plot(range(1,len(C_list)+1),accuracy_mean_list,c = 'red')\n",
    "plt.scatter(range(1,len(C_list)+1), accuracy_mean_list, marker='s',\n",
    "            s=30,edgecolor='yellow',facecolor='blue',zorder=3)\n",
    "\n",
    "plt.xlabel('C value')\n",
    "plt.ylabel('validation accuracy')\n",
    "plt.show()"
   ]
  },
  {
   "cell_type": "markdown",
   "id": "9dacf865",
   "metadata": {},
   "source": [
    "&emsp; Visualize the performance of the classifier with different eta when C and regularization are the best values:"
   ]
  },
  {
   "cell_type": "code",
   "execution_count": 31,
   "id": "833ed9fd",
   "metadata": {},
   "outputs": [
    {
     "data": {
      "image/png": "[encoded data removed]",
      "text/plain": [
       "<Figure size 432x288 with 1 Axes>"
      ]
     },
     "metadata": {
      "needs_background": "light"
     },
     "output_type": "display_data"
    }
   ],
   "source": [
    "accuracy_list = []\n",
    "accuracy_mean_list = []\n",
    "for eta in eta_list:\n",
    "        accuracy, accuracy_mean = trainingModel(eta, result_c_hessian, solver_name, result_regularization_hessian)\n",
    "        accuracy_list.append(accuracy)\n",
    "        accuracy_mean_list.append(np.mean(accuracy_mean))\n",
    "\n",
    "plt.boxplot(accuracy_list)\n",
    "plt.xticks(range(1,len(eta_list)+1),['%.4f'%(c) for c in eta_list],rotation='vertical')\n",
    "plt.plot(range(1,len(eta_list)+1),accuracy_mean_list,c = 'red')\n",
    "plt.scatter(range(1,len(eta_list)+1), accuracy_mean_list, marker='s',\n",
    "            s=30,edgecolor='yellow',facecolor='blue',zorder=3)\n",
    "\n",
    "plt.xlabel('eta value')\n",
    "plt.ylabel('validation accuracy')\n",
    "plt.show()"
   ]
  },
  {
   "cell_type": "markdown",
   "id": "b81d0e0c",
   "metadata": {},
   "source": [
    "### 2.2.4 Quasi-Newton methods model:"
   ]
  },
  {
   "cell_type": "markdown",
   "id": "0cb8bead",
   "metadata": {},
   "source": [
    "&emsp; The optimal parameters selection:"
   ]
  },
  {
   "cell_type": "code",
   "execution_count": 32,
   "id": "7ab389cc",
   "metadata": {},
   "outputs": [
    {
     "name": "stdout",
     "output_type": "stream",
     "text": [
      "best eta is: 0.000774263682681127\n",
      "best C is: 0.046415888336127774\n",
      "best regularization is: L2\n",
      "best accuracy is: 0.8226506771425617\n"
     ]
    }
   ],
   "source": [
    "solver_name = BFGSBinaryLogisticRegression\n",
    "\n",
    "accuracy_max = -1\n",
    "accuracy_list = []\n",
    "accuracy_mean_list = []\n",
    "result_eta_BFGS = 0\n",
    "result_c_BFGS = 0\n",
    "result_regularization_BFGS = None\n",
    "\n",
    "eta_list = np.logspace(-4,0,10)\n",
    "C_list = np.logspace(-4,0,10)\n",
    "regularization_list = [None, 'L1', 'L2', 'L1&L2']\n",
    "\n",
    "for eta in eta_list:\n",
    "    for C in C_list:\n",
    "        for regularization in regularization_list:\n",
    "            accuracy, accuracy_mean = trainingModel(eta, C, solver_name, regularization)\n",
    "            accuracy_list.append(accuracy)\n",
    "            accuracy_mean_list.append(accuracy_mean)\n",
    "            if accuracy_max <= accuracy_mean:\n",
    "                accuracy_max = accuracy_mean\n",
    "                result_eta_BFGS = eta\n",
    "                result_c_BFGS = C\n",
    "                result_regularization_BFGS = regularization\n",
    "\n",
    "print(f\"best eta is: {result_eta_BFGS}\")\n",
    "print(f\"best C is: {result_c_BFGS}\")\n",
    "print(f\"best regularization is: {result_regularization_BFGS}\")\n",
    "print(f\"best accuracy is: {accuracy_max}\")"
   ]
  },
  {
   "cell_type": "markdown",
   "id": "6ea65746",
   "metadata": {},
   "source": [
    "&emsp; Visualize the performance of the classifier with different C when eta and regularization are the best values:"
   ]
  },
  {
   "cell_type": "code",
   "execution_count": 33,
   "id": "8f68d245",
   "metadata": {},
   "outputs": [
    {
     "data": {
      "image/png": "[encoded data removed]",
      "text/plain": [
       "<Figure size 432x288 with 1 Axes>"
      ]
     },
     "metadata": {
      "needs_background": "light"
     },
     "output_type": "display_data"
    }
   ],
   "source": [
    "accuracy_list = []\n",
    "accuracy_mean_list = []\n",
    "for C in C_list:\n",
    "        accuracy, accuracy_mean = trainingModel(result_eta_BFGS, C, solver_name, result_regularization_BFGS)\n",
    "        accuracy_list.append(accuracy)\n",
    "        accuracy_mean_list.append(np.mean(accuracy_mean))\n",
    "\n",
    "plt.boxplot(accuracy_list)\n",
    "plt.xticks(range(1,len(C_list)+1),['%.4f'%(c) for c in C_list],rotation='vertical')\n",
    "plt.plot(range(1,len(C_list)+1),accuracy_mean_list,c = 'red')\n",
    "plt.scatter(range(1,len(C_list)+1), accuracy_mean_list, marker='s',\n",
    "            s=30,edgecolor='yellow',facecolor='blue',zorder=3)\n",
    "\n",
    "plt.xlabel('C value')\n",
    "plt.ylabel('validation accuracy')\n",
    "plt.show()"
   ]
  },
  {
   "cell_type": "markdown",
   "id": "a44485ca",
   "metadata": {},
   "source": [
    "&emsp; Visualize the performance of the classifier with different eta when C and regularization are the best values:"
   ]
  },
  {
   "cell_type": "code",
   "execution_count": 34,
   "id": "818bef5f",
   "metadata": {},
   "outputs": [
    {
     "data": {
      "image/png": "[encoded data removed]",
      "text/plain": [
       "<Figure size 432x288 with 1 Axes>"
      ]
     },
     "metadata": {
      "needs_background": "light"
     },
     "output_type": "display_data"
    }
   ],
   "source": [
    "accuracy_list = []\n",
    "accuracy_mean_list = []\n",
    "for eta in eta_list:\n",
    "        accuracy, accuracy_mean = trainingModel(eta, result_c_BFGS, solver_name, result_regularization_BFGS)\n",
    "        accuracy_list.append(accuracy)\n",
    "        accuracy_mean_list.append(np.mean(accuracy_mean))\n",
    "\n",
    "plt.boxplot(accuracy_list)\n",
    "plt.xticks(range(1,len(eta_list)+1),['%.4f'%(c) for c in eta_list],rotation='vertical')\n",
    "plt.plot(range(1,len(eta_list)+1),accuracy_mean_list,c = 'red')\n",
    "plt.scatter(range(1,len(eta_list)+1), accuracy_mean_list, marker='s',\n",
    "            s=30,edgecolor='yellow',facecolor='blue',zorder=3)\n",
    "\n",
    "plt.xlabel('eta value')\n",
    "plt.ylabel('validation accuracy')\n",
    "plt.show()"
   ]
  },
  {
   "cell_type": "markdown",
   "id": "2c381368",
   "metadata": {},
   "source": [
    "### 2.2.5 Is your method of selecting parameters justified? That is, do you think there is any \"data snooping\" involved with this method of selecting parameters?"
   ]
  },
  {
   "cell_type": "markdown",
   "id": "4957d98b",
   "metadata": {},
   "source": [
    "&emsp; The data snooping is known as a form of statistical bias that artificially obtain statistically significant results   base or data or analysis. The existence of data snooping is the main reason that cause the occurrence of overfitting. Therefore, we should check whether our model is overfitted in order to determine whether the data snooping is involved."
   ]
  },
  {
   "cell_type": "code",
   "execution_count": 35,
   "id": "9f65ada7",
   "metadata": {},
   "outputs": [
    {
     "name": "stdout",
     "output_type": "stream",
     "text": [
      "test one accuracy is: 0.8235604259278404\n",
      "test two accuracy is: 0.8190013439470691\n"
     ]
    }
   ],
   "source": [
    "object_list_1 = ShuffleSplit(n_splits=iterations_num, train_size=0.8, test_size=0.2)\n",
    "object_list_2 = ShuffleSplit(n_splits=iterations_num, train_size=0.8, test_size=0.2)\n",
    "\n",
    "new_classifier_object = MultiClassLogisticRegression(eta=result_eta_BFGS, iterations=10, \n",
    "                 C=result_c_BFGS, solver=BFGSBinaryLogisticRegression, regularization=result_regularization_BFGS)\n",
    "\n",
    "accuracy = []\n",
    "accuracy_mean = 0\n",
    "\n",
    "for train_indices, test_indicest in object_list_1.split(x,y):\n",
    "    new_classifier_object.fit(x[train_indices], y[train_indices])\n",
    "    y_hat = new_classifier_object.predict(x[test_indices])\n",
    "    accuracy.append(mt.accuracy_score(y[test_indices],y_hat))\n",
    "\n",
    "accuracy_mean = np.mean(accuracy)\n",
    "print(f\"test one accuracy is: {accuracy_mean}\")\n",
    "\n",
    "new_accuracy = []\n",
    "new_accuracy_mean = 0\n",
    "for _, test_indices in object_list_2.split(x,y):\n",
    "    y_hat = new_classifier_object.predict(x[test_indices])\n",
    "    new_accuracy.append(mt.accuracy_score(y[test_indices],y_hat))\n",
    "    \n",
    "new_accuracy_mean = np.mean(new_accuracy)\n",
    "print(f\"test two accuracy is: {new_accuracy_mean}\")"
   ]
  },
  {
   "cell_type": "markdown",
   "id": "a2b8a2af",
   "metadata": {},
   "source": [
    "&emsp; We have defined two pairs of training and testing sets above base on our model. One pair of training and testing set is used to obtain the common prediction result of our model, the other pair of training and testing set is used to produce another prediction result as a control data. As we can see, the prediction accuracy of two airs of training and testing sets is quite similar, which represents our model is not overfitted. Therefore, we can conduct that the data snooping was not involved in selecting parameters by us."
   ]
  },
  {
   "cell_type": "markdown",
   "id": "c139ae99",
   "metadata": {},
   "source": [
    "## 2.3 Compare with scikit-learn:"
   ]
  },
  {
   "cell_type": "code",
   "execution_count": 36,
   "id": "eb81ba0f",
   "metadata": {},
   "outputs": [
    {
     "name": "stdout",
     "output_type": "stream",
     "text": [
      "The accuracy is: 0.8145353044557014\n",
      "CPU times: total: 125 ms\n",
      "Wall time: 686 ms\n"
     ]
    }
   ],
   "source": [
    "%%time\n",
    "\n",
    "accuracy_scikit_learn = []\n",
    "accuracy_mean = 0\n",
    "\n",
    "scikit_learn_object = SKLogisticRegression()\n",
    "for train_indices, test_indices in object_list.split(x,y):\n",
    "    scikit_learn_object.fit(x[train_indices],y[train_indices])\n",
    "    yhat = scikit_learn_object.predict(x[test_indices])\n",
    "    accuracy_scikit_learn.append(accuracy_score(y[test_indices],yhat))\n",
    "accuracy_mean = np.mean(accuracy_scikit_learn)\n",
    "print(f\"The accuracy is: {accuracy_mean}\")"
   ]
  },
  {
   "cell_type": "code",
   "execution_count": 37,
   "id": "a5a140de",
   "metadata": {},
   "outputs": [
    {
     "name": "stdout",
     "output_type": "stream",
     "text": [
      "test two accuracy is: 0.8195079086115993\n",
      "CPU times: total: 219 ms\n",
      "Wall time: 864 ms\n"
     ]
    }
   ],
   "source": [
    "%%time\n",
    "\n",
    "classifier_object = MultiClassLogisticRegression(eta=result_eta_BFGS, iterations=10, \n",
    "                 C=result_c_BFGS, solver=BFGSBinaryLogisticRegression, regularization=result_regularization_BFGS)\n",
    "\n",
    "accuracy = []\n",
    "accuracy_mean = 0\n",
    "\n",
    "for train_indices, test_indicest in object_list.split(x,y):\n",
    "    classifier_object.fit(x[train_indices], y[train_indices])\n",
    "    y_hat = classifier_object.predict(x[test_indices])\n",
    "    accuracy.append(accuracy_score(y[test_indices],y_hat))\n",
    "\n",
    "accuracy_mean = np.mean(accuracy)\n",
    "print(f\"test two accuracy is: {accuracy_mean}\")"
   ]
  },
  {
   "cell_type": "code",
   "execution_count": 38,
   "id": "cb630297",
   "metadata": {},
   "outputs": [
    {
     "data": {
      "image/png": "[encoded data removed]",
      "text/plain": [
       "<Figure size 432x288 with 1 Axes>"
      ]
     },
     "metadata": {
      "needs_background": "light"
     },
     "output_type": "display_data"
    }
   ],
   "source": [
    "plt.plot(range(1,iterations_num+1),accuracy_scikit_learn,c = 'magenta')\n",
    "plt.plot(range(1,iterations_num+1),accuracy,c = 'cyan')\n",
    "plt.xlabel('The number')\n",
    "plt.ylabel('The accuracy')\n",
    "\n",
    "plt.show()"
   ]
  },
  {
   "cell_type": "markdown",
   "id": "47f93c26",
   "metadata": {},
   "source": [
    "&emsp; As the accuracy result shown above, we could know that there is no too much difference between the prediction accurary of our best optimization procedure and the procedure using scikit-learn. However, according the graph above, it seems the prediction accuracy produced by our procedure is relatively stable as the number of iterations increases. Now, let's check the spent time of two procedure, it is obvious that the scikit-learn procedure can produce prediction result faster than our best optimization procedure. The main reason resulting in this situation is that the scikit-learn has implement their procedure base on C++, which will take CPU less time to complie than Python."
   ]
  },
  {
   "cell_type": "markdown",
   "id": "be9a22c3",
   "metadata": {},
   "source": [
    "# 3. Deployment:"
   ]
  },
  {
   "cell_type": "markdown",
   "id": "ef80dcc4",
   "metadata": {},
   "source": [
    "&emsp; As we have mentioned in the last part. Our implementation will produce prediction result with more stable accuracy, yet implementation of scikit-learn will produce prodiction result faster than ours. Therefore, we recommend our users to use the implementation of scikit-learn if they plan to deploy machine learning model for online analysis in the sales process. Because the customers of webshop would rather choose the merchants who could provide feedback to them without too much delay. However, if our users try to deploy machine learning model for offline analysis before the diamond processing, we would like to recommend our implementation. Because the diamond processing company may prefer the accuracy of preliminary price estimate for the diamond, instead of immediately processing a newly unearthed diamond."
   ]
  },
  {
   "cell_type": "markdown",
   "id": "ca131d4f",
   "metadata": {},
   "source": [
    "# 4. Exceptional work:"
   ]
  },
  {
   "cell_type": "markdown",
   "id": "697eb14e",
   "metadata": {},
   "source": [
    "&emsp; Choosing using mean square error as objective function instead of maximum likelihood:<br>\n",
    "&emsp; Because of:\n",
    "\n",
    "$$ \\mathbf{H}_{j,k}(\\mathbf{w}) = \\frac{\\partial}{\\partial w_k} \\underbrace{\\frac{\\partial}{\\partial w_j}l(\\mathbf{w})}_{\\text{first derivative}} $$\n",
    "\n",
    "$$ \\mathbf{J}(\\mathbf{w}) = \\sum_i \\left(y^{(i)}-g(\\mathbf{w}^T\\cdot\\mathbf{x}^{(i)})\\right)^{2} $$\n",
    "\n",
    "&emsp; And:\n",
    "\n",
    "$$ \\frac{\\partial}{\\partial w_j}J(\\mathbf{w}) = \\sum_i \\left(-2*\\left[y^{(i)}-g(\\mathbf{w}^T\\cdot\\mathbf{x}^{(i)}) - g(\\mathbf{w}^T\\cdot\\mathbf{x}^{(i)})^2 -\n",
    "y^{(i)}-g(\\mathbf{w}^T\\cdot\\mathbf{x}^{(i)})^2 - g(\\mathbf{w}^T\\cdot\\mathbf{x}^{(i)})^3\n",
    "\\right]\\right)x_j^{(i)} $$\n",
    "\n",
    "&emsp; As a result:\n",
    "\n",
    "$$\n",
    "\\begin{split}\n",
    "\\mathbf{H}_{j,k}(\\mathbf{w}) & = \\frac{\\partial}{\\partial w_j} \\sum_i \\left(-2*\\left[y^{(i)}-g(\\mathbf{w}^T\\cdot\\mathbf{x}^{(i)}) - g(\\mathbf{w}^T\\cdot\\mathbf{x}^{(i)})^2 -\n",
    "y^{(i)}-g(\\mathbf{w}^T\\cdot\\mathbf{x}^{(i)})^2 - g(\\mathbf{w}^T\\cdot\\mathbf{x}^{(i)})^3\n",
    "\\right]\\right)x_j^{(i)} \\\\\n",
    "& = \\sum_{i=1}^M \\left[-2*\\left[ y^{(i)}-2*g(\\mathbf{w}^T\\cdot\\mathbf{x}^{(i)})-\n",
    "2*y^{(i)}*g(\\mathbf{w}^T\\cdot\\mathbf{x}^{(i)}) + 3*g(\\mathbf{w}^T\\cdot\\mathbf{x}^{(i)})^2\\right]\n",
    "*g(\\mathbf{w}^T\\cdot\\mathbf{x}^{(i)}) \\left(1-g(\\mathbf{w}^T\\cdot\\mathbf{x}^{(i)})\\right)\\right]\n",
    "x_k^{(i)}x_j^{(i)}\\\\\n",
    "\\end{split}\n",
    "$$"
   ]
  },
  {
   "cell_type": "code",
   "execution_count": 39,
   "id": "7fc7e676",
   "metadata": {},
   "outputs": [],
   "source": [
    "class HessianBinaryLogisticRegression(BinaryLogisticRegression):\n",
    "    # just overwrite gradient function\n",
    "    def _get_gradient(self,X,y):\n",
    "        g = self.predict_proba(X,add_bias=False).ravel() # get sigmoid value for all classes\n",
    "        hessian = X.T @ np.diag(-2*(3*g*g-2*g*y-2*g+y)*g*(1-g)) @ X\n",
    "\n",
    "        ydiff = y-g # get y difference\n",
    "        gradient = np.sum(X * ydiff[:,np.newaxis], axis=0) # make ydiff a column vector and multiply through\n",
    "        gradient = gradient.reshape(self.w_.shape)\n",
    "        \n",
    "        if self.regularization == 'L1':\n",
    "            hessian = X.T @ np.diag(-2*(3*g*g-2*g*y-2*g+y)*g*(1-g)) @ X \n",
    "            gradient[1:] += -self.C\n",
    "        elif self.regularization == 'L2':\n",
    "            hessian = X.T @ np.diag(-2*(3*g*g-2*g*y-2*g+y)*g*(1-g)) @ X - 2 * self.C\n",
    "            gradient[1:] += -2 * self.w_[1:] * self.C\n",
    "        elif self.regularization == 'L1&L2':\n",
    "            hessian = X.T @ np.diag(-2*(3*g*g-2*g*y-2*g+y)*g*(1-g)) @ X - self.C\n",
    "            gradient[1:] += -self.C -2 * self.w_[1:] * self.C\n",
    "        \n",
    "        return pinv(hessian) @ gradient"
   ]
  },
  {
   "cell_type": "code",
   "execution_count": 40,
   "id": "58bdd891",
   "metadata": {},
   "outputs": [
    {
     "name": "stdout",
     "output_type": "stream",
     "text": [
      "best eta is: 0.31622776601683794\n",
      "best C is: 0.01778279410038923\n",
      "best regularization is: L2\n",
      "best accuracy is: 0.8105034632482166\n"
     ]
    }
   ],
   "source": [
    "solver_name = HessianBinaryLogisticRegression\n",
    "\n",
    "accuracy_max = -1\n",
    "accuracy_list = []\n",
    "accuracy_mean_list = []\n",
    "result_eta = 0\n",
    "result_c = 0\n",
    "result_regularization = None\n",
    "\n",
    "eta_list = np.logspace(-2,0,5)\n",
    "C_list = np.logspace(-4,-1,5)\n",
    "regularization_list = [None, 'L1', 'L2', 'L1&L2']\n",
    "\n",
    "for eta in eta_list:\n",
    "    for C in C_list:\n",
    "        for regularization in regularization_list:\n",
    "            accuracy, accuracy_mean = trainingModel(eta, C, solver_name, regularization)\n",
    "            accuracy_list.append(accuracy)\n",
    "            accuracy_mean_list.append(accuracy_mean)\n",
    "            if accuracy_max <= accuracy_mean:\n",
    "                accuracy_max = accuracy_mean\n",
    "                result_eta = eta\n",
    "                result_c = C\n",
    "                result_regularization = regularization\n",
    "\n",
    "print(f\"best eta is: {result_eta}\")\n",
    "print(f\"best C is: {result_c}\")\n",
    "print(f\"best regularization is: {result_regularization}\")\n",
    "print(f\"best accuracy is: {accuracy_max}\")"
   ]
  },
  {
   "cell_type": "markdown",
   "id": "ed41a861",
   "metadata": {},
   "source": [
    "&emsp; We have double checked our equation and make sure it is correct. As we can see above, the prediction accuracy is in the sufficient range, if we using mean square error to implement objective function. However, it is still lower than the accuracy of prediction produced by objective function using maximum likelihood estimation. What's more, maximum likelihood estimation is a method of estimating the parameters of an assumed probability distribution given some observed data. This is done by maximizing the likelihood function so that the observed data is most probable under the assumed statistical model. Therefore, we prefer maximum likelihood estimation."
   ]
  }
 ],
 "metadata": {
  "kernelspec": {
   "display_name": "Python 3 (ipykernel)",
   "language": "python",
   "name": "python3"
  },
  "language_info": {
   "codemirror_mode": {
    "name": "ipython",
    "version": 3
   },
   "file_extension": ".py",
   "mimetype": "text/x-python",
   "name": "python",
   "nbconvert_exporter": "python",
   "pygments_lexer": "ipython3",
   "version": "3.9.12"
  }
 },
 "nbformat": 4,
 "nbformat_minor": 5
}
