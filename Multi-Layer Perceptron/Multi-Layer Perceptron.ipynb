{
 "cells": [
  {
   "cell_type": "markdown",
   "id": "3f9d2f33",
   "metadata": {},
   "source": [
    "# Lab: Multi-Layer Perceptron"
   ]
  },
  {
   "cell_type": "markdown",
   "id": "c69312c7",
   "metadata": {},
   "source": [
    "## 1. Load, Split, and Balance:"
   ]
  },
  {
   "cell_type": "markdown",
   "id": "24d11eef",
   "metadata": {},
   "source": [
    "### 1.1 (1) Load the data into memory and save it to a pandas data frame. Do not normalize or one-hot encode any of the features until asked to do so later in the rubric. (2) Remove any observations that having missing data. (3) Encode any string data as integers for now. (4) You have the option of keeping the \"county\" variable or removing it. Be sure to discuss why you decided to keep/remove this variable:"
   ]
  },
  {
   "cell_type": "code",
   "execution_count": 1,
   "id": "4ea9f0b5",
   "metadata": {},
   "outputs": [],
   "source": [
    "import numpy as np\n",
    "import pandas as pd\n",
    "import matplotlib.pyplot as plt\n",
    "import warnings\n",
    "warnings.filterwarnings('ignore')"
   ]
  },
  {
   "cell_type": "markdown",
   "id": "639933f0",
   "metadata": {},
   "source": [
    "&emsp; In this part, we firstly loaded the dataset into memory and saved it as panda data frame:"
   ]
  },
  {
   "cell_type": "code",
   "execution_count": 2,
   "id": "4b34558c",
   "metadata": {},
   "outputs": [
    {
     "data": {
      "text/html": [
       "<div>\n",
       "<style scoped>\n",
       "    .dataframe tbody tr th:only-of-type {\n",
       "        vertical-align: middle;\n",
       "    }\n",
       "\n",
       "    .dataframe tbody tr th {\n",
       "        vertical-align: top;\n",
       "    }\n",
       "\n",
       "    .dataframe thead th {\n",
       "        text-align: right;\n",
       "    }\n",
       "</style>\n",
       "<table border=\"1\" class=\"dataframe\">\n",
       "  <thead>\n",
       "    <tr style=\"text-align: right;\">\n",
       "      <th></th>\n",
       "      <th>TractId</th>\n",
       "      <th>State</th>\n",
       "      <th>County</th>\n",
       "      <th>TotalPop</th>\n",
       "      <th>Men</th>\n",
       "      <th>Women</th>\n",
       "      <th>Hispanic</th>\n",
       "      <th>White</th>\n",
       "      <th>Black</th>\n",
       "      <th>Native</th>\n",
       "      <th>...</th>\n",
       "      <th>Walk</th>\n",
       "      <th>OtherTransp</th>\n",
       "      <th>WorkAtHome</th>\n",
       "      <th>MeanCommute</th>\n",
       "      <th>Employed</th>\n",
       "      <th>PrivateWork</th>\n",
       "      <th>PublicWork</th>\n",
       "      <th>SelfEmployed</th>\n",
       "      <th>FamilyWork</th>\n",
       "      <th>Unemployment</th>\n",
       "    </tr>\n",
       "  </thead>\n",
       "  <tbody>\n",
       "    <tr>\n",
       "      <th>0</th>\n",
       "      <td>1001020100</td>\n",
       "      <td>Alabama</td>\n",
       "      <td>Autauga County</td>\n",
       "      <td>1845</td>\n",
       "      <td>899</td>\n",
       "      <td>946</td>\n",
       "      <td>2.4</td>\n",
       "      <td>86.3</td>\n",
       "      <td>5.2</td>\n",
       "      <td>0.0</td>\n",
       "      <td>...</td>\n",
       "      <td>0.5</td>\n",
       "      <td>0.0</td>\n",
       "      <td>2.1</td>\n",
       "      <td>24.5</td>\n",
       "      <td>881</td>\n",
       "      <td>74.2</td>\n",
       "      <td>21.2</td>\n",
       "      <td>4.5</td>\n",
       "      <td>0.0</td>\n",
       "      <td>4.6</td>\n",
       "    </tr>\n",
       "    <tr>\n",
       "      <th>1</th>\n",
       "      <td>1001020200</td>\n",
       "      <td>Alabama</td>\n",
       "      <td>Autauga County</td>\n",
       "      <td>2172</td>\n",
       "      <td>1167</td>\n",
       "      <td>1005</td>\n",
       "      <td>1.1</td>\n",
       "      <td>41.6</td>\n",
       "      <td>54.5</td>\n",
       "      <td>0.0</td>\n",
       "      <td>...</td>\n",
       "      <td>0.0</td>\n",
       "      <td>0.5</td>\n",
       "      <td>0.0</td>\n",
       "      <td>22.2</td>\n",
       "      <td>852</td>\n",
       "      <td>75.9</td>\n",
       "      <td>15.0</td>\n",
       "      <td>9.0</td>\n",
       "      <td>0.0</td>\n",
       "      <td>3.4</td>\n",
       "    </tr>\n",
       "    <tr>\n",
       "      <th>2</th>\n",
       "      <td>1001020300</td>\n",
       "      <td>Alabama</td>\n",
       "      <td>Autauga County</td>\n",
       "      <td>3385</td>\n",
       "      <td>1533</td>\n",
       "      <td>1852</td>\n",
       "      <td>8.0</td>\n",
       "      <td>61.4</td>\n",
       "      <td>26.5</td>\n",
       "      <td>0.6</td>\n",
       "      <td>...</td>\n",
       "      <td>1.0</td>\n",
       "      <td>0.8</td>\n",
       "      <td>1.5</td>\n",
       "      <td>23.1</td>\n",
       "      <td>1482</td>\n",
       "      <td>73.3</td>\n",
       "      <td>21.1</td>\n",
       "      <td>4.8</td>\n",
       "      <td>0.7</td>\n",
       "      <td>4.7</td>\n",
       "    </tr>\n",
       "    <tr>\n",
       "      <th>3</th>\n",
       "      <td>1001020400</td>\n",
       "      <td>Alabama</td>\n",
       "      <td>Autauga County</td>\n",
       "      <td>4267</td>\n",
       "      <td>2001</td>\n",
       "      <td>2266</td>\n",
       "      <td>9.6</td>\n",
       "      <td>80.3</td>\n",
       "      <td>7.1</td>\n",
       "      <td>0.5</td>\n",
       "      <td>...</td>\n",
       "      <td>1.5</td>\n",
       "      <td>2.9</td>\n",
       "      <td>2.1</td>\n",
       "      <td>25.9</td>\n",
       "      <td>1849</td>\n",
       "      <td>75.8</td>\n",
       "      <td>19.7</td>\n",
       "      <td>4.5</td>\n",
       "      <td>0.0</td>\n",
       "      <td>6.1</td>\n",
       "    </tr>\n",
       "    <tr>\n",
       "      <th>4</th>\n",
       "      <td>1001020500</td>\n",
       "      <td>Alabama</td>\n",
       "      <td>Autauga County</td>\n",
       "      <td>9965</td>\n",
       "      <td>5054</td>\n",
       "      <td>4911</td>\n",
       "      <td>0.9</td>\n",
       "      <td>77.5</td>\n",
       "      <td>16.4</td>\n",
       "      <td>0.0</td>\n",
       "      <td>...</td>\n",
       "      <td>0.8</td>\n",
       "      <td>0.3</td>\n",
       "      <td>0.7</td>\n",
       "      <td>21.0</td>\n",
       "      <td>4787</td>\n",
       "      <td>71.4</td>\n",
       "      <td>24.1</td>\n",
       "      <td>4.5</td>\n",
       "      <td>0.0</td>\n",
       "      <td>2.3</td>\n",
       "    </tr>\n",
       "    <tr>\n",
       "      <th>...</th>\n",
       "      <td>...</td>\n",
       "      <td>...</td>\n",
       "      <td>...</td>\n",
       "      <td>...</td>\n",
       "      <td>...</td>\n",
       "      <td>...</td>\n",
       "      <td>...</td>\n",
       "      <td>...</td>\n",
       "      <td>...</td>\n",
       "      <td>...</td>\n",
       "      <td>...</td>\n",
       "      <td>...</td>\n",
       "      <td>...</td>\n",
       "      <td>...</td>\n",
       "      <td>...</td>\n",
       "      <td>...</td>\n",
       "      <td>...</td>\n",
       "      <td>...</td>\n",
       "      <td>...</td>\n",
       "      <td>...</td>\n",
       "      <td>...</td>\n",
       "    </tr>\n",
       "    <tr>\n",
       "      <th>73996</th>\n",
       "      <td>72153750501</td>\n",
       "      <td>Puerto Rico</td>\n",
       "      <td>Yauco Municipio</td>\n",
       "      <td>6011</td>\n",
       "      <td>3035</td>\n",
       "      <td>2976</td>\n",
       "      <td>99.7</td>\n",
       "      <td>0.3</td>\n",
       "      <td>0.0</td>\n",
       "      <td>0.0</td>\n",
       "      <td>...</td>\n",
       "      <td>0.5</td>\n",
       "      <td>0.0</td>\n",
       "      <td>3.6</td>\n",
       "      <td>26.9</td>\n",
       "      <td>1576</td>\n",
       "      <td>59.2</td>\n",
       "      <td>33.8</td>\n",
       "      <td>7.0</td>\n",
       "      <td>0.0</td>\n",
       "      <td>20.8</td>\n",
       "    </tr>\n",
       "    <tr>\n",
       "      <th>73997</th>\n",
       "      <td>72153750502</td>\n",
       "      <td>Puerto Rico</td>\n",
       "      <td>Yauco Municipio</td>\n",
       "      <td>2342</td>\n",
       "      <td>959</td>\n",
       "      <td>1383</td>\n",
       "      <td>99.1</td>\n",
       "      <td>0.9</td>\n",
       "      <td>0.0</td>\n",
       "      <td>0.0</td>\n",
       "      <td>...</td>\n",
       "      <td>0.0</td>\n",
       "      <td>0.0</td>\n",
       "      <td>1.3</td>\n",
       "      <td>25.3</td>\n",
       "      <td>666</td>\n",
       "      <td>58.4</td>\n",
       "      <td>35.4</td>\n",
       "      <td>6.2</td>\n",
       "      <td>0.0</td>\n",
       "      <td>26.3</td>\n",
       "    </tr>\n",
       "    <tr>\n",
       "      <th>73998</th>\n",
       "      <td>72153750503</td>\n",
       "      <td>Puerto Rico</td>\n",
       "      <td>Yauco Municipio</td>\n",
       "      <td>2218</td>\n",
       "      <td>1001</td>\n",
       "      <td>1217</td>\n",
       "      <td>99.5</td>\n",
       "      <td>0.2</td>\n",
       "      <td>0.0</td>\n",
       "      <td>0.0</td>\n",
       "      <td>...</td>\n",
       "      <td>3.4</td>\n",
       "      <td>0.0</td>\n",
       "      <td>3.4</td>\n",
       "      <td>23.5</td>\n",
       "      <td>560</td>\n",
       "      <td>57.5</td>\n",
       "      <td>34.5</td>\n",
       "      <td>8.0</td>\n",
       "      <td>0.0</td>\n",
       "      <td>23.0</td>\n",
       "    </tr>\n",
       "    <tr>\n",
       "      <th>73999</th>\n",
       "      <td>72153750601</td>\n",
       "      <td>Puerto Rico</td>\n",
       "      <td>Yauco Municipio</td>\n",
       "      <td>4380</td>\n",
       "      <td>1964</td>\n",
       "      <td>2416</td>\n",
       "      <td>100.0</td>\n",
       "      <td>0.0</td>\n",
       "      <td>0.0</td>\n",
       "      <td>0.0</td>\n",
       "      <td>...</td>\n",
       "      <td>0.0</td>\n",
       "      <td>0.0</td>\n",
       "      <td>0.0</td>\n",
       "      <td>24.1</td>\n",
       "      <td>1062</td>\n",
       "      <td>67.7</td>\n",
       "      <td>30.4</td>\n",
       "      <td>1.9</td>\n",
       "      <td>0.0</td>\n",
       "      <td>29.5</td>\n",
       "    </tr>\n",
       "    <tr>\n",
       "      <th>74000</th>\n",
       "      <td>72153750602</td>\n",
       "      <td>Puerto Rico</td>\n",
       "      <td>Yauco Municipio</td>\n",
       "      <td>3001</td>\n",
       "      <td>1343</td>\n",
       "      <td>1658</td>\n",
       "      <td>99.2</td>\n",
       "      <td>0.8</td>\n",
       "      <td>0.0</td>\n",
       "      <td>0.0</td>\n",
       "      <td>...</td>\n",
       "      <td>4.9</td>\n",
       "      <td>0.0</td>\n",
       "      <td>8.9</td>\n",
       "      <td>21.6</td>\n",
       "      <td>759</td>\n",
       "      <td>75.9</td>\n",
       "      <td>19.1</td>\n",
       "      <td>5.0</td>\n",
       "      <td>0.0</td>\n",
       "      <td>17.9</td>\n",
       "    </tr>\n",
       "  </tbody>\n",
       "</table>\n",
       "<p>74001 rows × 37 columns</p>\n",
       "</div>"
      ],
      "text/plain": [
       "           TractId        State           County  TotalPop   Men  Women  \\\n",
       "0       1001020100      Alabama   Autauga County      1845   899    946   \n",
       "1       1001020200      Alabama   Autauga County      2172  1167   1005   \n",
       "2       1001020300      Alabama   Autauga County      3385  1533   1852   \n",
       "3       1001020400      Alabama   Autauga County      4267  2001   2266   \n",
       "4       1001020500      Alabama   Autauga County      9965  5054   4911   \n",
       "...            ...          ...              ...       ...   ...    ...   \n",
       "73996  72153750501  Puerto Rico  Yauco Municipio      6011  3035   2976   \n",
       "73997  72153750502  Puerto Rico  Yauco Municipio      2342   959   1383   \n",
       "73998  72153750503  Puerto Rico  Yauco Municipio      2218  1001   1217   \n",
       "73999  72153750601  Puerto Rico  Yauco Municipio      4380  1964   2416   \n",
       "74000  72153750602  Puerto Rico  Yauco Municipio      3001  1343   1658   \n",
       "\n",
       "       Hispanic  White  Black  Native  ...  Walk  OtherTransp  WorkAtHome  \\\n",
       "0           2.4   86.3    5.2     0.0  ...   0.5          0.0         2.1   \n",
       "1           1.1   41.6   54.5     0.0  ...   0.0          0.5         0.0   \n",
       "2           8.0   61.4   26.5     0.6  ...   1.0          0.8         1.5   \n",
       "3           9.6   80.3    7.1     0.5  ...   1.5          2.9         2.1   \n",
       "4           0.9   77.5   16.4     0.0  ...   0.8          0.3         0.7   \n",
       "...         ...    ...    ...     ...  ...   ...          ...         ...   \n",
       "73996      99.7    0.3    0.0     0.0  ...   0.5          0.0         3.6   \n",
       "73997      99.1    0.9    0.0     0.0  ...   0.0          0.0         1.3   \n",
       "73998      99.5    0.2    0.0     0.0  ...   3.4          0.0         3.4   \n",
       "73999     100.0    0.0    0.0     0.0  ...   0.0          0.0         0.0   \n",
       "74000      99.2    0.8    0.0     0.0  ...   4.9          0.0         8.9   \n",
       "\n",
       "       MeanCommute  Employed  PrivateWork  PublicWork  SelfEmployed  \\\n",
       "0             24.5       881         74.2        21.2           4.5   \n",
       "1             22.2       852         75.9        15.0           9.0   \n",
       "2             23.1      1482         73.3        21.1           4.8   \n",
       "3             25.9      1849         75.8        19.7           4.5   \n",
       "4             21.0      4787         71.4        24.1           4.5   \n",
       "...            ...       ...          ...         ...           ...   \n",
       "73996         26.9      1576         59.2        33.8           7.0   \n",
       "73997         25.3       666         58.4        35.4           6.2   \n",
       "73998         23.5       560         57.5        34.5           8.0   \n",
       "73999         24.1      1062         67.7        30.4           1.9   \n",
       "74000         21.6       759         75.9        19.1           5.0   \n",
       "\n",
       "       FamilyWork  Unemployment  \n",
       "0             0.0           4.6  \n",
       "1             0.0           3.4  \n",
       "2             0.7           4.7  \n",
       "3             0.0           6.1  \n",
       "4             0.0           2.3  \n",
       "...           ...           ...  \n",
       "73996         0.0          20.8  \n",
       "73997         0.0          26.3  \n",
       "73998         0.0          23.0  \n",
       "73999         0.0          29.5  \n",
       "74000         0.0          17.9  \n",
       "\n",
       "[74001 rows x 37 columns]"
      ]
     },
     "execution_count": 2,
     "metadata": {},
     "output_type": "execute_result"
    }
   ],
   "source": [
    "df = pd.read_csv('acs2017_census_tract_data.csv')\n",
    "df"
   ]
  },
  {
   "cell_type": "markdown",
   "id": "299520b6",
   "metadata": {},
   "source": [
    "&emsp; In this part, we need to remove missing data exists:"
   ]
  },
  {
   "cell_type": "code",
   "execution_count": 3,
   "id": "502c5058",
   "metadata": {},
   "outputs": [
    {
     "name": "stdout",
     "output_type": "stream",
     "text": [
      "(74001, 37)\n"
     ]
    },
    {
     "data": {
      "text/plain": [
       "<AxesSubplot:>"
      ]
     },
     "execution_count": 3,
     "metadata": {},
     "output_type": "execute_result"
    },
    {
     "data": {
      "image/png": "[encoded data removed]",
      "text/plain": [
       "<Figure size 1800x720 with 2 Axes>"
      ]
     },
     "metadata": {
      "needs_background": "light"
     },
     "output_type": "display_data"
    }
   ],
   "source": [
    "import missingno as mn\n",
    "\n",
    "print(df.shape)\n",
    "mn.matrix(df)"
   ]
  },
  {
   "cell_type": "code",
   "execution_count": 4,
   "id": "b4a10bb4",
   "metadata": {},
   "outputs": [
    {
     "name": "stdout",
     "output_type": "stream",
     "text": [
      "(72718, 37)\n"
     ]
    },
    {
     "data": {
      "text/plain": [
       "<AxesSubplot:>"
      ]
     },
     "execution_count": 4,
     "metadata": {},
     "output_type": "execute_result"
    },
    {
     "data": {
      "image/png": "[encoded data removed]",
      "text/plain": [
       "<Figure size 1800x720 with 2 Axes>"
      ]
     },
     "metadata": {
      "needs_background": "light"
     },
     "output_type": "display_data"
    }
   ],
   "source": [
    "df = df.dropna()\n",
    "df = df.drop_duplicates()\n",
    "df = df.reset_index()\n",
    "df = df.drop('index', axis= 1)\n",
    "print(df.shape)\n",
    "mn.matrix(df)"
   ]
  },
  {
   "cell_type": "markdown",
   "id": "0130cf4a",
   "metadata": {},
   "source": [
    "&emsp; As we can see from above, there are two variables which contain string data. They are variable 'State' and 'County'. 'State' and 'County' represent different regions of the United States. In addition, a state includes plenty of countys. These two variables are statistically conflicting. Therefore, we decide to remove variable 'County'. Since variable 'TractId' just represents numerical index of different regions and has no impact on our later work, it is removable."
   ]
  },
  {
   "cell_type": "code",
   "execution_count": 5,
   "id": "34e79c0c",
   "metadata": {},
   "outputs": [
    {
     "data": {
      "text/html": [
       "<div>\n",
       "<style scoped>\n",
       "    .dataframe tbody tr th:only-of-type {\n",
       "        vertical-align: middle;\n",
       "    }\n",
       "\n",
       "    .dataframe tbody tr th {\n",
       "        vertical-align: top;\n",
       "    }\n",
       "\n",
       "    .dataframe thead th {\n",
       "        text-align: right;\n",
       "    }\n",
       "</style>\n",
       "<table border=\"1\" class=\"dataframe\">\n",
       "  <thead>\n",
       "    <tr style=\"text-align: right;\">\n",
       "      <th></th>\n",
       "      <th>State</th>\n",
       "      <th>TotalPop</th>\n",
       "      <th>Men</th>\n",
       "      <th>Women</th>\n",
       "      <th>Hispanic</th>\n",
       "      <th>White</th>\n",
       "      <th>Black</th>\n",
       "      <th>Native</th>\n",
       "      <th>Asian</th>\n",
       "      <th>Pacific</th>\n",
       "      <th>...</th>\n",
       "      <th>Walk</th>\n",
       "      <th>OtherTransp</th>\n",
       "      <th>WorkAtHome</th>\n",
       "      <th>MeanCommute</th>\n",
       "      <th>Employed</th>\n",
       "      <th>PrivateWork</th>\n",
       "      <th>PublicWork</th>\n",
       "      <th>SelfEmployed</th>\n",
       "      <th>FamilyWork</th>\n",
       "      <th>Unemployment</th>\n",
       "    </tr>\n",
       "  </thead>\n",
       "  <tbody>\n",
       "    <tr>\n",
       "      <th>0</th>\n",
       "      <td>Alabama</td>\n",
       "      <td>1845</td>\n",
       "      <td>899</td>\n",
       "      <td>946</td>\n",
       "      <td>2.4</td>\n",
       "      <td>86.3</td>\n",
       "      <td>5.2</td>\n",
       "      <td>0.0</td>\n",
       "      <td>1.2</td>\n",
       "      <td>0.0</td>\n",
       "      <td>...</td>\n",
       "      <td>0.5</td>\n",
       "      <td>0.0</td>\n",
       "      <td>2.1</td>\n",
       "      <td>24.5</td>\n",
       "      <td>881</td>\n",
       "      <td>74.2</td>\n",
       "      <td>21.2</td>\n",
       "      <td>4.5</td>\n",
       "      <td>0.0</td>\n",
       "      <td>4.6</td>\n",
       "    </tr>\n",
       "    <tr>\n",
       "      <th>1</th>\n",
       "      <td>Alabama</td>\n",
       "      <td>2172</td>\n",
       "      <td>1167</td>\n",
       "      <td>1005</td>\n",
       "      <td>1.1</td>\n",
       "      <td>41.6</td>\n",
       "      <td>54.5</td>\n",
       "      <td>0.0</td>\n",
       "      <td>1.0</td>\n",
       "      <td>0.0</td>\n",
       "      <td>...</td>\n",
       "      <td>0.0</td>\n",
       "      <td>0.5</td>\n",
       "      <td>0.0</td>\n",
       "      <td>22.2</td>\n",
       "      <td>852</td>\n",
       "      <td>75.9</td>\n",
       "      <td>15.0</td>\n",
       "      <td>9.0</td>\n",
       "      <td>0.0</td>\n",
       "      <td>3.4</td>\n",
       "    </tr>\n",
       "    <tr>\n",
       "      <th>2</th>\n",
       "      <td>Alabama</td>\n",
       "      <td>3385</td>\n",
       "      <td>1533</td>\n",
       "      <td>1852</td>\n",
       "      <td>8.0</td>\n",
       "      <td>61.4</td>\n",
       "      <td>26.5</td>\n",
       "      <td>0.6</td>\n",
       "      <td>0.7</td>\n",
       "      <td>0.4</td>\n",
       "      <td>...</td>\n",
       "      <td>1.0</td>\n",
       "      <td>0.8</td>\n",
       "      <td>1.5</td>\n",
       "      <td>23.1</td>\n",
       "      <td>1482</td>\n",
       "      <td>73.3</td>\n",
       "      <td>21.1</td>\n",
       "      <td>4.8</td>\n",
       "      <td>0.7</td>\n",
       "      <td>4.7</td>\n",
       "    </tr>\n",
       "    <tr>\n",
       "      <th>3</th>\n",
       "      <td>Alabama</td>\n",
       "      <td>4267</td>\n",
       "      <td>2001</td>\n",
       "      <td>2266</td>\n",
       "      <td>9.6</td>\n",
       "      <td>80.3</td>\n",
       "      <td>7.1</td>\n",
       "      <td>0.5</td>\n",
       "      <td>0.2</td>\n",
       "      <td>0.0</td>\n",
       "      <td>...</td>\n",
       "      <td>1.5</td>\n",
       "      <td>2.9</td>\n",
       "      <td>2.1</td>\n",
       "      <td>25.9</td>\n",
       "      <td>1849</td>\n",
       "      <td>75.8</td>\n",
       "      <td>19.7</td>\n",
       "      <td>4.5</td>\n",
       "      <td>0.0</td>\n",
       "      <td>6.1</td>\n",
       "    </tr>\n",
       "    <tr>\n",
       "      <th>4</th>\n",
       "      <td>Alabama</td>\n",
       "      <td>9965</td>\n",
       "      <td>5054</td>\n",
       "      <td>4911</td>\n",
       "      <td>0.9</td>\n",
       "      <td>77.5</td>\n",
       "      <td>16.4</td>\n",
       "      <td>0.0</td>\n",
       "      <td>3.1</td>\n",
       "      <td>0.0</td>\n",
       "      <td>...</td>\n",
       "      <td>0.8</td>\n",
       "      <td>0.3</td>\n",
       "      <td>0.7</td>\n",
       "      <td>21.0</td>\n",
       "      <td>4787</td>\n",
       "      <td>71.4</td>\n",
       "      <td>24.1</td>\n",
       "      <td>4.5</td>\n",
       "      <td>0.0</td>\n",
       "      <td>2.3</td>\n",
       "    </tr>\n",
       "  </tbody>\n",
       "</table>\n",
       "<p>5 rows × 35 columns</p>\n",
       "</div>"
      ],
      "text/plain": [
       "     State  TotalPop   Men  Women  Hispanic  White  Black  Native  Asian  \\\n",
       "0  Alabama      1845   899    946       2.4   86.3    5.2     0.0    1.2   \n",
       "1  Alabama      2172  1167   1005       1.1   41.6   54.5     0.0    1.0   \n",
       "2  Alabama      3385  1533   1852       8.0   61.4   26.5     0.6    0.7   \n",
       "3  Alabama      4267  2001   2266       9.6   80.3    7.1     0.5    0.2   \n",
       "4  Alabama      9965  5054   4911       0.9   77.5   16.4     0.0    3.1   \n",
       "\n",
       "   Pacific  ...  Walk  OtherTransp  WorkAtHome  MeanCommute  Employed  \\\n",
       "0      0.0  ...   0.5          0.0         2.1         24.5       881   \n",
       "1      0.0  ...   0.0          0.5         0.0         22.2       852   \n",
       "2      0.4  ...   1.0          0.8         1.5         23.1      1482   \n",
       "3      0.0  ...   1.5          2.9         2.1         25.9      1849   \n",
       "4      0.0  ...   0.8          0.3         0.7         21.0      4787   \n",
       "\n",
       "   PrivateWork  PublicWork  SelfEmployed  FamilyWork  Unemployment  \n",
       "0         74.2        21.2           4.5         0.0           4.6  \n",
       "1         75.9        15.0           9.0         0.0           3.4  \n",
       "2         73.3        21.1           4.8         0.7           4.7  \n",
       "3         75.8        19.7           4.5         0.0           6.1  \n",
       "4         71.4        24.1           4.5         0.0           2.3  \n",
       "\n",
       "[5 rows x 35 columns]"
      ]
     },
     "execution_count": 5,
     "metadata": {},
     "output_type": "execute_result"
    }
   ],
   "source": [
    "df = df.drop(['TractId', 'County'], axis= 1)\n",
    "df.head()"
   ]
  },
  {
   "cell_type": "code",
   "execution_count": 7,
   "id": "7e4ab827",
   "metadata": {},
   "outputs": [
    {
     "name": "stdout",
     "output_type": "stream",
     "text": [
      "<class 'pandas.core.frame.DataFrame'>\n",
      "RangeIndex: 72718 entries, 0 to 72717\n",
      "Data columns (total 35 columns):\n",
      " #   Column            Non-Null Count  Dtype  \n",
      "---  ------            --------------  -----  \n",
      " 0   State             72718 non-null  int64  \n",
      " 1   TotalPop          72718 non-null  int64  \n",
      " 2   Men               72718 non-null  int64  \n",
      " 3   Women             72718 non-null  int64  \n",
      " 4   Hispanic          72718 non-null  float64\n",
      " 5   White             72718 non-null  float64\n",
      " 6   Black             72718 non-null  float64\n",
      " 7   Native            72718 non-null  float64\n",
      " 8   Asian             72718 non-null  float64\n",
      " 9   Pacific           72718 non-null  float64\n",
      " 10  VotingAgeCitizen  72718 non-null  int64  \n",
      " 11  Income            72718 non-null  float64\n",
      " 12  IncomeErr         72718 non-null  float64\n",
      " 13  IncomePerCap      72718 non-null  float64\n",
      " 14  IncomePerCapErr   72718 non-null  float64\n",
      " 15  Poverty           72718 non-null  float64\n",
      " 16  ChildPoverty      72718 non-null  float64\n",
      " 17  Professional      72718 non-null  float64\n",
      " 18  Service           72718 non-null  float64\n",
      " 19  Office            72718 non-null  float64\n",
      " 20  Construction      72718 non-null  float64\n",
      " 21  Production        72718 non-null  float64\n",
      " 22  Drive             72718 non-null  float64\n",
      " 23  Carpool           72718 non-null  float64\n",
      " 24  Transit           72718 non-null  float64\n",
      " 25  Walk              72718 non-null  float64\n",
      " 26  OtherTransp       72718 non-null  float64\n",
      " 27  WorkAtHome        72718 non-null  float64\n",
      " 28  MeanCommute       72718 non-null  float64\n",
      " 29  Employed          72718 non-null  int64  \n",
      " 30  PrivateWork       72718 non-null  float64\n",
      " 31  PublicWork        72718 non-null  float64\n",
      " 32  SelfEmployed      72718 non-null  float64\n",
      " 33  FamilyWork        72718 non-null  float64\n",
      " 34  Unemployment      72718 non-null  float64\n",
      "dtypes: float64(29), int64(6)\n",
      "memory usage: 19.4 MB\n"
     ]
    }
   ],
   "source": [
    "state_dict = {}\n",
    "state_number = 0\n",
    "state_array = []\n",
    "\n",
    "for index in range(len(df)):\n",
    "    if df['State'][index] not in state_dict:\n",
    "        state_dict[df['State'][index]] = state_number\n",
    "        state_number += 1\n",
    "    state_array.append(state_dict[df['State'][index]])\n",
    "df['State'] = state_array\n",
    "df.info()"
   ]
  },
  {
   "cell_type": "markdown",
   "id": "585ffdfb",
   "metadata": {},
   "source": [
    "### 1.2 & 1.3 Balance the dataset and split the dataset:"
   ]
  },
  {
   "cell_type": "markdown",
   "id": "1f1f202c",
   "metadata": {},
   "source": [
    "&emsp; In this part, we will split the dataset into training set and testing set. Training set obtains 80 percent of the dataset. And Testing set obtains 20 percent of the dataset:"
   ]
  },
  {
   "cell_type": "code",
   "execution_count": 8,
   "id": "e4fc6af5",
   "metadata": {},
   "outputs": [
    {
     "data": {
      "text/plain": [
       "((58174, 34), (14544, 34), (58174,), (14544,))"
      ]
     },
     "execution_count": 8,
     "metadata": {},
     "output_type": "execute_result"
    }
   ],
   "source": [
    "from sklearn.model_selection import train_test_split\n",
    "\n",
    "y = df['ChildPoverty']\n",
    "X = df.drop('ChildPoverty', axis=1)\n",
    "\n",
    "X_train, X_test, y_train, y_test = train_test_split(X ,y, test_size = 0.2, random_state = 777)\n",
    "\n",
    "X_train.shape, X_test.shape, y_train.shape, y_test.shape"
   ]
  },
  {
   "cell_type": "code",
   "execution_count": 9,
   "id": "12621001",
   "metadata": {},
   "outputs": [
    {
     "data": {
      "image/png": "[encoded data removed]",
      "text/plain": [
       "<Figure size 432x288 with 1 Axes>"
      ]
     },
     "metadata": {
      "needs_background": "light"
     },
     "output_type": "display_data"
    }
   ],
   "source": [
    "y.plot.hist(bins=100, color='red')\n",
    "plt.show()"
   ]
  },
  {
   "cell_type": "markdown",
   "id": "e53277f6",
   "metadata": {},
   "source": [
    "&emsp; We have found the average child provety rate in 2017 is 20.3% in website https://www.povertyusa.org/data/2017. It is a good reference for us to determine the boundary of every class. We decide to divided data into 4 categories according to different value of 'ChildPoverty'. The data whose 'ChildPoverty' values between 0 and 10 belong to class 'low'. The data whose 'ChildPoverty' values between 10 and 20 belong to class 'medium'. The data whose 'ChildPoverty' values between 20 and 30 belong to class 'high'. The data whose 'ChildPoverty' values exceeding 30 belong to class 'ex-high'."
   ]
  },
  {
   "cell_type": "code",
   "execution_count": 10,
   "id": "c64301f2",
   "metadata": {},
   "outputs": [
    {
     "data": {
      "image/png": "[encoded data removed]",
      "text/plain": [
       "<Figure size 432x288 with 1 Axes>"
      ]
     },
     "metadata": {
      "needs_background": "light"
     },
     "output_type": "display_data"
    }
   ],
   "source": [
    "y_train = y_train.to_frame()\n",
    "y_test = y_test.to_frame()\n",
    "\n",
    "y_train = pd.cut(y_train['ChildPoverty'], [-1,10,20,30,100], labels = [0,1,2,3])\n",
    "y_test = pd.cut(y_test['ChildPoverty'], [-1,10,20,30,100], labels = [0,1,2,3])\n",
    "\n",
    "_, ax = plt.subplots()\n",
    "ax.hist(y_train, bins=10, color='red')\n",
    "ax.set_xlim(0, 3)\n",
    "plt.xlabel(\"ChildPoverty\")\n",
    "plt.ylabel(\"Number\")\n",
    "plt.show()"
   ]
  },
  {
   "cell_type": "markdown",
   "id": "bf45ac4e",
   "metadata": {},
   "source": [
    "&emsp; From the data distribution shown above, we can understand that our dataset is unbalanced. We decide to use SMOTE to do the oversampling. The number of instances belonging to the class 'high' is less than 10000. It will result in a undersampling situation."
   ]
  },
  {
   "cell_type": "code",
   "execution_count": 11,
   "id": "8ae9f807",
   "metadata": {},
   "outputs": [
    {
     "data": {
      "image/png": "[encoded data removed]",
      "text/plain": [
       "<Figure size 432x288 with 1 Axes>"
      ]
     },
     "metadata": {
      "needs_background": "light"
     },
     "output_type": "display_data"
    }
   ],
   "source": [
    "from imblearn.over_sampling import SMOTE\n",
    "\n",
    "X_train, y_train = SMOTE().fit_resample(X_train,y_train)\n",
    "\n",
    "_, ax = plt.subplots()\n",
    "ax.hist(y_train, bins=10, color='red')\n",
    "ax.set_xlim(0, 3)\n",
    "plt.xlabel(\"ChildPoverty\")\n",
    "plt.ylabel(\"Number\")\n",
    "plt.show()"
   ]
  },
  {
   "cell_type": "markdown",
   "id": "5a622657",
   "metadata": {},
   "source": [
    "&emsp; In our opinion, training set should be balanced, yet testing set should not be modified. Training set will be used to train our model. An imbalanced train set means the data in this dataset is not equally distributed. It may result in potential risks when we using this training set to train model. However, it is unnecessary for us to balance the testing set. Because a test set is a group of data that represents the state of raw data in reality. If we want our test results to as realistic as possible, the test data should not be modified."
   ]
  },
  {
   "cell_type": "markdown",
   "id": "6ac9dcc7",
   "metadata": {},
   "source": [
    "## 2. Pre-processing and Initial Modeling:"
   ]
  },
  {
   "cell_type": "markdown",
   "id": "f41c02d9",
   "metadata": {},
   "source": [
    "&emsp; In this part, we will implement four specific function in our two-layer perceptron network. They are vectorized gradient computation, mini-batching, cross entropy loss and proper Glorot initialization:"
   ]
  },
  {
   "cell_type": "markdown",
   "id": "c39b2efa",
   "metadata": {},
   "source": [
    "### 2.1 Use the example two-layer perceptron network from the class example and quantify performance using accuracy. Do not normalize or one-hot encode the data (not yet). Be sure that training converges by graphing the loss function versus the number of epochs:"
   ]
  },
  {
   "cell_type": "code",
   "execution_count": 12,
   "id": "33f27ea6",
   "metadata": {},
   "outputs": [],
   "source": [
    "import numpy as np\n",
    "from scipy.special import expit\n",
    "import pandas as pd\n",
    "import sys\n",
    "\n",
    "# start with a simple base classifier, which can't be fit or predicted\n",
    "# it only has internal classes to be used by classes that will subclass it\n",
    "class TwoLayerPerceptronBase(object):\n",
    "    def __init__(self, n_hidden=30,\n",
    "                 C=0.0, epochs=500, eta=0.001, random_state=None):\n",
    "        np.random.seed(random_state)\n",
    "        self.n_hidden = n_hidden\n",
    "        self.l2_C = C\n",
    "        self.epochs = epochs\n",
    "        self.eta = eta\n",
    "        \n",
    "    @staticmethod\n",
    "    def _encode_labels(y):\n",
    "        \"\"\"Encode labels into one-hot representation\"\"\"\n",
    "        onehot = pd.get_dummies(y).values.T\n",
    "            \n",
    "        return onehot\n",
    "\n",
    "    def _initialize_weights(self):\n",
    "        \"\"\"Initialize weights with small random numbers.\"\"\"\n",
    "        W1_num_elems = (self.n_features_ + 1)*self.n_hidden\n",
    "        W1 = np.random.uniform(-1.0, 1.0,size=W1_num_elems)\n",
    "        W1 = W1.reshape(self.n_hidden, self.n_features_ + 1) # reshape to be W\n",
    "        \n",
    "        W2_num_elems = (self.n_hidden + 1)*self.n_output_\n",
    "        W2 = np.random.uniform(-1.0, 1.0, size=W2_num_elems)\n",
    "        W2 = W2.reshape(self.n_output_, self.n_hidden + 1)\n",
    "        return W1, W2\n",
    "    \n",
    "    @staticmethod\n",
    "    def _sigmoid(z):\n",
    "        \"\"\"Use scipy.special.expit to avoid overflow\"\"\"\n",
    "        # 1.0 / (1.0 + np.exp(-z))\n",
    "        return expit(z)\n",
    "    \n",
    "    @staticmethod\n",
    "    def _add_bias_unit(X, how='column'):\n",
    "        \"\"\"Add bias unit (column or row of 1s) to array at index 0\"\"\"\n",
    "        if how == 'column':\n",
    "            ones = np.ones((X.shape[0], 1))\n",
    "            X_new = np.hstack((ones, X))\n",
    "        elif how == 'row':\n",
    "            ones = np.ones((1, X.shape[1]))\n",
    "            X_new = np.vstack((ones, X))\n",
    "        return X_new\n",
    "    \n",
    "    @staticmethod\n",
    "    def _L2_reg(lambda_, W1, W2):\n",
    "        \"\"\"Compute L2-regularization cost\"\"\"\n",
    "        # only compute for non-bias terms\n",
    "        return (lambda_/2.0) * np.sqrt(np.mean(W1[:, 1:] ** 2) + np.mean(W2[:, 1:] ** 2))\n",
    "    \n",
    "    def _cost(self,A3,Y_enc,W1,W2):\n",
    "        '''Get the objective function value'''\n",
    "        cost = np.mean((Y_enc-A3)**2)\n",
    "        L2_term = self._L2_reg(self.l2_C, W1, W2)\n",
    "        return cost + L2_term\n",
    "    \n",
    "    def _feedforward(self, X, W1, W2):\n",
    "        \"\"\"Compute feedforward step\n",
    "        \"\"\"\n",
    "        A1 = self._add_bias_unit(X, how='column')\n",
    "        A1 = A1.T\n",
    "        Z1 = W1 @ A1\n",
    "        A2 = self._sigmoid(Z1)\n",
    "        A2 = self._add_bias_unit(A2, how='row')\n",
    "        Z2 = W2 @ A2\n",
    "        A3 = self._sigmoid(Z2)\n",
    "        return A1, Z1, A2, Z2, A3\n",
    "    \n",
    "    def _get_gradient(self, A1, A2, A3, Z1, Z2, Y_enc, W1, W2):\n",
    "        \"\"\" Compute gradient step using backpropagation.\n",
    "        \"\"\"\n",
    "        # vectorized backpropagation\n",
    "        V2 = -2*(Y_enc-A3)*A3*(1-A3)  # last layer sensitivity\n",
    "        V1 = A2*(1-A2)*(W2.T @ V2) # back prop the sensitivity \n",
    "        \n",
    "        grad2 = V2 @ A2.T # no bias on final layer\n",
    "        grad1 = V1[1:,:] @ A1.T # dont back prop sensitivity of bias\n",
    "        \n",
    "        \n",
    "        # regularize weights that are not bias terms\n",
    "        grad1[:, 1:] += W1[:, 1:] * self.l2_C\n",
    "        grad2[:, 1:] += W2[:, 1:] * self.l2_C\n",
    "\n",
    "        return grad1, grad2\n",
    "    \n",
    "    def predict(self, X):\n",
    "        \"\"\"Predict class labels\"\"\"\n",
    "        _, _, _, _, A3 = self._feedforward(X, self.W1, self.W2)\n",
    "        y_pred = np.argmax(A3, axis=0)\n",
    "        return y_pred"
   ]
  },
  {
   "cell_type": "code",
   "execution_count": 13,
   "id": "2dbe5361",
   "metadata": {},
   "outputs": [],
   "source": [
    "from sklearn.metrics import accuracy_score\n",
    "# just start with the vectorized version and minibatch\n",
    "class TLPMiniBatch(TwoLayerPerceptronBase):\n",
    "    def __init__(self, alpha=0.0, decrease_const=0.0, shuffle=True, \n",
    "                 minibatches=1, **kwds):        \n",
    "        # need to add to the original initializer \n",
    "        self.alpha = alpha\n",
    "        self.decrease_const = decrease_const\n",
    "        self.shuffle = shuffle\n",
    "        self.minibatches = minibatches\n",
    "        # but keep other keywords\n",
    "        super().__init__(**kwds)\n",
    "        \n",
    "    \n",
    "    def fit(self, X, y, print_progress=False, XY_test=None):\n",
    "        \"\"\" Learn weights from training data. With mini-batch\"\"\"\n",
    "        X_data, y_data = X.copy(), y.copy()\n",
    "        Y_enc = self._encode_labels(y)\n",
    "        \n",
    "        # init weights and setup matrices\n",
    "        self.n_features_ = X_data.shape[1]\n",
    "        self.n_output_ = Y_enc.shape[0]\n",
    "        self.W1, self.W2 = self._initialize_weights()\n",
    "\n",
    "        rho_W1_prev = np.zeros(self.W1.shape)\n",
    "        rho_W2_prev = np.zeros(self.W2.shape)\n",
    "\n",
    "        self.cost_ = []\n",
    "        self.score_ = []\n",
    "        # get starting acc\n",
    "        self.score_.append(accuracy_score(y_data,self.predict(X_data)))\n",
    "        # keep track of validation, if given\n",
    "        if XY_test is not None:\n",
    "            X_test = XY_test[0].copy()\n",
    "            y_test = XY_test[1].copy()\n",
    "            self.val_score_ = []\n",
    "            self.val_score_.append(accuracy_score(y_test,self.predict(X_test)))\n",
    "            \n",
    "        for i in range(self.epochs):\n",
    "\n",
    "            # adaptive learning rate\n",
    "            # \\frac{\\eta}{1+\\epsilon\\cdot k}\n",
    "            eta = self.eta / (1 + self.decrease_const*i)\n",
    "\n",
    "            if print_progress>0 and (i+1)%print_progress==0:\n",
    "                sys.stderr.write('\\rEpoch: %d/%d' % (i+1, self.epochs))\n",
    "                sys.stderr.flush()\n",
    "\n",
    "            if self.shuffle:\n",
    "                idx_shuffle = np.random.permutation(y_data.shape[0])\n",
    "                X_data, Y_enc, y_data = X_data[idx_shuffle], Y_enc[:, idx_shuffle], y_data[idx_shuffle]\n",
    "\n",
    "            mini = np.array_split(range(y_data.shape[0]), self.minibatches)\n",
    "            mini_cost = []\n",
    "            for idx in mini:\n",
    "\n",
    "                # feedforward\n",
    "                A1, Z1, A2, Z2, A3 = self._feedforward(X_data[idx],\n",
    "                                                       self.W1,\n",
    "                                                       self.W2)\n",
    "                \n",
    "                cost = self._cost(A3,Y_enc[:, idx],self.W1,self.W2)\n",
    "                mini_cost.append(cost) # this appends cost of mini-batch only\n",
    "\n",
    "                # compute gradient via backpropagation\n",
    "                grad1, grad2 = self._get_gradient(A1=A1, A2=A2, A3=A3, Z1=Z1, Z2=Z2, \n",
    "                                                  Y_enc=Y_enc[:, idx],\n",
    "                                                  W1=self.W1,W2=self.W2)\n",
    "\n",
    "                # momentum calculations\n",
    "                rho_W1, rho_W2 = eta * grad1, eta * grad2\n",
    "                self.W1 -= (rho_W1 + (self.alpha * rho_W1_prev))\n",
    "                self.W2 -= (rho_W2 + (self.alpha * rho_W2_prev))\n",
    "                rho_W1_prev, rho_W2_prev = rho_W1, rho_W2\n",
    "\n",
    "            self.cost_.append(mini_cost)\n",
    "            self.score_.append(accuracy_score(y_data,self.predict(X_data)))\n",
    "            if XY_test is not None:\n",
    "                self.val_score_.append(accuracy_score(y_test,self.predict(X_test)))\n",
    "            \n",
    "        return self"
   ]
  },
  {
   "cell_type": "code",
   "execution_count": 14,
   "id": "0d439b29",
   "metadata": {},
   "outputs": [
    {
     "name": "stderr",
     "output_type": "stream",
     "text": [
      "Epoch: 100/100"
     ]
    },
    {
     "name": "stdout",
     "output_type": "stream",
     "text": [
      "CPU times: total: 1min 35s\n",
      "Wall time: 1min 4s\n",
      "The accuracy is: 0.35224147414741475\n"
     ]
    }
   ],
   "source": [
    "vals = { 'n_hidden':50, \n",
    "         'C':0.1, 'epochs':100, 'eta':0.1, \n",
    "         'alpha':0.1, 'decrease_const':0.1, 'minibatches':len(X_train)/32,\n",
    "         'shuffle':True,'random_state':1}\n",
    "nn_quad_1 = TLPMiniBatch(**vals)\n",
    "%time nn_quad_1.fit(X_train.to_numpy(), y_train, print_progress=50)\n",
    "yhat_1 = nn_quad_1.predict(X_test.to_numpy())\n",
    "print(f'The accuracy is: {accuracy_score(y_test, yhat_1)}')"
   ]
  },
  {
   "cell_type": "code",
   "execution_count": 15,
   "id": "56162d1f",
   "metadata": {},
   "outputs": [
    {
     "data": {
      "image/png": "[encoded data removed]",
      "text/plain": [
       "<Figure size 432x288 with 1 Axes>"
      ]
     },
     "metadata": {
      "needs_background": "light"
     },
     "output_type": "display_data"
    }
   ],
   "source": [
    "cost_avgs = [np.mean(x) for x in nn_quad_1.cost_]\n",
    "plt.plot(range(len(cost_avgs)), cost_avgs)\n",
    "plt.title('The loss function')\n",
    "plt.ylabel('The cost')\n",
    "plt.xlabel('The epochs')\n",
    "plt.tight_layout()\n",
    "plt.show()"
   ]
  },
  {
   "cell_type": "markdown",
   "id": "ee118146",
   "metadata": {},
   "source": [
    "### 2.2 Now (1) normalize the continuous numeric feature data. Use the example two-layer perceptron network from the class example and quantify performance using accuracy. Be sure that training converges by graphing the loss function versus the number of epochs:"
   ]
  },
  {
   "cell_type": "code",
   "execution_count": 16,
   "id": "489fd259",
   "metadata": {},
   "outputs": [],
   "source": [
    "from sklearn.preprocessing import StandardScaler\n",
    "\n",
    "norm = StandardScaler()\n",
    "X_train_num_scaled  = norm.fit_transform(X_train[X_train.columns[1:]])\n",
    "X_test_num_scaled = norm.transform(X_test[X_test.columns[1:]])\n",
    "\n",
    "X_train_scaled = pd.DataFrame(X_train_num_scaled, \n",
    "                       index=X_train[X_train.columns[1:]].index, \n",
    "                       columns=X_train[X_train.columns[1:]].columns)\n",
    "X_test_scaled = pd.DataFrame(X_test_num_scaled, \n",
    "                      index=X_test[X_test.columns[1:]].index, \n",
    "                      columns=X_test[X_test.columns[1:]].columns)\n",
    "\n",
    "X_train.update(X_train_scaled)\n",
    "X_test.update(X_test_scaled)"
   ]
  },
  {
   "cell_type": "code",
   "execution_count": 17,
   "id": "01cccd13",
   "metadata": {},
   "outputs": [
    {
     "name": "stderr",
     "output_type": "stream",
     "text": [
      "Epoch: 100/100"
     ]
    },
    {
     "name": "stdout",
     "output_type": "stream",
     "text": [
      "CPU times: total: 1min 18s\n",
      "Wall time: 53.8 s\n",
      "The accuracy is: 0.537472497249725\n"
     ]
    }
   ],
   "source": [
    "nn_quad_2 = TLPMiniBatch(**vals)\n",
    "%time nn_quad_2.fit(X_train.to_numpy(), y_train, print_progress=50)\n",
    "yhat_2 = nn_quad_2.predict(X_test.to_numpy())\n",
    "print(f'The accuracy is: {accuracy_score(y_test, yhat_2)}')"
   ]
  },
  {
   "cell_type": "code",
   "execution_count": 18,
   "id": "f5396241",
   "metadata": {},
   "outputs": [
    {
     "data": {
      "image/png": "[encoded data removed]",
      "text/plain": [
       "<Figure size 432x288 with 1 Axes>"
      ]
     },
     "metadata": {
      "needs_background": "light"
     },
     "output_type": "display_data"
    }
   ],
   "source": [
    "cost_avgs = [np.mean(x) for x in nn_quad_2.cost_]\n",
    "plt.plot(range(len(cost_avgs)), cost_avgs)\n",
    "plt.title('The loss function')\n",
    "plt.ylabel('The cost')\n",
    "plt.xlabel('The epochs')\n",
    "plt.tight_layout()\n",
    "plt.show()"
   ]
  },
  {
   "cell_type": "markdown",
   "id": "f2910006",
   "metadata": {},
   "source": [
    "### 2.3 Now(1) normalize the continuous numeric feature data AND (2) one hot encode the categorical data. Use the example two-layer perceptron network from the class example and quantify performance using accuracy. Be sure that training converges by graphing the loss function versus the number of epochs:"
   ]
  },
  {
   "cell_type": "code",
   "execution_count": 19,
   "id": "d5e9e3ef",
   "metadata": {},
   "outputs": [],
   "source": [
    "onehot_X_train = pd.get_dummies(X_train['State'])\n",
    "X_train = X_train.drop(['State'], axis=1)\n",
    "X_train = pd.concat([onehot_X_train, X_train], axis=1)\n",
    "\n",
    "onehot_X_test = pd.get_dummies(X_test['State'])\n",
    "X_test = X_test.drop(['State'], axis=1)\n",
    "X_test = pd.concat([onehot_X_test, X_test], axis=1)"
   ]
  },
  {
   "cell_type": "code",
   "execution_count": 20,
   "id": "e2424253",
   "metadata": {},
   "outputs": [
    {
     "name": "stderr",
     "output_type": "stream",
     "text": [
      "Epoch: 100/100"
     ]
    },
    {
     "name": "stdout",
     "output_type": "stream",
     "text": [
      "CPU times: total: 2min 39s\n",
      "Wall time: 1min 12s\n",
      "The accuracy is: 0.6881875687568757\n"
     ]
    }
   ],
   "source": [
    "nn_quad_3 = TLPMiniBatch(**vals)\n",
    "%time nn_quad_3.fit(X_train.to_numpy(), y_train, print_progress=50)\n",
    "yhat_3 = nn_quad_3.predict(X_test.to_numpy())\n",
    "print(f'The accuracy is: {accuracy_score(y_test, yhat_3)}')"
   ]
  },
  {
   "cell_type": "code",
   "execution_count": 21,
   "id": "fee867c4",
   "metadata": {},
   "outputs": [
    {
     "data": {
      "image/png": "[encoded data removed]",
      "text/plain": [
       "<Figure size 432x288 with 1 Axes>"
      ]
     },
     "metadata": {
      "needs_background": "light"
     },
     "output_type": "display_data"
    }
   ],
   "source": [
    "cost_avgs = [np.mean(x) for x in nn_quad_3.cost_]\n",
    "plt.plot(range(len(cost_avgs)), cost_avgs)\n",
    "plt.title('The loss function')\n",
    "plt.ylabel('The cost')\n",
    "plt.xlabel('The epochs')\n",
    "plt.tight_layout()\n",
    "plt.show()"
   ]
  },
  {
   "cell_type": "markdown",
   "id": "5c02535c",
   "metadata": {},
   "source": [
    "### 2.4 Compare the performance of the three models you just trained. Are there any meaningful differences in performance? Explain, in your own words, why these models have (or do not have) different performances:"
   ]
  },
  {
   "cell_type": "markdown",
   "id": "b80e49fc",
   "metadata": {},
   "source": [
    "&emsp; In this part, we decide to use McNemar's Test to compare the prediction result of our models. More details could be found in website http://rasbt.github.io/mlxtend/user_guide/evaluate/mcnemar/. The McNemar's Test will output a chi-squared value of two models. The higher the value, the greater the difference in performance between the two models. The chi-squared value can be compute as fellow:\n",
    "$$ χ^2 = \\frac{(|B−C|-1)^2}{(B+C)} $$\n",
    "The variable b represents the number of data predicted correctly by Model 1 but incorrectly by Model 2. The variable c represents the number of data predicted correctly by Model 2 but incorrectly by Model 1.\n",
    "\n",
    "|  Confidence   | 0.90  |  0.95   | 0.99  |\n",
    "|  :----:  | :----:  |  :----:  | :----:  |\n",
    "| 1 DOF, Critical Value  | 2.706 | 3.841  | 6.635 |"
   ]
  },
  {
   "cell_type": "code",
   "execution_count": 22,
   "id": "6a2313b4",
   "metadata": {},
   "outputs": [
    {
     "name": "stdout",
     "output_type": "stream",
     "text": [
      "The model 1 & the model 2: chi-squared 1720.1729127134724\n",
      "The model 1 & the model 3: chi-squared 3543.692456192456\n",
      "The model 2 & the model 3: chi-squared 1013.6150760135135\n"
     ]
    }
   ],
   "source": [
    "from mlxtend.evaluate import mcnemar, mcnemar_table\n",
    "\n",
    "tb_12 = mcnemar_table(y_target=y_test, \n",
    "                   y_model1=yhat_1, \n",
    "                   y_model2=yhat_2)\n",
    "chi2_12, p = mcnemar(ary=tb_12, corrected=True)\n",
    "print(f'The model 1 & the model 2: chi-squared {chi2_12}')\n",
    "\n",
    "tb_13 = mcnemar_table(y_target=y_test, \n",
    "                   y_model1=yhat_1, \n",
    "                   y_model2=yhat_3)\n",
    "chi2_13, p = mcnemar(ary=tb_13, corrected=True)\n",
    "print(f'The model 1 & the model 3: chi-squared {chi2_13}')\n",
    "\n",
    "tb_23 = mcnemar_table(y_target=y_test, \n",
    "                   y_model1=yhat_2, \n",
    "                   y_model2=yhat_3)\n",
    "chi2_23, p = mcnemar(ary=tb_23, corrected=True)\n",
    "print(f'The model 2 & the model 3: chi-squared {chi2_23}')"
   ]
  },
  {
   "cell_type": "markdown",
   "id": "507e75dc",
   "metadata": {},
   "source": [
    "&emsp; As we can see from the chi-sequared value of between each two models, the performance of every model is quite different. We believe the performance differences are meaningful. Because the performance of model has been improved by using extra efficient techniques. We didn't use any extra technique in model 1, yet we used extra techniques in model 2 and 3. For model 2, we use normalizing as our extra technique. And we used both normalizing and one hot encoding as extra techniques in model 3.<br>\n",
    "&emsp; Useing normalization, the value of the numerical column in the dataset will be changed, so that a common scale is used to avoid distorting the difference in the value range or losing information. Therefore, it is easy to say that the performance had been improved from model 1 to model 2.<br>\n",
    "&emsp; Using one hot encoding, we can map discrete data, such as string data, into the numeric space. Then, these numeric data corresponding to the original string data will be used for distance calculations. It will contribute to more accurate results. Therefore, it is easy to say that the performance had been improved from model 2 to model 3.<br>\n",
    "&emsp; These chi-squared values all are greater than 6.635, so the difference in performance among these models is enormous."
   ]
  },
  {
   "cell_type": "markdown",
   "id": "814ec446",
   "metadata": {},
   "source": [
    "## 3. Modeling:"
   ]
  },
  {
   "cell_type": "markdown",
   "id": "436bc09b",
   "metadata": {},
   "source": [
    "### 3.1 Add support for a third layer in the multi-layer perceptron:"
   ]
  },
  {
   "cell_type": "code",
   "execution_count": 23,
   "id": "2383c98b",
   "metadata": {},
   "outputs": [],
   "source": [
    "from numpy import linalg as LA\n",
    "\n",
    "class ThreeLayerPerceptron(TLPMiniBatch):\n",
    "    def __init__(self, **kwds):\n",
    "        super().__init__(**kwds)\n",
    "\n",
    "    def _initialize_weights(self):\n",
    "        \"\"\"Initialize weights with small random numbers.\"\"\"\n",
    "        init_bound_1 = 4*np.sqrt(6 / (self.n_hidden + self.n_features_ + 1))\n",
    "        W1 = np.random.uniform(-init_bound_1, init_bound_1, (self.n_hidden, self.n_features_ + 1))\n",
    "        W1[:,:1] = 0\n",
    "        \n",
    "        init_bound_2 = 4*np.sqrt(6 / (self.n_hidden + self.n_hidden + 1))\n",
    "        W2 = np.random.uniform(-init_bound_2, init_bound_2, (self.n_hidden, self.n_hidden + 1))\n",
    "        W2[:,:1] = 0\n",
    "        \n",
    "        init_bound_3 = 4*np.sqrt(6 / (self.n_output_ + self.n_hidden + 1))\n",
    "        W3 = np.random.uniform(-init_bound_3, init_bound_3, (self.n_output_, self.n_hidden + 1))\n",
    "        W3[:,:1] = 0\n",
    "        \n",
    "        return W1, W2, W3\n",
    "    \n",
    "    @staticmethod\n",
    "    def _L2_reg(lambda_, W1, W2, W3):\n",
    "        \"\"\"Compute L2-regularization cost\"\"\"\n",
    "        # only compute for non-bias terms\n",
    "        return (lambda_/2.0) * np.sqrt(np.mean(W1[:, 1:] ** 2) + \n",
    "                                       np.mean(W2[:, 1:] ** 2) + \n",
    "                                       np.mean(W3[:, 1:] ** 2))\n",
    "    \n",
    "    def _cost(self,A4,Y_enc,W1,W2,W3):\n",
    "        '''Get the objective function value'''\n",
    "        cost = np.mean((Y_enc-A4)**2)\n",
    "        L2_term = self._L2_reg(self.l2_C, W1, W2, W3)\n",
    "        return cost + L2_term\n",
    "    \n",
    "    def _feedforward(self, X, W1, W2, W3):\n",
    "        \"\"\"Compute feedforward step\n",
    "        \"\"\"\n",
    "        A1 = self._add_bias_unit(X.T, how='row')\n",
    "        Z1 = W1 @ A1\n",
    "        \n",
    "        A2 = self._sigmoid(Z1)\n",
    "        A2 = self._add_bias_unit(A2, how='row')\n",
    "        Z2 = W2 @ A2\n",
    "        \n",
    "        A3 = self._sigmoid(Z2)\n",
    "        A3 = self._add_bias_unit(A3, how='row')\n",
    "        Z3 = W3 @ A3\n",
    "        \n",
    "        A4 = self._sigmoid(Z3)\n",
    "        \n",
    "        return A1, Z1, A2, Z2, A3, Z3, A4\n",
    "    \n",
    "    def _get_gradient(self, A1, A2, A3, A4, Z1, Z2, Z3, Y_enc, W1, W2, W3):\n",
    "        \"\"\" Compute gradient step using backpropagation.\n",
    "        \"\"\"\n",
    "        # vectorized backpropagation\n",
    "        V3 = -2*(Y_enc-A4)*A4*(1-A4)  # last layer sensitivity\n",
    "        V2 = A3*(1-A3)*(W3.T @ V3) # back prop the sensitivity\n",
    "        V1 = A2*(1-A2)*(W2.T @ V2[1:,:])\n",
    "        \n",
    "        grad3 = V3 @ A3.T # no bias on final layer\n",
    "        grad2 = V2[1:,:] @ A2.T # dont back prop sensitivity of bias\n",
    "        grad1 = V1[1:,:] @ A1.T\n",
    "        \n",
    "        \n",
    "        # regularize weights that are not bias terms\n",
    "        grad1[:, 1:] += W1[:, 1:] * self.l2_C\n",
    "        grad2[:, 1:] += W2[:, 1:] * self.l2_C\n",
    "        grad3[:, 1:] += W3[:, 1:] * self.l2_C\n",
    "\n",
    "        return grad1, grad2, grad3\n",
    "    \n",
    "    def predict(self, X):\n",
    "        \"\"\"Predict class labels\"\"\"\n",
    "        _, _, _, _, _, _, A4 = self._feedforward(X, self.W1, self.W2, self.W3)\n",
    "        y_pred = np.argmax(A4, axis=0)\n",
    "        return y_pred\n",
    "    \n",
    "    def fit(self, X, y, print_progress=False, XY_test=None):\n",
    "        \"\"\" Learn weights from training data. With mini-batch\"\"\"\n",
    "        X_data, y_data = X.copy(), y.copy()\n",
    "        Y_enc = self._encode_labels(y)\n",
    "        \n",
    "        # init weights and setup matrices\n",
    "        self.n_features_ = X_data.shape[1]\n",
    "        self.n_output_ = Y_enc.shape[0]\n",
    "        self.W1, self.W2, self.W3 = self._initialize_weights()\n",
    "\n",
    "        rho_W1_prev = np.zeros(self.W1.shape)\n",
    "        rho_W2_prev = np.zeros(self.W2.shape)\n",
    "        rho_W3_prev = np.zeros(self.W3.shape)\n",
    "\n",
    "        self.cost_ = []\n",
    "        self.score_ = []\n",
    "        # get starting acc\n",
    "        self.score_.append(accuracy_score(y_data,self.predict(X_data)))\n",
    "        \n",
    "        self.grad_W1, self.grad_W2, self.grad_W3 = [], [], []\n",
    "        self.grad_total = []\n",
    "        \n",
    "        # keep track of validation, if given\n",
    "        if XY_test is not None:\n",
    "            X_test = XY_test[0].copy()\n",
    "            y_test = XY_test[1].copy()\n",
    "            self.val_score_ = []\n",
    "            self.val_score_.append(accuracy_score(y_test,self.predict(X_test)))\n",
    "            \n",
    "        for i in range(self.epochs):\n",
    "\n",
    "            # adaptive learning rate\n",
    "            # \\frac{\\eta}{1+\\epsilon\\cdot k}\n",
    "            eta = self.eta / (1 + self.decrease_const*i)\n",
    "\n",
    "            if print_progress>0 and (i+1)%print_progress==0:\n",
    "                sys.stderr.write('\\rEpoch: %d/%d' % (i+1, self.epochs))\n",
    "                sys.stderr.flush()\n",
    "\n",
    "            if self.shuffle:\n",
    "                idx_shuffle = np.random.permutation(y_data.shape[0])\n",
    "                X_data, Y_enc, y_data = X_data[idx_shuffle], Y_enc[:, idx_shuffle], y_data[idx_shuffle]\n",
    "\n",
    "            mini = np.array_split(range(y_data.shape[0]), self.minibatches)\n",
    "            mini_cost = []\n",
    "            \n",
    "            grad_current_W1, grad_current_W2, grad_current_W3 = [], [], []\n",
    "            \n",
    "            for idx in mini:\n",
    "\n",
    "                # feedforward\n",
    "                A1, Z1, A2, Z2, A3, Z3, A4 = self._feedforward(X_data[idx],\n",
    "                                                               self.W1,\n",
    "                                                               self.W2,\n",
    "                                                               self.W3)\n",
    "                \n",
    "                cost = self._cost(A4,Y_enc[:, idx],self.W1,self.W2,self.W3)\n",
    "                mini_cost.append(cost) # this appends cost of mini-batch only\n",
    "\n",
    "                # compute gradient via backpropagation\n",
    "                grad1, grad2, grad3 = self._get_gradient(A1=A1, A2=A2, A3=A3, A4=A4, \n",
    "                                                         Z1=Z1, Z2=Z2, Z3=Z3, Y_enc=Y_enc[:, idx],\n",
    "                                                         W1=self.W1,W2=self.W2,W3=self.W3)\n",
    "\n",
    "#                 grad_current_W1.append(LA.norm(np.abs(grad1)))\n",
    "#                 grad_current_W2.append(LA.norm(np.abs(grad2)))\n",
    "#                 grad_current_W3.append(LA.norm(np.abs(grad3)))\n",
    "                \n",
    "                grad_current_W1.append(np.mean(np.abs(grad1)))\n",
    "                grad_current_W2.append(np.mean(np.abs(grad2)))\n",
    "                grad_current_W3.append(np.mean(np.abs(grad3)))\n",
    "                \n",
    "                # momentum calculations\n",
    "                rho_W1, rho_W2, rho_W3 = eta * grad1, eta * grad2, eta * grad3\n",
    "                self.W1 -= (rho_W1 + (self.alpha * rho_W1_prev))\n",
    "                self.W2 -= (rho_W2 + (self.alpha * rho_W2_prev))\n",
    "                self.W3 -= (rho_W3 + (self.alpha * rho_W3_prev))\n",
    "                rho_W1_prev, rho_W2_prev, rho_W3_prev = rho_W1, rho_W2, rho_W3\n",
    "\n",
    "            self.cost_.append(mini_cost)\n",
    "            self.score_.append(accuracy_score(y_data,self.predict(X_data)))\n",
    "            if XY_test is not None:\n",
    "                self.val_score_.append(accuracy_score(y_test,self.predict(X_test)))\n",
    "        \n",
    "#             self.grad_W1.append(LA.norm(np.abs(grad_current_W1)))\n",
    "#             self.grad_W2.append(LA.norm(np.abs(grad_current_W2)))\n",
    "#             self.grad_W3.append(LA.norm(np.abs(grad_current_W3)))\n",
    "            \n",
    "            self.grad_W1.append(np.mean(np.abs(grad_current_W1)))\n",
    "            self.grad_W2.append(np.mean(np.abs(grad_current_W2)))\n",
    "            self.grad_W3.append(np.mean(np.abs(grad_current_W3)))\n",
    "        \n",
    "        self.grad_total.append(self.grad_W1)\n",
    "        self.grad_total.append(self.grad_W2)\n",
    "        self.grad_total.append(self.grad_W3)\n",
    "            \n",
    "        return self"
   ]
  },
  {
   "cell_type": "code",
   "execution_count": 24,
   "id": "fa83f62e",
   "metadata": {},
   "outputs": [],
   "source": [
    "vals = { 'n_hidden':50, \n",
    "         'C':0.1, 'epochs':100, 'eta':0.01, \n",
    "         'alpha':0.01, 'decrease_const':0.1, 'minibatches':100,\n",
    "         'shuffle':True,'random_state':1}"
   ]
  },
  {
   "cell_type": "code",
   "execution_count": 25,
   "id": "3bbe8d19",
   "metadata": {},
   "outputs": [
    {
     "name": "stderr",
     "output_type": "stream",
     "text": [
      "Epoch: 100/100"
     ]
    },
    {
     "name": "stdout",
     "output_type": "stream",
     "text": [
      "CPU times: total: 1min 34s\n",
      "Wall time: 44.7 s\n",
      "The accuracy is: 0.7330170517051705\n"
     ]
    }
   ],
   "source": [
    "nn_quad_4 = ThreeLayerPerceptron(**vals)\n",
    "%time nn_quad_4.fit(X_train.to_numpy(), y_train, print_progress=50)\n",
    "yhat_4 = nn_quad_4.predict(X_test.to_numpy())\n",
    "print(f'The accuracy is: {accuracy_score(y_test, yhat_4)}')"
   ]
  },
  {
   "cell_type": "code",
   "execution_count": 26,
   "id": "b5ec79f7",
   "metadata": {},
   "outputs": [
    {
     "data": {
      "image/png": "[encoded data removed]",
      "text/plain": [
       "<Figure size 432x288 with 1 Axes>"
      ]
     },
     "metadata": {
      "needs_background": "light"
     },
     "output_type": "display_data"
    }
   ],
   "source": [
    "ax = plt.subplot(1, 1, 1)\n",
    "for i in range(len(nn_quad_4.grad_total)):\n",
    "    plt.plot(np.abs(nn_quad_4.grad_total[i][20:]), label=f'w{i+1}')\n",
    "plt.legend()\n",
    "plt.title('The average gradient magnitude VS Epochs')\n",
    "plt.ylabel('The average gradient magnitude')\n",
    "plt.xlabel('The epochs')\n",
    "plt.show()"
   ]
  },
  {
   "cell_type": "code",
   "execution_count": 27,
   "id": "330eb5f9",
   "metadata": {},
   "outputs": [
    {
     "name": "stdout",
     "output_type": "stream",
     "text": [
      "The model 3 & the model 4: chi-squared 170.8875\n"
     ]
    }
   ],
   "source": [
    "tb_34 = mcnemar_table(y_target=y_test, \n",
    "                   y_model1=yhat_3, \n",
    "                   y_model2=yhat_4)\n",
    "chi2_34, _ = mcnemar(ary=tb_34, corrected=True)\n",
    "print(f'The model 3 & the model 4: chi-squared {chi2_34}')"
   ]
  },
  {
   "cell_type": "markdown",
   "id": "bed9dd8c",
   "metadata": {},
   "source": [
    "&emsp; The chi-squared value is greater than 6.635, so the difference in performance between the two-layer model and the three-layer model is enormous. As a result, the three-layer model is greater than the two-layer model."
   ]
  },
  {
   "cell_type": "markdown",
   "id": "53286099",
   "metadata": {},
   "source": [
    "### 3.2 Adding support for a fourth layer:"
   ]
  },
  {
   "cell_type": "code",
   "execution_count": 28,
   "id": "ca794499",
   "metadata": {},
   "outputs": [],
   "source": [
    "class FourLayerPerceptron(ThreeLayerPerceptron):\n",
    "    def __init__(self, **kwds):\n",
    "        super().__init__(**kwds)\n",
    "\n",
    "    def _initialize_weights(self):\n",
    "        \"\"\"Initialize weights with small random numbers.\"\"\"\n",
    "        init_bound_1 = 4*np.sqrt(6 / (self.n_hidden + self.n_features_ + 1))\n",
    "        W1 = np.random.uniform(-init_bound_1, init_bound_1, (self.n_hidden, self.n_features_ + 1))\n",
    "        W1[:,:1] = 0\n",
    "        \n",
    "        init_bound_2 = 4*np.sqrt(6 / (self.n_hidden + self.n_hidden + 1))\n",
    "        W2 = np.random.uniform(-init_bound_2, init_bound_2, (self.n_hidden, self.n_hidden + 1))\n",
    "        W2[:,:1] = 0\n",
    "        \n",
    "        init_bound_3 = 4*np.sqrt(6 / (self.n_hidden + self.n_hidden + 1))\n",
    "        W3 = np.random.uniform(-init_bound_3, init_bound_3, (self.n_hidden, self.n_hidden + 1))\n",
    "        W3[:,:1] = 0\n",
    "        \n",
    "        init_bound_4 = 4*np.sqrt(6 / (self.n_output_ + self.n_hidden + 1))\n",
    "        W4 = np.random.uniform(-init_bound_4, init_bound_4, (self.n_output_, self.n_hidden + 1))\n",
    "        W4[:,:1] = 0\n",
    "        \n",
    "        return W1, W2, W3, W4\n",
    "    \n",
    "    @staticmethod\n",
    "    def _L2_reg(lambda_, W1, W2, W3, W4):\n",
    "        \"\"\"Compute L2-regularization cost\"\"\"\n",
    "        # only compute for non-bias terms\n",
    "        return (lambda_/2.0) * np.sqrt(np.mean(W1[:, 1:] ** 2) + \n",
    "                                       np.mean(W2[:, 1:] ** 2) + \n",
    "                                       np.mean(W3[:, 1:] ** 2) + \n",
    "                                       np.mean(W4[:, 1:] ** 2))\n",
    "    \n",
    "    def _cost(self,A5,Y_enc,W1,W2,W3,W4):\n",
    "        '''Get the objective function value'''\n",
    "        cost = np.mean((Y_enc-A5)**2)\n",
    "        L2_term = self._L2_reg(self.l2_C, W1, W2, W3, W4)\n",
    "        return cost + L2_term\n",
    "    \n",
    "    def _feedforward(self, X, W1, W2, W3, W4):\n",
    "        \"\"\"Compute feedforward step\n",
    "        \"\"\"\n",
    "        A1 = self._add_bias_unit(X.T, how='row')\n",
    "        Z1 = W1 @ A1\n",
    "        \n",
    "        A2 = self._sigmoid(Z1)\n",
    "        A2 = self._add_bias_unit(A2, how='row')\n",
    "        Z2 = W2 @ A2\n",
    "        \n",
    "        A3 = self._sigmoid(Z2)\n",
    "        A3 = self._add_bias_unit(A3, how='row')\n",
    "        Z3 = W3 @ A3\n",
    "        \n",
    "        A4 = self._sigmoid(Z3)\n",
    "        A4 = self._add_bias_unit(A4, how='row')\n",
    "        Z4 = W4 @ A4\n",
    "        \n",
    "        A5 = self._sigmoid(Z4)\n",
    "        \n",
    "        return A1, Z1, A2, Z2, A3, Z3, A4, Z4, A5\n",
    "    \n",
    "    def _get_gradient(self, A1, A2, A3, A4, A5, Z1, Z2, Z3, Z4, Y_enc, W1, W2, W3, W4):\n",
    "        \"\"\" Compute gradient step using backpropagation.\n",
    "        \"\"\"\n",
    "        # vectorized backpropagation\n",
    "        V4 = -2*(Y_enc-A5)*A5*(1-A5)  # last layer sensitivity\n",
    "        V3 = A4*(1-A4)*(W4.T @ V4) # back prop the sensitivity\n",
    "        V2 = A3*(1-A3)*(W3.T @ V3[1:,:])\n",
    "        V1 = A2*(1-A2)*(W2.T @ V2[1:,:])\n",
    "        \n",
    "        grad4 = V4 @ A4.T # no bias on final layer\n",
    "        grad3 = V3[1:,:] @ A3.T # dont back prop sensitivity of bias\n",
    "        grad2 = V2[1:,:] @ A2.T\n",
    "        grad1 = V1[1:,:] @ A1.T\n",
    "        \n",
    "        \n",
    "        # regularize weights that are not bias terms\n",
    "        grad1[:, 1:] += W1[:, 1:] * self.l2_C\n",
    "        grad2[:, 1:] += W2[:, 1:] * self.l2_C\n",
    "        grad3[:, 1:] += W3[:, 1:] * self.l2_C\n",
    "        grad4[:, 1:] += W4[:, 1:] * self.l2_C\n",
    "\n",
    "        return grad1, grad2, grad3, grad4\n",
    "    \n",
    "    def predict(self, X):\n",
    "        \"\"\"Predict class labels\"\"\"\n",
    "        _, _, _, _, _, _, _, _, A5 = self._feedforward(X, self.W1, self.W2, self.W3, self.W4)\n",
    "        y_pred = np.argmax(A5, axis=0)\n",
    "        return y_pred\n",
    "    \n",
    "    def fit(self, X, y, print_progress=False, XY_test=None):\n",
    "        \"\"\" Learn weights from training data. With mini-batch\"\"\"\n",
    "        X_data, y_data = X.copy(), y.copy()\n",
    "        Y_enc = self._encode_labels(y)\n",
    "        \n",
    "        # init weights and setup matrices\n",
    "        self.n_features_ = X_data.shape[1]\n",
    "        self.n_output_ = Y_enc.shape[0]\n",
    "        self.W1, self.W2, self.W3 ,self.W4 = self._initialize_weights()\n",
    "\n",
    "        rho_W1_prev = np.zeros(self.W1.shape)\n",
    "        rho_W2_prev = np.zeros(self.W2.shape)\n",
    "        rho_W3_prev = np.zeros(self.W3.shape)\n",
    "        rho_W4_prev = np.zeros(self.W4.shape)\n",
    "\n",
    "        self.cost_ = []\n",
    "        self.score_ = []\n",
    "        # get starting acc\n",
    "        self.score_.append(accuracy_score(y_data,self.predict(X_data)))\n",
    "        \n",
    "        self.grad_W1, self.grad_W2, self.grad_W3, self.grad_W4 = [], [], [], []\n",
    "        self.grad_total = []\n",
    "        \n",
    "        # keep track of validation, if given\n",
    "        if XY_test is not None:\n",
    "            X_test = XY_test[0].copy()\n",
    "            y_test = XY_test[1].copy()\n",
    "            self.val_score_ = []\n",
    "            self.val_score_.append(accuracy_score(y_test,self.predict(X_test)))\n",
    "            \n",
    "        for i in range(self.epochs):\n",
    "\n",
    "            # adaptive learning rate\n",
    "            # \\frac{\\eta}{1+\\epsilon\\cdot k}\n",
    "            eta = self.eta / (1 + self.decrease_const*i)\n",
    "\n",
    "            if print_progress>0 and (i+1)%print_progress==0:\n",
    "                sys.stderr.write('\\rEpoch: %d/%d' % (i+1, self.epochs))\n",
    "                sys.stderr.flush()\n",
    "\n",
    "            if self.shuffle:\n",
    "                idx_shuffle = np.random.permutation(y_data.shape[0])\n",
    "                X_data, Y_enc, y_data = X_data[idx_shuffle], Y_enc[:, idx_shuffle], y_data[idx_shuffle]\n",
    "\n",
    "            mini = np.array_split(range(y_data.shape[0]), self.minibatches)\n",
    "            mini_cost = []\n",
    "            \n",
    "            grad_current_W1, grad_current_W2, grad_current_W3, grad_current_W4 = [], [], [], []\n",
    "            \n",
    "            for idx in mini:\n",
    "\n",
    "                # feedforward\n",
    "                A1, Z1, A2, Z2, A3, Z3, A4, Z4, A5 = self._feedforward(X_data[idx],\n",
    "                                                                       self.W1,\n",
    "                                                                       self.W2,\n",
    "                                                                       self.W3,\n",
    "                                                                       self.W4)\n",
    "                \n",
    "                cost = self._cost(A5,Y_enc[:, idx],self.W1,self.W2,self.W3,self.W4)\n",
    "                mini_cost.append(cost) # this appends cost of mini-batch only\n",
    "\n",
    "                # compute gradient via backpropagation\n",
    "                grad1, grad2, grad3, grad4 = self._get_gradient(A1=A1, A2=A2, A3=A3, A4=A4, A5=A5, \n",
    "                                                         Z1=Z1, Z2=Z2, Z3=Z3, Z4=Z4, \n",
    "                                                         Y_enc=Y_enc[:, idx],\n",
    "                                                         W1=self.W1,W2=self.W2,W3=self.W3,W4=self.W4)\n",
    "                \n",
    "                grad_current_W1.append(np.mean(np.abs(grad1)))\n",
    "                grad_current_W2.append(np.mean(np.abs(grad2)))\n",
    "                grad_current_W3.append(np.mean(np.abs(grad3)))\n",
    "                grad_current_W4.append(np.mean(np.abs(grad4)))\n",
    "                \n",
    "                # momentum calculations\n",
    "                rho_W1, rho_W2, rho_W3, rho_W4 = eta * grad1, eta * grad2, eta * grad3, eta * grad4\n",
    "                self.W1 -= (rho_W1 + (self.alpha * rho_W1_prev))\n",
    "                self.W2 -= (rho_W2 + (self.alpha * rho_W2_prev))\n",
    "                self.W3 -= (rho_W3 + (self.alpha * rho_W3_prev))\n",
    "                self.W4 -= (rho_W4 + (self.alpha * rho_W4_prev))\n",
    "                rho_W1_prev, rho_W2_prev, rho_W3_prev, rho_W4_prev = rho_W1, rho_W2, rho_W3, rho_W4\n",
    "\n",
    "            self.cost_.append(mini_cost)\n",
    "            self.score_.append(accuracy_score(y_data,self.predict(X_data)))\n",
    "            if XY_test is not None:\n",
    "                self.val_score_.append(accuracy_score(y_test,self.predict(X_test)))\n",
    "            \n",
    "            self.grad_W1.append(np.mean(np.abs(grad_current_W1)))\n",
    "            self.grad_W2.append(np.mean(np.abs(grad_current_W2)))\n",
    "            self.grad_W3.append(np.mean(np.abs(grad_current_W3)))\n",
    "            self.grad_W4.append(np.mean(np.abs(grad_current_W4)))\n",
    "        \n",
    "        self.grad_total.append(self.grad_W1)\n",
    "        self.grad_total.append(self.grad_W2)\n",
    "        self.grad_total.append(self.grad_W3)\n",
    "        self.grad_total.append(self.grad_W4)\n",
    "            \n",
    "        return self"
   ]
  },
  {
   "cell_type": "code",
   "execution_count": 29,
   "id": "3bde1528",
   "metadata": {},
   "outputs": [
    {
     "name": "stderr",
     "output_type": "stream",
     "text": [
      "Epoch: 100/100"
     ]
    },
    {
     "name": "stdout",
     "output_type": "stream",
     "text": [
      "CPU times: total: 2min 6s\n",
      "Wall time: 1min\n",
      "The accuracy is: 0.7367299229922992\n"
     ]
    }
   ],
   "source": [
    "nn_quad_5 = FourLayerPerceptron(**vals)\n",
    "%time nn_quad_5.fit(X_train.to_numpy(), y_train, print_progress=50)\n",
    "yhat_5 = nn_quad_5.predict(X_test.to_numpy())\n",
    "print(f'The accuracy is: {accuracy_score(y_test, yhat_5)}')"
   ]
  },
  {
   "cell_type": "code",
   "execution_count": 30,
   "id": "ae37e268",
   "metadata": {},
   "outputs": [
    {
     "data": {
      "image/png": "[encoded data removed]",
      "text/plain": [
       "<Figure size 432x288 with 1 Axes>"
      ]
     },
     "metadata": {
      "needs_background": "light"
     },
     "output_type": "display_data"
    }
   ],
   "source": [
    "ax = plt.subplot(1, 1, 1)\n",
    "for i in range(len(nn_quad_5.grad_total)):\n",
    "    plt.plot(np.abs(nn_quad_5.grad_total[i][15:]), label=f'w{i+1}')\n",
    "plt.legend()\n",
    "plt.title('The average gradient magnitude VS Epochs')\n",
    "plt.ylabel('The average gradient magnitude')\n",
    "plt.xlabel('The epochs')\n",
    "plt.show()"
   ]
  },
  {
   "cell_type": "code",
   "execution_count": 31,
   "id": "d6c0bcb4",
   "metadata": {},
   "outputs": [
    {
     "name": "stdout",
     "output_type": "stream",
     "text": [
      "The model 4 & the model 5: chi-squared 4.826460481099656\n"
     ]
    }
   ],
   "source": [
    "tb_45 = mcnemar_table(y_target=y_test, \n",
    "                   y_model1=yhat_4, \n",
    "                   y_model2=yhat_5)\n",
    "chi2_45, _ = mcnemar(ary=tb_45, corrected=True)\n",
    "print(f'The model 4 & the model 5: chi-squared {chi2_45}')"
   ]
  },
  {
   "cell_type": "markdown",
   "id": "86b1a24e",
   "metadata": {},
   "source": [
    "&emsp; The chi-squared value is less to 6.635, so the difference in performance between the four-layer model and the three-layer model is small. As a result, the four-layer model is similar to the three-layer model."
   ]
  },
  {
   "cell_type": "markdown",
   "id": "e835dd84",
   "metadata": {},
   "source": [
    "### 3.3 Adding support for a fifth layer:"
   ]
  },
  {
   "cell_type": "code",
   "execution_count": 32,
   "id": "68fb20a4",
   "metadata": {},
   "outputs": [],
   "source": [
    "class FiveLayerPerceptron(ThreeLayerPerceptron):\n",
    "    def __init__(self, **kwds):\n",
    "        super().__init__(**kwds)\n",
    "\n",
    "    def _initialize_weights(self):\n",
    "        \"\"\"Initialize weights with small random numbers.\"\"\"\n",
    "        init_bound_1 = 4*np.sqrt(6 / (self.n_hidden + self.n_features_ + 1))\n",
    "        W1 = np.random.uniform(-init_bound_1, init_bound_1, (self.n_hidden, self.n_features_ + 1))\n",
    "        W1[:,:1] = 0\n",
    "        \n",
    "        init_bound_2 = 4*np.sqrt(6 / (self.n_hidden + self.n_hidden + 1))\n",
    "        W2 = np.random.uniform(-init_bound_2, init_bound_2, (self.n_hidden, self.n_hidden + 1))\n",
    "        W2[:,:1] = 0\n",
    "        \n",
    "        init_bound_3 = 4*np.sqrt(6 / (self.n_hidden + self.n_hidden + 1))\n",
    "        W3 = np.random.uniform(-init_bound_3, init_bound_3, (self.n_hidden, self.n_hidden + 1))\n",
    "        W3[:,:1] = 0\n",
    "        \n",
    "        init_bound_4 = 4*np.sqrt(6 / (self.n_hidden + self.n_hidden + 1))\n",
    "        W4 = np.random.uniform(-init_bound_4, init_bound_4, (self.n_hidden, self.n_hidden + 1))\n",
    "        W4[:,:1] = 0\n",
    "        \n",
    "        init_bound_5 = 4*np.sqrt(6 / (self.n_output_ + self.n_hidden + 1))\n",
    "        W5 = np.random.uniform(-init_bound_5, init_bound_5, (self.n_output_, self.n_hidden + 1))\n",
    "        W5[:,:1] = 0\n",
    "        \n",
    "        return W1, W2, W3, W4, W5\n",
    "    \n",
    "    @staticmethod\n",
    "    def _L2_reg(lambda_, W1, W2, W3, W4, W5):\n",
    "        \"\"\"Compute L2-regularization cost\"\"\"\n",
    "        # only compute for non-bias terms\n",
    "        return (lambda_/2.0) * np.sqrt(np.mean(W1[:, 1:] ** 2) + \n",
    "                                       np.mean(W2[:, 1:] ** 2) + \n",
    "                                       np.mean(W3[:, 1:] ** 2) + \n",
    "                                       np.mean(W4[:, 1:] ** 2) + \n",
    "                                       np.mean(W5[:, 1:] ** 2))\n",
    "    \n",
    "    def _cost(self,A6,Y_enc,W1,W2,W3,W4,W5):\n",
    "        '''Get the objective function value'''\n",
    "        cost = np.mean((Y_enc-A6)**2)\n",
    "        L2_term = self._L2_reg(self.l2_C, W1, W2, W3, W4, W5)\n",
    "        return cost + L2_term\n",
    "    \n",
    "    def _feedforward(self, X, W1, W2, W3, W4, W5):\n",
    "        \"\"\"Compute feedforward step\n",
    "        \"\"\"\n",
    "        A1 = self._add_bias_unit(X.T, how='row')\n",
    "        Z1 = W1 @ A1\n",
    "        \n",
    "        A2 = self._sigmoid(Z1)\n",
    "        A2 = self._add_bias_unit(A2, how='row')\n",
    "        Z2 = W2 @ A2\n",
    "        \n",
    "        A3 = self._sigmoid(Z2)\n",
    "        A3 = self._add_bias_unit(A3, how='row')\n",
    "        Z3 = W3 @ A3\n",
    "        \n",
    "        A4 = self._sigmoid(Z3)\n",
    "        A4 = self._add_bias_unit(A4, how='row')\n",
    "        Z4 = W4 @ A4\n",
    "        \n",
    "        A5 = self._sigmoid(Z4)\n",
    "        A5 = self._add_bias_unit(A5, how='row')\n",
    "        Z5 = W5 @ A5\n",
    "        \n",
    "        A6 = self._sigmoid(Z5)\n",
    "        \n",
    "        return A1, Z1, A2, Z2, A3, Z3, A4, Z4, A5, Z5, A6\n",
    "    \n",
    "    def _get_gradient(self, A1, A2, A3, A4, A5, A6, Z1, Z2, Z3, Z4, Z5, Y_enc, W1, W2, W3, W4, W5):\n",
    "        \"\"\" Compute gradient step using backpropagation.\n",
    "        \"\"\"\n",
    "        # vectorized backpropagation\n",
    "        V5 = -2*(Y_enc-A6)*A6*(1-A6)  # last layer sensitivity\n",
    "        V4 = A5*(1-A5)*(W5.T @ V5) # back prop the sensitivity\n",
    "        V3 = A4*(1-A4)*(W4.T @ V4[1:,:])\n",
    "        V2 = A3*(1-A3)*(W3.T @ V3[1:,:])\n",
    "        V1 = A2*(1-A2)*(W2.T @ V2[1:,:])\n",
    "        \n",
    "        grad5 = V5 @ A5.T # no bias on final layer\n",
    "        grad4 = V4[1:,:] @ A4.T\n",
    "        grad3 = V3[1:,:] @ A3.T # dont back prop sensitivity of bias\n",
    "        grad2 = V2[1:,:] @ A2.T\n",
    "        grad1 = V1[1:,:] @ A1.T\n",
    "        \n",
    "        # regularize weights that are not bias terms\n",
    "        grad1[:, 1:] += W1[:, 1:] * self.l2_C\n",
    "        grad2[:, 1:] += W2[:, 1:] * self.l2_C\n",
    "        grad3[:, 1:] += W3[:, 1:] * self.l2_C\n",
    "        grad4[:, 1:] += W4[:, 1:] * self.l2_C\n",
    "        grad5[:, 1:] += W5[:, 1:] * self.l2_C\n",
    "\n",
    "        return grad1, grad2, grad3, grad4, grad5\n",
    "    \n",
    "    def predict(self, X):\n",
    "        \"\"\"Predict class labels\"\"\"\n",
    "        _, _, _, _, _, _, _, _, _, _, A6 = self._feedforward(X, self.W1, self.W2, self.W3, self.W4, self.W5)\n",
    "        y_pred = np.argmax(A6, axis=0)\n",
    "        return y_pred\n",
    "    \n",
    "    def fit(self, X, y, print_progress=False, XY_test=None):\n",
    "        \"\"\" Learn weights from training data. With mini-batch\"\"\"\n",
    "        X_data, y_data = X.copy(), y.copy()\n",
    "        Y_enc = self._encode_labels(y)\n",
    "        \n",
    "        # init weights and setup matrices\n",
    "        self.n_features_ = X_data.shape[1]\n",
    "        self.n_output_ = Y_enc.shape[0]\n",
    "        self.W1, self.W2, self.W3 ,self.W4 ,self.W5 = self._initialize_weights()\n",
    "\n",
    "        rho_W1_prev = np.zeros(self.W1.shape)\n",
    "        rho_W2_prev = np.zeros(self.W2.shape)\n",
    "        rho_W3_prev = np.zeros(self.W3.shape)\n",
    "        rho_W4_prev = np.zeros(self.W4.shape)\n",
    "        rho_W5_prev = np.zeros(self.W5.shape)\n",
    "\n",
    "        self.cost_ = []\n",
    "        self.score_ = []\n",
    "        # get starting acc\n",
    "        self.score_.append(accuracy_score(y_data,self.predict(X_data)))\n",
    "        \n",
    "        self.grad_W1, self.grad_W2, self.grad_W3, self.grad_W4, self.grad_W5 = [], [], [], [], []\n",
    "        self.grad_total = []\n",
    "        \n",
    "        # keep track of validation, if given\n",
    "        if XY_test is not None:\n",
    "            X_test = XY_test[0].copy()\n",
    "            y_test = XY_test[1].copy()\n",
    "            self.val_score_ = []\n",
    "            self.val_score_.append(accuracy_score(y_test,self.predict(X_test)))\n",
    "            \n",
    "        for i in range(self.epochs):\n",
    "\n",
    "            # adaptive learning rate\n",
    "            # \\frac{\\eta}{1+\\epsilon\\cdot k}\n",
    "            eta = self.eta / (1 + self.decrease_const*i)\n",
    "\n",
    "            if print_progress>0 and (i+1)%print_progress==0:\n",
    "                sys.stderr.write('\\rEpoch: %d/%d' % (i+1, self.epochs))\n",
    "                sys.stderr.flush()\n",
    "\n",
    "            if self.shuffle:\n",
    "                idx_shuffle = np.random.permutation(y_data.shape[0])\n",
    "                X_data, Y_enc, y_data = X_data[idx_shuffle], Y_enc[:, idx_shuffle], y_data[idx_shuffle]\n",
    "\n",
    "            mini = np.array_split(range(y_data.shape[0]), self.minibatches)\n",
    "            mini_cost = []\n",
    "            \n",
    "            grad_current_W1, grad_current_W2, grad_current_W3, grad_current_W4, grad_current_W5 = [], [], [], [], []\n",
    "            \n",
    "            for idx in mini:\n",
    "\n",
    "                # feedforward\n",
    "                A1, Z1, A2, Z2, A3, Z3, A4, Z4, A5, Z5, A6 = self._feedforward(X_data[idx],\n",
    "                                                                               self.W1,\n",
    "                                                                               self.W2,\n",
    "                                                                               self.W3,\n",
    "                                                                               self.W4,\n",
    "                                                                               self.W5)\n",
    "                \n",
    "                cost = self._cost(A6,Y_enc[:, idx],self.W1,self.W2,self.W3,self.W4,self.W5)\n",
    "                mini_cost.append(cost) # this appends cost of mini-batch only\n",
    "\n",
    "                # compute gradient via backpropagation\n",
    "                grad1, grad2, grad3, grad4, grad5 = self._get_gradient(A1=A1, A2=A2, A3=A3, A4=A4, A5=A5, A6=A6, \n",
    "                                                         Z1=Z1, Z2=Z2, Z3=Z3, Z4=Z4, Z5=Z5,\n",
    "                                                         Y_enc=Y_enc[:, idx],\n",
    "                                                         W1=self.W1,W2=self.W2,W3=self.W3,W4=self.W4,W5=self.W5)\n",
    "                \n",
    "                grad_current_W1.append(np.mean(np.abs(grad1)))\n",
    "                grad_current_W2.append(np.mean(np.abs(grad2)))\n",
    "                grad_current_W3.append(np.mean(np.abs(grad3)))\n",
    "                grad_current_W4.append(np.mean(np.abs(grad4)))\n",
    "                grad_current_W5.append(np.mean(np.abs(grad5)))\n",
    "                \n",
    "                # momentum calculations\n",
    "                rho_W1, rho_W2, rho_W3, rho_W4, rho_W5 = eta * grad1, eta * grad2, eta * grad3, eta * grad4, eta * grad5\n",
    "                self.W1 -= (rho_W1 + (self.alpha * rho_W1_prev))\n",
    "                self.W2 -= (rho_W2 + (self.alpha * rho_W2_prev))\n",
    "                self.W3 -= (rho_W3 + (self.alpha * rho_W3_prev))\n",
    "                self.W4 -= (rho_W4 + (self.alpha * rho_W4_prev))\n",
    "                self.W5 -= (rho_W5 + (self.alpha * rho_W5_prev))\n",
    "                rho_W1_prev, rho_W2_prev, rho_W3_prev, rho_W4_prev, rho_W5_prev = rho_W1, rho_W2, rho_W3, rho_W4, rho_W5\n",
    "\n",
    "            self.cost_.append(mini_cost)\n",
    "            self.score_.append(accuracy_score(y_data,self.predict(X_data)))\n",
    "            if XY_test is not None:\n",
    "                self.val_score_.append(accuracy_score(y_test,self.predict(X_test)))\n",
    "            \n",
    "            self.grad_W1.append(np.mean(np.abs(grad_current_W1)))\n",
    "            self.grad_W2.append(np.mean(np.abs(grad_current_W2)))\n",
    "            self.grad_W3.append(np.mean(np.abs(grad_current_W3)))\n",
    "            self.grad_W4.append(np.mean(np.abs(grad_current_W4)))\n",
    "            self.grad_W5.append(np.mean(np.abs(grad_current_W5)))\n",
    "        \n",
    "        self.grad_total.append(self.grad_W1)\n",
    "        self.grad_total.append(self.grad_W2)\n",
    "        self.grad_total.append(self.grad_W3)\n",
    "        self.grad_total.append(self.grad_W4)\n",
    "        self.grad_total.append(self.grad_W5)\n",
    "            \n",
    "        return self"
   ]
  },
  {
   "cell_type": "code",
   "execution_count": 33,
   "id": "503b62ac",
   "metadata": {},
   "outputs": [
    {
     "name": "stderr",
     "output_type": "stream",
     "text": [
      "Epoch: 100/100"
     ]
    },
    {
     "name": "stdout",
     "output_type": "stream",
     "text": [
      "CPU times: total: 2min 40s\n",
      "Wall time: 1min 17s\n",
      "The accuracy is: 0.7312293729372937\n"
     ]
    }
   ],
   "source": [
    "nn_quad_6 = FiveLayerPerceptron(**vals)\n",
    "%time nn_quad_6.fit(X_train.to_numpy(), y_train, print_progress=50)\n",
    "yhat_6 = nn_quad_6.predict(X_test.to_numpy())\n",
    "print(f'The accuracy is: {accuracy_score(y_test, yhat_6)}')"
   ]
  },
  {
   "cell_type": "code",
   "execution_count": 34,
   "id": "d06fe9ac",
   "metadata": {},
   "outputs": [
    {
     "data": {
      "image/png": "[encoded data removed]",
      "text/plain": [
       "<Figure size 432x288 with 1 Axes>"
      ]
     },
     "metadata": {
      "needs_background": "light"
     },
     "output_type": "display_data"
    }
   ],
   "source": [
    "ax = plt.subplot(1, 1, 1)\n",
    "for i in range(len(nn_quad_6.grad_total)):\n",
    "    plt.plot(np.abs(nn_quad_6.grad_total[i][20:]), label=f'w{i+1}')\n",
    "plt.legend()\n",
    "plt.title('The average gradient magnitude VS Epochs')\n",
    "plt.ylabel('The average gradient magnitude')\n",
    "plt.xlabel('The epochs')\n",
    "plt.show()"
   ]
  },
  {
   "cell_type": "code",
   "execution_count": 35,
   "id": "08950830",
   "metadata": {},
   "outputs": [
    {
     "name": "stdout",
     "output_type": "stream",
     "text": [
      "The model 4 & the model 6: chi-squared 0.9498480243161094\n"
     ]
    }
   ],
   "source": [
    "tb_46 = mcnemar_table(y_target=y_test, \n",
    "                   y_model1=yhat_4, \n",
    "                   y_model2=yhat_6)\n",
    "chi2_46, _ = mcnemar(ary=tb_46, corrected=True)\n",
    "print(f'The model 4 & the model 6: chi-squared {chi2_46}')"
   ]
  },
  {
   "cell_type": "markdown",
   "id": "4663e71d",
   "metadata": {},
   "source": [
    "&emsp; The chi-squared value is less to 6.635, so the difference in performance between the five-layer model and the three-layer model is small. As a result, the five-layer model is similar to the three-layer model."
   ]
  },
  {
   "cell_type": "markdown",
   "id": "f59c5d14",
   "metadata": {},
   "source": [
    "### 3.4 Implement an adaptive learning technique that was discussed in lecture and use it on the five layer network:"
   ]
  },
  {
   "cell_type": "markdown",
   "id": "20691c4e",
   "metadata": {},
   "source": [
    "&emsp; We choose AdaGrad adaptive learning technique:"
   ]
  },
  {
   "cell_type": "markdown",
   "id": "f9a5c8e4",
   "metadata": {},
   "source": [
    "&emsp; Because of:\n",
    "\n",
    "$$ \\mathbf{W}_{k+1} = \\mathbf{W}_{k} - η {ρ}_{k} $$\n",
    "\n",
    "&emsp; Where:\n",
    "\n",
    "$$ {ρ}_{k} = \\frac{1}{\\sqrt{\\mathbf{G}_{k}+ϵ}} ⊙ ∇J(\\mathbf{W_k}) $$\n",
    "\n",
    "$$ \\mathbf{G}_{k} = \\mathbf{G}_{k-1} +  ∇J(\\mathbf{W_k}) ⊙ ∇J(\\mathbf{W_k}) $$"
   ]
  },
  {
   "cell_type": "code",
   "execution_count": 36,
   "id": "d4456dc1",
   "metadata": {},
   "outputs": [],
   "source": [
    "class FiveLayerPerceptronAdaGrad(FiveLayerPerceptron):\n",
    "    def __init__(self, **kwds):\n",
    "        super().__init__(**kwds)\n",
    "\n",
    "    def fit(self, X, y, print_progress=False, XY_test=None):\n",
    "        \"\"\" Learn weights from training data. With mini-batch\"\"\"\n",
    "        X_data, y_data = X.copy(), y.copy()\n",
    "        Y_enc = self._encode_labels(y)\n",
    "        \n",
    "        # init weights and setup matrices\n",
    "        self.n_features_ = X_data.shape[1]\n",
    "        self.n_output_ = Y_enc.shape[0]\n",
    "        self.W1, self.W2, self.W3 ,self.W4 ,self.W5 = self._initialize_weights()\n",
    "\n",
    "        g_w1 = np.zeros(self.W1.shape)\n",
    "        g_w2 = np.zeros(self.W2.shape)\n",
    "        g_w3 = np.zeros(self.W3.shape)\n",
    "        g_w4 = np.zeros(self.W4.shape)\n",
    "        g_w5 = np.zeros(self.W5.shape)\n",
    "        \n",
    "        current_epsilon = 1e-8\n",
    "\n",
    "        self.cost_ = []\n",
    "        self.score_ = []\n",
    "        # get starting acc\n",
    "        self.score_.append(accuracy_score(y_data,self.predict(X_data)))\n",
    "        \n",
    "        self.grad_W1, self.grad_W2, self.grad_W3, self.grad_W4, self.grad_W5 = [], [], [], [], []\n",
    "        self.grad_total = []\n",
    "        \n",
    "        # keep track of validation, if given\n",
    "        if XY_test is not None:\n",
    "            X_test = XY_test[0].copy()\n",
    "            y_test = XY_test[1].copy()\n",
    "            self.val_score_ = []\n",
    "            self.val_score_.append(accuracy_score(y_test,self.predict(X_test)))\n",
    "            \n",
    "        for i in range(self.epochs):\n",
    "\n",
    "            # adaptive learning rate\n",
    "            # \\frac{\\eta}{1+\\epsilon\\cdot k}\n",
    "            eta = self.eta / (1 + self.decrease_const*i)\n",
    "\n",
    "            if print_progress>0 and (i+1)%print_progress==0:\n",
    "                sys.stderr.write('\\rEpoch: %d/%d' % (i+1, self.epochs))\n",
    "                sys.stderr.flush()\n",
    "\n",
    "            if self.shuffle:\n",
    "                idx_shuffle = np.random.permutation(y_data.shape[0])\n",
    "                X_data, Y_enc, y_data = X_data[idx_shuffle], Y_enc[:, idx_shuffle], y_data[idx_shuffle]\n",
    "\n",
    "            mini = np.array_split(range(y_data.shape[0]), self.minibatches)\n",
    "            mini_cost = []\n",
    "            \n",
    "            grad_current_W1, grad_current_W2, grad_current_W3, grad_current_W4, grad_current_W5 = [], [], [], [], []\n",
    "                                            \n",
    "            for idx in mini:\n",
    "\n",
    "                # feedforward\n",
    "                A1, Z1, A2, Z2, A3, Z3, A4, Z4, A5, Z5, A6 = self._feedforward(X_data[idx],\n",
    "                                                                               self.W1,\n",
    "                                                                               self.W2,\n",
    "                                                                               self.W3,\n",
    "                                                                               self.W4,\n",
    "                                                                               self.W5)\n",
    "                \n",
    "                cost = self._cost(A6,Y_enc[:, idx],self.W1,self.W2,self.W3,self.W4,self.W5)\n",
    "                mini_cost.append(cost) # this appends cost of mini-batch only\n",
    "\n",
    "                # compute gradient via backpropagation\n",
    "                grad1, grad2, grad3, grad4, grad5 = self._get_gradient(A1=A1, A2=A2, A3=A3, A4=A4, A5=A5, A6=A6, \n",
    "                                                         Z1=Z1, Z2=Z2, Z3=Z3, Z4=Z4, Z5=Z5,\n",
    "                                                         Y_enc=Y_enc[:, idx],\n",
    "                                                         W1=self.W1,W2=self.W2,W3=self.W3,W4=self.W4,W5=self.W5)\n",
    "                \n",
    "                g_w1 += grad1 * grad1\n",
    "                self.W1 -= self.eta * grad1 / np.sqrt(g_w1 + current_epsilon)\n",
    "                \n",
    "                g_w2 += grad2 * grad2\n",
    "                self.W2 -= self.eta * grad2 / np.sqrt(g_w2 + current_epsilon)\n",
    "                \n",
    "                g_w3 += grad3 * grad3\n",
    "                self.W3 -= self.eta * grad3 / np.sqrt(g_w3 + current_epsilon)\n",
    "                \n",
    "                g_w4 += grad4 * grad4\n",
    "                self.W4 -= self.eta * grad4 / np.sqrt(g_w4 + current_epsilon)\n",
    "                \n",
    "                g_w5 += grad5 * grad5\n",
    "                self.W5 -= self.eta * grad5 / np.sqrt(g_w5 + current_epsilon)\n",
    "                \n",
    "                grad_current_W1.append(np.mean(np.abs(grad1)))\n",
    "                grad_current_W2.append(np.mean(np.abs(grad2)))\n",
    "                grad_current_W3.append(np.mean(np.abs(grad3)))\n",
    "                grad_current_W4.append(np.mean(np.abs(grad4)))\n",
    "                grad_current_W5.append(np.mean(np.abs(grad5)))\n",
    "\n",
    "            self.cost_.append(mini_cost)\n",
    "            self.score_.append(accuracy_score(y_data,self.predict(X_data)))\n",
    "            if XY_test is not None:\n",
    "                self.val_score_.append(accuracy_score(y_test,self.predict(X_test)))\n",
    "            \n",
    "            self.grad_W1.append(np.mean(np.abs(grad_current_W1)))\n",
    "            self.grad_W2.append(np.mean(np.abs(grad_current_W2)))\n",
    "            self.grad_W3.append(np.mean(np.abs(grad_current_W3)))\n",
    "            self.grad_W4.append(np.mean(np.abs(grad_current_W4)))\n",
    "            self.grad_W5.append(np.mean(np.abs(grad_current_W5)))\n",
    "        \n",
    "        self.grad_total.append(self.grad_W1)\n",
    "        self.grad_total.append(self.grad_W2)\n",
    "        self.grad_total.append(self.grad_W3)\n",
    "        self.grad_total.append(self.grad_W4)\n",
    "        self.grad_total.append(self.grad_W5)\n",
    "            \n",
    "        return self"
   ]
  },
  {
   "cell_type": "code",
   "execution_count": 37,
   "id": "e0d5351d",
   "metadata": {},
   "outputs": [
    {
     "name": "stderr",
     "output_type": "stream",
     "text": [
      "Epoch: 100/100"
     ]
    },
    {
     "name": "stdout",
     "output_type": "stream",
     "text": [
      "CPU times: total: 2min 47s\n",
      "Wall time: 1min 16s\n",
      "The accuracy is: 0.7316419141914191\n"
     ]
    }
   ],
   "source": [
    "nn_quad_7 = FiveLayerPerceptronAdaGrad(**vals)\n",
    "%time nn_quad_7.fit(X_train.to_numpy(), y_train, print_progress=50)\n",
    "yhat_7 = nn_quad_7.predict(X_test.to_numpy())\n",
    "print(f'The accuracy is: {accuracy_score(y_test, yhat_7)}')"
   ]
  },
  {
   "cell_type": "code",
   "execution_count": 38,
   "id": "b7a221b9",
   "metadata": {},
   "outputs": [
    {
     "data": {
      "image/png": "[encoded data removed]",
      "text/plain": [
       "<Figure size 432x288 with 1 Axes>"
      ]
     },
     "metadata": {
      "needs_background": "light"
     },
     "output_type": "display_data"
    }
   ],
   "source": [
    "ax = plt.subplot(1, 1, 1)\n",
    "for i in range(len(nn_quad_7.grad_total)):\n",
    "    plt.plot(np.abs(nn_quad_7.grad_total[i]), label=f'w{i+1}')\n",
    "plt.legend()\n",
    "plt.title('The average gradient magnitude VS Epochs')\n",
    "plt.ylabel('The average gradient magnitude')\n",
    "plt.xlabel('The epochs')\n",
    "plt.show()"
   ]
  },
  {
   "cell_type": "code",
   "execution_count": 39,
   "id": "ebf07d98",
   "metadata": {},
   "outputs": [
    {
     "name": "stdout",
     "output_type": "stream",
     "text": [
      "The model 6 & the model 7: chi-squared 0.03026634382566586\n"
     ]
    }
   ],
   "source": [
    "tb_67 = mcnemar_table(y_target=y_test, \n",
    "                   y_model1=yhat_6, \n",
    "                   y_model2=yhat_7)\n",
    "chi2_67, _ = mcnemar(ary=tb_67, corrected=True)\n",
    "print(f'The model 6 & the model 7: chi-squared {chi2_67}')"
   ]
  },
  {
   "cell_type": "markdown",
   "id": "af3a81f1",
   "metadata": {},
   "source": [
    "&emsp; The chi-squared value is less to 6.635, so the difference in performance between the five-layer model and the five-layer model with AdaGrad is small. As a result, the five-layer model is similar to the five-layer model with AdaGrad."
   ]
  },
  {
   "cell_type": "markdown",
   "id": "6bfdf2b2",
   "metadata": {},
   "source": [
    "&emsp; From the chi-squared value shown above, we can conduct that there is little performance difference between five layer model with and without the adaptive learning strategy. However, from the 'The average gradient magnitude VS Epochs' graph, we only need approximately 10 epochs to obtain a stable average gradient magnitude if we implement an adaptive learning technique in five layer model. If we don't implement an adaptive learning technique, the average gradient magnitude will be ripidly changed around 20 epochs. It represents that there will be less epochs required to obtain stable high accuracy if we implement an adaptive learning technique in five layer model."
   ]
  },
  {
   "cell_type": "markdown",
   "id": "45a589ec",
   "metadata": {},
   "source": [
    "## 4. Exceptional Work:"
   ]
  },
  {
   "cell_type": "markdown",
   "id": "315ecff9",
   "metadata": {},
   "source": [
    "&emsp; Because of:\n",
    "\n",
    "$$ \\mathbf{M}_{k} = {β}_{1} \\mathbf{M}_{k-1} + (1 - {β}_{1}) ∇J(\\mathbf{W}_{k}) $$\n",
    "$$ \\mathbf{V}_{k} = {β}_{2} \\mathbf{V}_{k-1} + (1 - {β}_{2}) ∇J(\\mathbf{W}_{k})⊙∇J(\\mathbf{W}_{k})$$\n",
    "$$ \\mathbf{\\hat{M}}_{k} = \\frac{\\mathbf{M}_{k}}{1 - β_{1}^{k}} $$\n",
    "$$ \\mathbf{\\hat{V}}_{k} = \\frac{\\mathbf{V}_{k}}{1 - β_{2}^{k}} $$\n",
    "$$ \\mathbf{W}_{k} = \\mathbf{W}_{k-1} - η \\frac{\\mathbf{\\hat{M}}_{k}}{\\sqrt{\\mathbf{\\hat{V}}_{k}+ϵ}} $$\n",
    "\n",
    "&emsp; Where:\n",
    "\n",
    "$$ {β}_{1} = 0.9 $$\n",
    "$$ {β}_{2} = 0.999 $$\n",
    "$$ {ϵ} = {10}^{-8} $$"
   ]
  },
  {
   "cell_type": "code",
   "execution_count": 40,
   "id": "229b6a8d",
   "metadata": {},
   "outputs": [],
   "source": [
    "class FiveLayerPerceptronAdaM(FiveLayerPerceptron):\n",
    "    def __init__(self, **kwds):\n",
    "        super().__init__(**kwds)\n",
    "\n",
    "    def fit(self, X, y, print_progress=False, XY_test=None):\n",
    "        \"\"\" Learn weights from training data. With mini-batch\"\"\"\n",
    "        X_data, y_data = X.copy(), y.copy()\n",
    "        Y_enc = self._encode_labels(y)\n",
    "        \n",
    "        # init weights and setup matrices\n",
    "        self.n_features_ = X_data.shape[1]\n",
    "        self.n_output_ = Y_enc.shape[0]\n",
    "        self.W1, self.W2, self.W3 ,self.W4 ,self.W5 = self._initialize_weights()\n",
    "\n",
    "        m_1 = np.zeros(self.W1.shape)\n",
    "        m_2 = np.zeros(self.W2.shape)\n",
    "        m_3 = np.zeros(self.W3.shape)\n",
    "        m_4 = np.zeros(self.W4.shape)\n",
    "        m_5 = np.zeros(self.W5.shape)\n",
    "        \n",
    "        v_1 = np.zeros(self.W1.shape)\n",
    "        v_2 = np.zeros(self.W2.shape)\n",
    "        v_3 = np.zeros(self.W3.shape)\n",
    "        v_4 = np.zeros(self.W4.shape)\n",
    "        v_5 = np.zeros(self.W5.shape)\n",
    "        \n",
    "        beta_1 = 0.9\n",
    "        beta_2 = 0.999\n",
    "        current_epsilon = 1e-8\n",
    "        current_K = 1\n",
    "\n",
    "        self.cost_ = []\n",
    "        self.score_ = []\n",
    "        # get starting acc\n",
    "        self.score_.append(accuracy_score(y_data,self.predict(X_data)))\n",
    "        \n",
    "        self.grad_W1, self.grad_W2, self.grad_W3, self.grad_W4, self.grad_W5 = [], [], [], [], []\n",
    "        self.grad_total = []\n",
    "        \n",
    "        # keep track of validation, if given\n",
    "        if XY_test is not None:\n",
    "            X_test = XY_test[0].copy()\n",
    "            y_test = XY_test[1].copy()\n",
    "            self.val_score_ = []\n",
    "            self.val_score_.append(accuracy_score(y_test,self.predict(X_test)))\n",
    "            \n",
    "        for i in range(self.epochs):\n",
    "\n",
    "            # adaptive learning rate\n",
    "            # \\frac{\\eta}{1+\\epsilon\\cdot k}\n",
    "            eta = self.eta / (1 + self.decrease_const*i)\n",
    "\n",
    "            if print_progress>0 and (i+1)%print_progress==0:\n",
    "                sys.stderr.write('\\rEpoch: %d/%d' % (i+1, self.epochs))\n",
    "                sys.stderr.flush()\n",
    "\n",
    "            if self.shuffle:\n",
    "                idx_shuffle = np.random.permutation(y_data.shape[0])\n",
    "                X_data, Y_enc, y_data = X_data[idx_shuffle], Y_enc[:, idx_shuffle], y_data[idx_shuffle]\n",
    "\n",
    "            mini = np.array_split(range(y_data.shape[0]), self.minibatches)\n",
    "            mini_cost = []\n",
    "            \n",
    "            grad_current_W1, grad_current_W2, grad_current_W3, grad_current_W4, grad_current_W5 = [], [], [], [], []\n",
    "                                            \n",
    "            for idx in mini:\n",
    "\n",
    "                # feedforward\n",
    "                A1, Z1, A2, Z2, A3, Z3, A4, Z4, A5, Z5, A6 = self._feedforward(X_data[idx],\n",
    "                                                                               self.W1,\n",
    "                                                                               self.W2,\n",
    "                                                                               self.W3,\n",
    "                                                                               self.W4,\n",
    "                                                                               self.W5)\n",
    "                \n",
    "                cost = self._cost(A6,Y_enc[:, idx],self.W1,self.W2,self.W3,self.W4,self.W5)\n",
    "                mini_cost.append(cost) # this appends cost of mini-batch only\n",
    "\n",
    "                # compute gradient via backpropagation\n",
    "                grad1, grad2, grad3, grad4, grad5 = self._get_gradient(A1=A1, A2=A2, A3=A3, A4=A4, A5=A5, A6=A6, \n",
    "                                                         Z1=Z1, Z2=Z2, Z3=Z3, Z4=Z4, Z5=Z5,\n",
    "                                                         Y_enc=Y_enc[:, idx],\n",
    "                                                         W1=self.W1,W2=self.W2,W3=self.W3,W4=self.W4,W5=self.W5)\n",
    "                \n",
    "                m_1 = beta_1 * m_1 + (1 - beta_1) * grad1\n",
    "                v_1 = beta_2 * v_1 + (1 - beta_2) * (grad1 ** 2)\n",
    "                m_1_eval = m_1 / (1 - (beta_1 ** current_K))\n",
    "                v_1_eval = v_1 / (1 - (beta_2 ** current_K))\n",
    "                self.W1 -= self.eta * m_1_eval / np.sqrt(v_1_eval + current_epsilon)\n",
    "                \n",
    "                m_2 = beta_1 * m_2 + (1 - beta_1) * grad2\n",
    "                v_2 = beta_2 * v_2 + (1 - beta_2) * (grad2 ** 2)\n",
    "                m_2_eval = m_2 / (1 - (beta_1 ** current_K))\n",
    "                v_2_eval = v_2 / (1 - (beta_2 ** current_K))\n",
    "                self.W2 -= self.eta * m_2_eval / np.sqrt(v_2_eval + current_epsilon)\n",
    "                \n",
    "                m_3 = beta_1 * m_3 + (1 - beta_1) * grad3\n",
    "                v_3 = beta_2 * v_3 + (1 - beta_2) * (grad3 ** 2)\n",
    "                m_3_eval = m_3 / (1 - (beta_1 ** current_K))\n",
    "                v_3_eval = v_3 / (1 - (beta_2 ** current_K))\n",
    "                self.W3 -= self.eta * m_3_eval / np.sqrt(v_3_eval + current_epsilon)\n",
    "                \n",
    "                m_4 = beta_1 * m_4 + (1 - beta_1) * grad4\n",
    "                v_4 = beta_2 * v_4 + (1 - beta_2) * (grad4 ** 2)\n",
    "                m_4_eval = m_4 / (1 - (beta_1 ** current_K))\n",
    "                v_4_eval = v_4 / (1 - (beta_2 ** current_K))\n",
    "                self.W4 -= self.eta * m_4_eval / np.sqrt(v_4_eval + current_epsilon)\n",
    "                \n",
    "                m_5 = beta_1 * m_5 + (1 - beta_1) * grad5\n",
    "                v_5 = beta_2 * v_5 + (1 - beta_2) * (grad5 ** 2)\n",
    "                m_5_eval = m_5 / (1 - (beta_1 ** current_K))\n",
    "                v_5_eval = v_5 / (1 - (beta_2 ** current_K))\n",
    "                self.W5 -= self.eta * m_5_eval / np.sqrt(v_5_eval + current_epsilon)\n",
    "                \n",
    "                current_K += 1\n",
    "                \n",
    "                grad_current_W1.append(np.mean(np.abs(grad1)))\n",
    "                grad_current_W2.append(np.mean(np.abs(grad2)))\n",
    "                grad_current_W3.append(np.mean(np.abs(grad3)))\n",
    "                grad_current_W4.append(np.mean(np.abs(grad4)))\n",
    "                grad_current_W5.append(np.mean(np.abs(grad5)))\n",
    "\n",
    "            self.cost_.append(mini_cost)\n",
    "            self.score_.append(accuracy_score(y_data,self.predict(X_data)))\n",
    "            if XY_test is not None:\n",
    "                self.val_score_.append(accuracy_score(y_test,self.predict(X_test)))\n",
    "            \n",
    "            self.grad_W1.append(np.mean(np.abs(grad_current_W1)))\n",
    "            self.grad_W2.append(np.mean(np.abs(grad_current_W2)))\n",
    "            self.grad_W3.append(np.mean(np.abs(grad_current_W3)))\n",
    "            self.grad_W4.append(np.mean(np.abs(grad_current_W4)))\n",
    "            self.grad_W5.append(np.mean(np.abs(grad_current_W5)))\n",
    "        \n",
    "        self.grad_total.append(self.grad_W1)\n",
    "        self.grad_total.append(self.grad_W2)\n",
    "        self.grad_total.append(self.grad_W3)\n",
    "        self.grad_total.append(self.grad_W4)\n",
    "        self.grad_total.append(self.grad_W5)\n",
    "            \n",
    "        return self"
   ]
  },
  {
   "cell_type": "code",
   "execution_count": 41,
   "id": "83ced5f8",
   "metadata": {},
   "outputs": [],
   "source": [
    "vals = { 'n_hidden':50, \n",
    "         'C':0.1, 'epochs':100, 'eta':0.001, \n",
    "         'alpha':0.01, 'decrease_const':0.1, 'minibatches':100,\n",
    "         'shuffle':True,'random_state':1}"
   ]
  },
  {
   "cell_type": "code",
   "execution_count": 42,
   "id": "f278a52f",
   "metadata": {},
   "outputs": [
    {
     "name": "stderr",
     "output_type": "stream",
     "text": [
      "Epoch: 100/100"
     ]
    },
    {
     "name": "stdout",
     "output_type": "stream",
     "text": [
      "CPU times: total: 2min 42s\n",
      "Wall time: 1min 19s\n",
      "The accuracy is: 0.7317794279427943\n"
     ]
    }
   ],
   "source": [
    "nn_quad_8 = FiveLayerPerceptronAdaM(**vals)\n",
    "%time nn_quad_8.fit(X_train.to_numpy(), y_train, print_progress=50)\n",
    "yhat_8 = nn_quad_8.predict(X_test.to_numpy())\n",
    "print(f'The accuracy is: {accuracy_score(y_test, yhat_8)}')"
   ]
  },
  {
   "cell_type": "code",
   "execution_count": 43,
   "id": "b7ca52fc",
   "metadata": {},
   "outputs": [
    {
     "data": {
      "image/png": "[encoded data removed]",
      "text/plain": [
       "<Figure size 432x288 with 1 Axes>"
      ]
     },
     "metadata": {
      "needs_background": "light"
     },
     "output_type": "display_data"
    }
   ],
   "source": [
    "ax = plt.subplot(1, 1, 1)\n",
    "for i in range(len(nn_quad_8.grad_total)):\n",
    "    plt.plot(np.abs(nn_quad_8.grad_total[i]), label=f'w{i+1}')\n",
    "plt.legend()\n",
    "plt.title('The average gradient magnitude VS Epochs')\n",
    "plt.ylabel('The average gradient magnitude')\n",
    "plt.xlabel('The epochs')\n",
    "plt.show()"
   ]
  },
  {
   "cell_type": "code",
   "execution_count": 44,
   "id": "a3081179",
   "metadata": {},
   "outputs": [
    {
     "name": "stdout",
     "output_type": "stream",
     "text": [
      "The model 7 & the model 8: chi-squared 0.07492354740061162\n"
     ]
    }
   ],
   "source": [
    "tb_68 = mcnemar_table(y_target=y_test, \n",
    "                   y_model1=yhat_6, \n",
    "                   y_model2=yhat_8)\n",
    "chi2_68, _ = mcnemar(ary=tb_68, corrected=True)\n",
    "print(f'The model 7 & the model 8: chi-squared {chi2_68}')"
   ]
  },
  {
   "cell_type": "code",
   "execution_count": 45,
   "id": "c39c59c4",
   "metadata": {},
   "outputs": [
    {
     "name": "stdout",
     "output_type": "stream",
     "text": [
      "The model 7 & the model 8: chi-squared 0.00141643059490085\n"
     ]
    }
   ],
   "source": [
    "tb_78 = mcnemar_table(y_target=y_test, \n",
    "                   y_model1=yhat_7, \n",
    "                   y_model2=yhat_8)\n",
    "chi2_78, _ = mcnemar(ary=tb_78, corrected=True)\n",
    "print(f'The model 7 & the model 8: chi-squared {chi2_78}')"
   ]
  },
  {
   "cell_type": "markdown",
   "id": "f742f144",
   "metadata": {},
   "source": [
    "&emsp; These chi-squared values all are less than 6.635, so the difference in performance among these models is small. As a result, the five-layer model is similar to the five-layer model with AdaGrad and the five-layer model with AdaM."
   ]
  },
  {
   "cell_type": "markdown",
   "id": "a4466870",
   "metadata": {},
   "source": [
    "&emsp; As we can see from the chi-squared value and graph above, it is obvious that there is only small performance difference between five layer model implementing AdaGrad technique and AdaM technique. However, the graph shows that only approximately 5 or 6 epochs is needed to obtain stable average gradient magnitude.Therefore, we can conduct that there will be further less epochs required to obtain stable high accuracy if we implement AdaM in our five layer model instead of implementing AdaGrad."
   ]
  }
 ],
 "metadata": {
  "kernelspec": {
   "display_name": "Python 3 (ipykernel)",
   "language": "python",
   "name": "python3"
  },
  "language_info": {
   "codemirror_mode": {
    "name": "ipython",
    "version": 3
   },
   "file_extension": ".py",
   "mimetype": "text/x-python",
   "name": "python",
   "nbconvert_exporter": "python",
   "pygments_lexer": "ipython3",
   "version": "3.9.12"
  }
 },
 "nbformat": 4,
 "nbformat_minor": 5
}
